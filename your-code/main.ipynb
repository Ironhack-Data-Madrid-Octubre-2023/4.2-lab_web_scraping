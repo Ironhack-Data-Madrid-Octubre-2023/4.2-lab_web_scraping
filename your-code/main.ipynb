{
 "cells": [
  {
   "cell_type": "markdown",
   "metadata": {},
   "source": [
    "# Web Scraping Lab\n",
    "\n",
    "You will find in this notebook some scrapy exercises to practise your scraping skills.\n",
    "\n",
    "**Tips:**\n",
    "\n",
    "- Check the response status code for each request to ensure you have obtained the intended contennt.\n",
    "- Print the response text in each request to understand the kind of info you are getting and its format.\n",
    "- Check for patterns in the response text to extract the data/info requested in each question.\n",
    "- Visit each url and take a look at its source through Chrome DevTools. You'll need to identify the html tags, special class names etc. used for the html content you are expected to extract."
   ]
  },
  {
   "cell_type": "markdown",
   "metadata": {},
   "source": [
    "- [Requests library](http://docs.python-requests.org/en/master/#the-user-guide) documentation \n",
    "- [Beautiful Soup Doc](https://www.crummy.com/software/BeautifulSoup/bs4/doc/)\n",
    "- [Urllib](https://docs.python.org/3/library/urllib.html#module-urllib)\n",
    "- [re lib](https://docs.python.org/3/library/re.html)\n",
    "- [lxml lib](https://lxml.de/)\n",
    "- [Scrapy](https://scrapy.org/)\n",
    "- [List of HTTP status codes](https://en.wikipedia.org/wiki/List_of_HTTP_status_codes)\n",
    "- [HTML basics](http://www.simplehtmlguide.com/cheatsheet.php)\n",
    "- [CSS basics](https://www.cssbasics.com/#page_start)"
   ]
  },
  {
   "cell_type": "markdown",
   "metadata": {},
   "source": [
    "#### Below are the libraries and modules you may need. `requests`,  `BeautifulSoup` and `pandas` are imported for you. If you prefer to use additional libraries feel free to uncomment them."
   ]
  },
  {
   "cell_type": "code",
   "execution_count": 1,
   "metadata": {},
   "outputs": [],
   "source": [
    "import requests\n",
    "from bs4 import BeautifulSoup\n",
    "import pandas as pd\n",
    "# from pprint import pprint\n",
    "# from lxml import html\n",
    "# from lxml.html import fromstring\n",
    "# import urllib.request\n",
    "# from urllib.request import urlopen\n",
    "# import random\n",
    "# import re\n",
    "# import scrapy"
   ]
  },
  {
   "cell_type": "markdown",
   "metadata": {},
   "source": [
    "#### Download, parse (using BeautifulSoup), and print the content from the Trending Developers page from GitHub:"
   ]
  },
  {
   "cell_type": "code",
   "execution_count": 2,
   "metadata": {},
   "outputs": [],
   "source": [
    "# This is the url you will scrape in this exercise\n",
    "url = 'https://github.com/trending/developers'"
   ]
  },
  {
   "cell_type": "code",
   "execution_count": 3,
   "metadata": {
    "scrolled": true
   },
   "outputs": [],
   "source": [
    "#your code\n",
    "\n",
    "html = requests.get(url).content\n",
    "soup = BeautifulSoup(html, \"html.parser\")"
   ]
  },
  {
   "cell_type": "code",
   "execution_count": 36,
   "metadata": {},
   "outputs": [],
   "source": [
    "#soup.find_all(\"div\", class_=\"col-md-6\")"
   ]
  },
  {
   "cell_type": "code",
   "execution_count": 5,
   "metadata": {},
   "outputs": [
    {
     "data": {
      "text/plain": [
       "50"
      ]
     },
     "execution_count": 5,
     "metadata": {},
     "output_type": "execute_result"
    }
   ],
   "source": [
    "len(soup.find_all(\"div\", class_=\"col-md-6\"))"
   ]
  },
  {
   "cell_type": "code",
   "execution_count": 20,
   "metadata": {
    "scrolled": true
   },
   "outputs": [
    {
     "data": {
      "text/plain": [
       "'Pedro Cattori-pcattori'"
      ]
     },
     "execution_count": 20,
     "metadata": {},
     "output_type": "execute_result"
    }
   ],
   "source": [
    "githuber = soup.find_all(\"div\", class_=\"col-md-6\")[10].text.strip().replace(\"\\n \\n\\n\\n              \", \"-\")\n",
    "githuber"
   ]
  },
  {
   "cell_type": "code",
   "execution_count": 29,
   "metadata": {},
   "outputs": [
    {
     "data": {
      "text/plain": [
       "'Chris Banes-chrisbanes'"
      ]
     },
     "execution_count": 29,
     "metadata": {},
     "output_type": "execute_result"
    }
   ],
   "source": [
    "githuber = soup.find_all(\"div\", class_=\"col-md-6\")[2].text.strip().replace(\"\\n \\n\\n\\n              \", \"-\")\n",
    "githuber"
   ]
  },
  {
   "cell_type": "code",
   "execution_count": 37,
   "metadata": {},
   "outputs": [],
   "source": [
    "githubers = soup.find_all(\"div\", class_=\"col-md-6\")\n",
    "#githubers"
   ]
  },
  {
   "cell_type": "code",
   "execution_count": 30,
   "metadata": {},
   "outputs": [
    {
     "data": {
      "text/plain": [
       "['Ismail Pelaseyed-homanp',\n",
       " 'Popular repo\\n\\n\\n\\n\\n\\n      superagent\\n \\n\\n      🥷 The open framework for building AI Assistants',\n",
       " 'Chris Banes-chrisbanes',\n",
       " 'Popular repo\\n\\n\\n\\n\\n\\n      haze\\n \\n\\n      A blurring modifier for Compose',\n",
       " 'Travis Cline-tmc',\n",
       " 'Popular repo\\n\\n\\n\\n\\n\\n      langchaingo\\n \\n\\n      LangChain for Go',\n",
       " 'Xiaoyu Zhang-BBuf',\n",
       " 'Popular repo\\n\\n\\n\\n\\n\\n      tvm_mlir_learn\\n \\n\\n      compiler learning resources collect.',\n",
       " 'Stefan Prodan-stefanprodan',\n",
       " 'Popular repo\\n\\n\\n\\n\\n\\n      timoni\\n \\n\\n      Timoni is a package manager for Kubernetes, powered by CUE and inspired by Helm.',\n",
       " 'Pedro Cattori-pcattori',\n",
       " 'Popular repo\\n\\n\\n\\n\\n\\n      remix-template-vite',\n",
       " 'lllyasviel',\n",
       " 'Popular repo\\n\\n\\n\\n\\n\\n      Fooocus\\n \\n\\n      Focus on prompting and generating',\n",
       " 'Arvin Xu-arvinxx',\n",
       " 'Popular repo\\n\\n\\n\\n\\n\\n      zotero-engine-list\\n \\n\\n      一份实用的 Zotero 检索引擎',\n",
       " 'Howard Wu-howardwu',\n",
       " 'Popular repo\\n\\n\\n\\n\\n\\n      awesome-aleo\\n \\n\\n      🏎️ A curated list of Aleo & Leo code and resources 🏎️',\n",
       " 'Shahed Nasser-shahednasser',\n",
       " 'Popular repo\\n\\n\\n\\n\\n\\n      awesome-resources\\n \\n\\n      😎 List of helpful resources added by the community for the community!',\n",
       " 'Kailash Nadh-knadh',\n",
       " 'Popular repo\\n\\n\\n\\n\\n\\n      listmonk\\n \\n\\n      High performance, self-hosted, newsletter and mailing list manager with a modern dashboard. Single binary app.',\n",
       " 'Mattt-mattt',\n",
       " 'Popular repo\\n\\n\\n\\n\\n\\n      OpenAI\\n \\n\\n      A Swift client for the OpenAI API.',\n",
       " 'kixelated',\n",
       " 'Popular repo\\n\\n\\n\\n\\n\\n      moq-rs\\n \\n\\n      Rust library for Media over QUIC',\n",
       " 'Brad Fitzpatrick-bradfitz',\n",
       " 'Popular repo\\n\\n\\n\\n\\n\\n      issue-tracker-behaviors',\n",
       " 'Miško Hevery-mhevery',\n",
       " 'Popular repo\\n\\n\\n\\n\\n\\n      JavaScriptVM_under_the_hood',\n",
       " 'Andrew Lock-andrewlock',\n",
       " 'Popular repo\\n\\n\\n\\n\\n\\n      NetEscapades.EnumGenerators\\n \\n\\n      A source generator for generating fast \"reflection\" methods for enums',\n",
       " 'Brian Smith-briansmith',\n",
       " 'Popular repo\\n\\n\\n\\n\\n\\n      ring\\n \\n\\n      Safe, fast, small crypto using Rust',\n",
       " 'Numan-numandev1',\n",
       " 'Popular repo\\n\\n\\n\\n\\n\\n      react-native-compressor\\n \\n\\n      🗜️Compress Image, Video, and Audio same like Whatsapp 🚀✨',\n",
       " 'Fons van der Plas-fonsp',\n",
       " 'Popular repo\\n\\n\\n\\n\\n\\n      Pluto.jl\\n \\n\\n      🎈 Simple reactive notebooks for Julia',\n",
       " 'Leonid Bugaev-buger',\n",
       " 'Popular repo\\n\\n\\n\\n\\n\\n      goreplay\\n \\n\\n      GoReplay is an open-source tool for capturing and replaying live HTTP traffic into a test environment in order to continuously test your …',\n",
       " 'wū yāng-uyarn',\n",
       " 'Works for @Tencent\\n\\n\\n\\n\\n@Tencent',\n",
       " 'Steven Nguyen-stnguyen90',\n",
       " 'Popular repo\\n\\n\\n\\n\\n\\n      utopia-php-crud\\n \\n\\n      A demo CRUD app built with Utopia Framework',\n",
       " 'Argo Zhang-ArgoZhang',\n",
       " 'Popular repo\\n\\n\\n\\n\\n\\n      BootstrapAdmin\\n \\n\\n      BootstrapAdmin - Free Premium Admin control Panel Based On Bootstrap 4.x',\n",
       " 'Josh Stein-jcstein',\n",
       " 'Popular repo\\n\\n\\n\\n\\n\\n      node-app\\n \\n\\n      A Celestia node macOS app.',\n",
       " 'Mike McNeil-mikermcneil',\n",
       " 'Works for Fleet (@fleetdm)\\n\\n\\n\\n\\nFleet (@fleetdm)']"
      ]
     },
     "execution_count": 30,
     "metadata": {},
     "output_type": "execute_result"
    }
   ],
   "source": [
    "lst=[]\n",
    "\n",
    "for i in range(len(githubers)):\n",
    "    x = githubers[i].text.strip().replace(\"\\n \\n\\n\\n              \", \"-\")\n",
    "    lst.append(x)\n",
    "\n",
    "lst"
   ]
  },
  {
   "cell_type": "code",
   "execution_count": 38,
   "metadata": {},
   "outputs": [
    {
     "data": {
      "text/plain": [
       "['Ismail Pelaseyed-homanp',\n",
       " 'Travis Cline-tmc',\n",
       " 'Stefan Prodan-stefanprodan',\n",
       " 'lllyasviel',\n",
       " 'Howard Wu-howardwu',\n",
       " 'Kailash Nadh-knadh',\n",
       " 'kixelated',\n",
       " 'Miško Hevery-mhevery',\n",
       " 'Brian Smith-briansmith',\n",
       " 'Fons van der Plas-fonsp',\n",
       " 'wū yāng-uyarn',\n",
       " 'Argo Zhang-ArgoZhang',\n",
       " 'Mike McNeil-mikermcneil']"
      ]
     },
     "execution_count": 38,
     "metadata": {},
     "output_type": "execute_result"
    }
   ],
   "source": [
    "#los nombres y nicks están en los índices pares de la lista; me quedo con ellos y sobreescribo la lista.\n",
    "lst = lst[::2]\n",
    "lst"
   ]
  },
  {
   "cell_type": "code",
   "execution_count": 39,
   "metadata": {},
   "outputs": [
    {
     "data": {
      "text/plain": [
       "'\\n\\n            Ismail Pelaseyed\\n '"
      ]
     },
     "execution_count": 39,
     "metadata": {},
     "output_type": "execute_result"
    }
   ],
   "source": [
    "#otra manera habría sido entrar en h1\n",
    "resultados = soup.find_all(\"h1\", class_=\"h3 lh-condensed\")\n",
    "resultados[0].text"
   ]
  },
  {
   "cell_type": "code",
   "execution_count": 40,
   "metadata": {},
   "outputs": [
    {
     "data": {
      "text/plain": [
       "'Ismail Pelaseyed'"
      ]
     },
     "execution_count": 40,
     "metadata": {},
     "output_type": "execute_result"
    }
   ],
   "source": [
    "name=soup.find_all(\"h1\", class_=\"h3 lh-condensed\")[0].text.strip()\n",
    "name"
   ]
  },
  {
   "cell_type": "code",
   "execution_count": 41,
   "metadata": {},
   "outputs": [
    {
     "data": {
      "text/plain": [
       "'homanp'"
      ]
     },
     "execution_count": 41,
     "metadata": {},
     "output_type": "execute_result"
    }
   ],
   "source": [
    "nickname= soup.find_all(\"a\", class_=\"Link--secondary Link\")[0].text.strip()\n",
    "nickname"
   ]
  },
  {
   "cell_type": "markdown",
   "metadata": {},
   "source": [
    "#### Display the names of the trending developers retrieved in the previous step.\n",
    "\n",
    "Your output should be a Python list of developer names. Each name should not contain any html tag.\n",
    "\n",
    "**Instructions:**\n",
    "\n",
    "1. Find out the html tag and class names used for the developer names. You can achieve this using Chrome DevTools.\n",
    "\n",
    "1. Use BeautifulSoup to extract all the html elements that contain the developer names.\n",
    "\n",
    "1. Use string manipulation techniques to replace whitespaces and linebreaks (i.e. `\\n`) in the *text* of each html element. Use a list to store the clean names.\n",
    "\n",
    "1. Print the list of names.\n",
    "\n",
    "Your output should look like below:\n",
    "\n",
    "```\n",
    "['trimstray (@trimstray)',\n",
    " 'joewalnes (JoeWalnes)',\n",
    " 'charlax (Charles-AxelDein)',\n",
    " 'ForrestKnight (ForrestKnight)',\n",
    " 'revery-ui (revery-ui)',\n",
    " 'alibaba (Alibaba)',\n",
    " 'Microsoft (Microsoft)',\n",
    " 'github (GitHub)',\n",
    " 'facebook (Facebook)',\n",
    " 'boazsegev (Bo)',\n",
    " 'google (Google)',\n",
    " 'cloudfetch',\n",
    " 'sindresorhus (SindreSorhus)',\n",
    " 'tensorflow',\n",
    " 'apache (TheApacheSoftwareFoundation)',\n",
    " 'DevonCrawford (DevonCrawford)',\n",
    " 'ARMmbed (ArmMbed)',\n",
    " 'vuejs (vuejs)',\n",
    " 'fastai (fast.ai)',\n",
    " 'QiShaoXuan (Qi)',\n",
    " 'joelparkerhenderson (JoelParkerHenderson)',\n",
    " 'torvalds (LinusTorvalds)',\n",
    " 'CyC2018',\n",
    " 'komeiji-satori (神楽坂覚々)',\n",
    " 'script-8']\n",
    " ```"
   ]
  },
  {
   "cell_type": "code",
   "execution_count": null,
   "metadata": {},
   "outputs": [],
   "source": [
    "#your code"
   ]
  },
  {
   "cell_type": "markdown",
   "metadata": {},
   "source": [
    "#### Display the trending Python repositories in GitHub\n",
    "\n",
    "The steps to solve this problem is similar to the previous one except that you need to find out the repository names instead of developer names."
   ]
  },
  {
   "cell_type": "code",
   "execution_count": 42,
   "metadata": {},
   "outputs": [],
   "source": [
    "# This is the url you will scrape in this exercise\n",
    "url = 'https://github.com/trending/python?since=daily'"
   ]
  },
  {
   "cell_type": "code",
   "execution_count": 43,
   "metadata": {},
   "outputs": [],
   "source": [
    "#your code\n",
    "\n",
    "html = requests.get(url).content\n",
    "soup = BeautifulSoup(html, \"html.parser\")"
   ]
  },
  {
   "cell_type": "code",
   "execution_count": 44,
   "metadata": {},
   "outputs": [
    {
     "data": {
      "text/plain": [
       "[<h2 class=\"h3 lh-condensed\">\n",
       " <a class=\"Link\" data-hydro-click='{\"event_type\":\"explore.click\",\"payload\":{\"click_context\":\"TRENDING_REPOSITORIES_PAGE\",\"click_target\":\"REPOSITORY\",\"click_visual_representation\":\"REPOSITORY_NAME_HEADING\",\"actor_id\":null,\"record_id\":684031003,\"originating_url\":\"https://github.com/trending/python?since=daily\",\"user_id\":null}}' data-hydro-click-hmac=\"23e82c3e317be8a30b6a77e1ef3644a2ade851648662f7f7227ad637ce37c133\" data-view-component=\"true\" href=\"/dataelement/bisheng\">\n",
       " <svg aria-hidden=\"true\" class=\"octicon octicon-repo mr-1 color-fg-muted\" data-view-component=\"true\" height=\"16\" version=\"1.1\" viewbox=\"0 0 16 16\" width=\"16\">\n",
       " <path d=\"M2 2.5A2.5 2.5 0 0 1 4.5 0h8.75a.75.75 0 0 1 .75.75v12.5a.75.75 0 0 1-.75.75h-2.5a.75.75 0 0 1 0-1.5h1.75v-2h-8a1 1 0 0 0-.714 1.7.75.75 0 1 1-1.072 1.05A2.495 2.495 0 0 1 2 11.5Zm10.5-1h-8a1 1 0 0 0-1 1v6.708A2.486 2.486 0 0 1 4.5 9h8ZM5 12.25a.25.25 0 0 1 .25-.25h3.5a.25.25 0 0 1 .25.25v3.25a.25.25 0 0 1-.4.2l-1.45-1.087a.249.249 0 0 0-.3 0L5.4 15.7a.25.25 0 0 1-.4-.2Z\"></path>\n",
       " </svg>\n",
       " <span class=\"text-normal\" data-view-component=\"true\">\n",
       "         dataelement /\n",
       " </span>\n",
       "       bisheng\n",
       " </a> </h2>,\n",
       " <h2 class=\"h3 lh-condensed\">\n",
       " <a class=\"Link\" data-hydro-click='{\"event_type\":\"explore.click\",\"payload\":{\"click_context\":\"TRENDING_REPOSITORIES_PAGE\",\"click_target\":\"REPOSITORY\",\"click_visual_representation\":\"REPOSITORY_NAME_HEADING\",\"actor_id\":null,\"record_id\":474839179,\"originating_url\":\"https://github.com/trending/python?since=daily\",\"user_id\":null}}' data-hydro-click-hmac=\"852c621dd6f95989272fa9febda91d84256e6eaebeb1ca1d6b03da3e60d59426\" data-view-component=\"true\" href=\"/hiroi-sora/Umi-OCR\">\n",
       " <svg aria-hidden=\"true\" class=\"octicon octicon-repo mr-1 color-fg-muted\" data-view-component=\"true\" height=\"16\" version=\"1.1\" viewbox=\"0 0 16 16\" width=\"16\">\n",
       " <path d=\"M2 2.5A2.5 2.5 0 0 1 4.5 0h8.75a.75.75 0 0 1 .75.75v12.5a.75.75 0 0 1-.75.75h-2.5a.75.75 0 0 1 0-1.5h1.75v-2h-8a1 1 0 0 0-.714 1.7.75.75 0 1 1-1.072 1.05A2.495 2.495 0 0 1 2 11.5Zm10.5-1h-8a1 1 0 0 0-1 1v6.708A2.486 2.486 0 0 1 4.5 9h8ZM5 12.25a.25.25 0 0 1 .25-.25h3.5a.25.25 0 0 1 .25.25v3.25a.25.25 0 0 1-.4.2l-1.45-1.087a.249.249 0 0 0-.3 0L5.4 15.7a.25.25 0 0 1-.4-.2Z\"></path>\n",
       " </svg>\n",
       " <span class=\"text-normal\" data-view-component=\"true\">\n",
       "         hiroi-sora /\n",
       " </span>\n",
       "       Umi-OCR\n",
       " </a> </h2>,\n",
       " <h2 class=\"h3 lh-condensed\">\n",
       " <a class=\"Link\" data-hydro-click='{\"event_type\":\"explore.click\",\"payload\":{\"click_context\":\"TRENDING_REPOSITORIES_PAGE\",\"click_target\":\"REPOSITORY\",\"click_visual_representation\":\"REPOSITORY_NAME_HEADING\",\"actor_id\":null,\"record_id\":490985210,\"originating_url\":\"https://github.com/trending/python?since=daily\",\"user_id\":null}}' data-hydro-click-hmac=\"808f90f602bde98ac6e66254b47f6b5734765e4245f1ecef26b72aa5d6c6af63\" data-view-component=\"true\" href=\"/public-apis-dev/public-apis\">\n",
       " <svg aria-hidden=\"true\" class=\"octicon octicon-repo mr-1 color-fg-muted\" data-view-component=\"true\" height=\"16\" version=\"1.1\" viewbox=\"0 0 16 16\" width=\"16\">\n",
       " <path d=\"M2 2.5A2.5 2.5 0 0 1 4.5 0h8.75a.75.75 0 0 1 .75.75v12.5a.75.75 0 0 1-.75.75h-2.5a.75.75 0 0 1 0-1.5h1.75v-2h-8a1 1 0 0 0-.714 1.7.75.75 0 1 1-1.072 1.05A2.495 2.495 0 0 1 2 11.5Zm10.5-1h-8a1 1 0 0 0-1 1v6.708A2.486 2.486 0 0 1 4.5 9h8ZM5 12.25a.25.25 0 0 1 .25-.25h3.5a.25.25 0 0 1 .25.25v3.25a.25.25 0 0 1-.4.2l-1.45-1.087a.249.249 0 0 0-.3 0L5.4 15.7a.25.25 0 0 1-.4-.2Z\"></path>\n",
       " </svg>\n",
       " <span class=\"text-normal\" data-view-component=\"true\">\n",
       "         public-apis-dev /\n",
       " </span>\n",
       "       public-apis\n",
       " </a> </h2>,\n",
       " <h2 class=\"h3 lh-condensed\">\n",
       " <a class=\"Link\" data-hydro-click='{\"event_type\":\"explore.click\",\"payload\":{\"click_context\":\"TRENDING_REPOSITORIES_PAGE\",\"click_target\":\"REPOSITORY\",\"click_visual_representation\":\"REPOSITORY_NAME_HEADING\",\"actor_id\":null,\"record_id\":710159073,\"originating_url\":\"https://github.com/trending/python?since=daily\",\"user_id\":null}}' data-hydro-click-hmac=\"75cf4525b538957eec15314af24b9ad439f35dcb2ecd2205e74ee4889fda4377\" data-view-component=\"true\" href=\"/THUDM/ChatGLM3\">\n",
       " <svg aria-hidden=\"true\" class=\"octicon octicon-repo mr-1 color-fg-muted\" data-view-component=\"true\" height=\"16\" version=\"1.1\" viewbox=\"0 0 16 16\" width=\"16\">\n",
       " <path d=\"M2 2.5A2.5 2.5 0 0 1 4.5 0h8.75a.75.75 0 0 1 .75.75v12.5a.75.75 0 0 1-.75.75h-2.5a.75.75 0 0 1 0-1.5h1.75v-2h-8a1 1 0 0 0-.714 1.7.75.75 0 1 1-1.072 1.05A2.495 2.495 0 0 1 2 11.5Zm10.5-1h-8a1 1 0 0 0-1 1v6.708A2.486 2.486 0 0 1 4.5 9h8ZM5 12.25a.25.25 0 0 1 .25-.25h3.5a.25.25 0 0 1 .25.25v3.25a.25.25 0 0 1-.4.2l-1.45-1.087a.249.249 0 0 0-.3 0L5.4 15.7a.25.25 0 0 1-.4-.2Z\"></path>\n",
       " </svg>\n",
       " <span class=\"text-normal\" data-view-component=\"true\">\n",
       "         THUDM /\n",
       " </span>\n",
       "       ChatGLM3\n",
       " </a> </h2>,\n",
       " <h2 class=\"h3 lh-condensed\">\n",
       " <a class=\"Link\" data-hydro-click='{\"event_type\":\"explore.click\",\"payload\":{\"click_context\":\"TRENDING_REPOSITORIES_PAGE\",\"click_target\":\"REPOSITORY\",\"click_visual_representation\":\"REPOSITORY_NAME_HEADING\",\"actor_id\":null,\"record_id\":84533158,\"originating_url\":\"https://github.com/trending/python?since=daily\",\"user_id\":null}}' data-hydro-click-hmac=\"773540e23f7d2b49b889372c58ad215a9bd63aef45e8fd34889d03cc04feead8\" data-view-component=\"true\" href=\"/yunjey/pytorch-tutorial\">\n",
       " <svg aria-hidden=\"true\" class=\"octicon octicon-repo mr-1 color-fg-muted\" data-view-component=\"true\" height=\"16\" version=\"1.1\" viewbox=\"0 0 16 16\" width=\"16\">\n",
       " <path d=\"M2 2.5A2.5 2.5 0 0 1 4.5 0h8.75a.75.75 0 0 1 .75.75v12.5a.75.75 0 0 1-.75.75h-2.5a.75.75 0 0 1 0-1.5h1.75v-2h-8a1 1 0 0 0-.714 1.7.75.75 0 1 1-1.072 1.05A2.495 2.495 0 0 1 2 11.5Zm10.5-1h-8a1 1 0 0 0-1 1v6.708A2.486 2.486 0 0 1 4.5 9h8ZM5 12.25a.25.25 0 0 1 .25-.25h3.5a.25.25 0 0 1 .25.25v3.25a.25.25 0 0 1-.4.2l-1.45-1.087a.249.249 0 0 0-.3 0L5.4 15.7a.25.25 0 0 1-.4-.2Z\"></path>\n",
       " </svg>\n",
       " <span class=\"text-normal\" data-view-component=\"true\">\n",
       "         yunjey /\n",
       " </span>\n",
       "       pytorch-tutorial\n",
       " </a> </h2>,\n",
       " <h2 class=\"h3 lh-condensed\">\n",
       " <a class=\"Link\" data-hydro-click='{\"event_type\":\"explore.click\",\"payload\":{\"click_context\":\"TRENDING_REPOSITORIES_PAGE\",\"click_target\":\"REPOSITORY\",\"click_visual_representation\":\"REPOSITORY_NAME_HEADING\",\"actor_id\":null,\"record_id\":155220641,\"originating_url\":\"https://github.com/trending/python?since=daily\",\"user_id\":null}}' data-hydro-click-hmac=\"ea921d573ceb1804c21cdd27f6ad5deff45023c8a84800bf8056f9dec3c4cc1c\" data-view-component=\"true\" href=\"/huggingface/transformers\">\n",
       " <svg aria-hidden=\"true\" class=\"octicon octicon-repo mr-1 color-fg-muted\" data-view-component=\"true\" height=\"16\" version=\"1.1\" viewbox=\"0 0 16 16\" width=\"16\">\n",
       " <path d=\"M2 2.5A2.5 2.5 0 0 1 4.5 0h8.75a.75.75 0 0 1 .75.75v12.5a.75.75 0 0 1-.75.75h-2.5a.75.75 0 0 1 0-1.5h1.75v-2h-8a1 1 0 0 0-.714 1.7.75.75 0 1 1-1.072 1.05A2.495 2.495 0 0 1 2 11.5Zm10.5-1h-8a1 1 0 0 0-1 1v6.708A2.486 2.486 0 0 1 4.5 9h8ZM5 12.25a.25.25 0 0 1 .25-.25h3.5a.25.25 0 0 1 .25.25v3.25a.25.25 0 0 1-.4.2l-1.45-1.087a.249.249 0 0 0-.3 0L5.4 15.7a.25.25 0 0 1-.4-.2Z\"></path>\n",
       " </svg>\n",
       " <span class=\"text-normal\" data-view-component=\"true\">\n",
       "         huggingface /\n",
       " </span>\n",
       "       transformers\n",
       " </a> </h2>,\n",
       " <h2 class=\"h3 lh-condensed\">\n",
       " <a class=\"Link\" data-hydro-click='{\"event_type\":\"explore.click\",\"payload\":{\"click_context\":\"TRENDING_REPOSITORIES_PAGE\",\"click_target\":\"REPOSITORY\",\"click_visual_representation\":\"REPOSITORY_NAME_HEADING\",\"actor_id\":null,\"record_id\":622894885,\"originating_url\":\"https://github.com/trending/python?since=daily\",\"user_id\":null}}' data-hydro-click-hmac=\"3422e1bf426c570bee0c9a1edbb3930fc46457983d3c84a3cad2ae8c76c6411e\" data-view-component=\"true\" href=\"/AILab-CVC/VideoCrafter\">\n",
       " <svg aria-hidden=\"true\" class=\"octicon octicon-repo mr-1 color-fg-muted\" data-view-component=\"true\" height=\"16\" version=\"1.1\" viewbox=\"0 0 16 16\" width=\"16\">\n",
       " <path d=\"M2 2.5A2.5 2.5 0 0 1 4.5 0h8.75a.75.75 0 0 1 .75.75v12.5a.75.75 0 0 1-.75.75h-2.5a.75.75 0 0 1 0-1.5h1.75v-2h-8a1 1 0 0 0-.714 1.7.75.75 0 1 1-1.072 1.05A2.495 2.495 0 0 1 2 11.5Zm10.5-1h-8a1 1 0 0 0-1 1v6.708A2.486 2.486 0 0 1 4.5 9h8ZM5 12.25a.25.25 0 0 1 .25-.25h3.5a.25.25 0 0 1 .25.25v3.25a.25.25 0 0 1-.4.2l-1.45-1.087a.249.249 0 0 0-.3 0L5.4 15.7a.25.25 0 0 1-.4-.2Z\"></path>\n",
       " </svg>\n",
       " <span class=\"text-normal\" data-view-component=\"true\">\n",
       "         AILab-CVC /\n",
       " </span>\n",
       "       VideoCrafter\n",
       " </a> </h2>,\n",
       " <h2 class=\"h3 lh-condensed\">\n",
       " <a class=\"Link\" data-hydro-click='{\"event_type\":\"explore.click\",\"payload\":{\"click_context\":\"TRENDING_REPOSITORIES_PAGE\",\"click_target\":\"REPOSITORY\",\"click_visual_representation\":\"REPOSITORY_NAME_HEADING\",\"actor_id\":null,\"record_id\":71220757,\"originating_url\":\"https://github.com/trending/python?since=daily\",\"user_id\":null}}' data-hydro-click-hmac=\"4737f130b24e4e747ef0c4c28c19aea64e39c6503f5c26236389f3ce54a5776c\" data-view-component=\"true\" href=\"/swisskyrepo/PayloadsAllTheThings\">\n",
       " <svg aria-hidden=\"true\" class=\"octicon octicon-repo mr-1 color-fg-muted\" data-view-component=\"true\" height=\"16\" version=\"1.1\" viewbox=\"0 0 16 16\" width=\"16\">\n",
       " <path d=\"M2 2.5A2.5 2.5 0 0 1 4.5 0h8.75a.75.75 0 0 1 .75.75v12.5a.75.75 0 0 1-.75.75h-2.5a.75.75 0 0 1 0-1.5h1.75v-2h-8a1 1 0 0 0-.714 1.7.75.75 0 1 1-1.072 1.05A2.495 2.495 0 0 1 2 11.5Zm10.5-1h-8a1 1 0 0 0-1 1v6.708A2.486 2.486 0 0 1 4.5 9h8ZM5 12.25a.25.25 0 0 1 .25-.25h3.5a.25.25 0 0 1 .25.25v3.25a.25.25 0 0 1-.4.2l-1.45-1.087a.249.249 0 0 0-.3 0L5.4 15.7a.25.25 0 0 1-.4-.2Z\"></path>\n",
       " </svg>\n",
       " <span class=\"text-normal\" data-view-component=\"true\">\n",
       "         swisskyrepo /\n",
       " </span>\n",
       "       PayloadsAllTheThings\n",
       " </a> </h2>,\n",
       " <h2 class=\"h3 lh-condensed\">\n",
       " <a class=\"Link\" data-hydro-click='{\"event_type\":\"explore.click\",\"payload\":{\"click_context\":\"TRENDING_REPOSITORIES_PAGE\",\"click_target\":\"REPOSITORY\",\"click_visual_representation\":\"REPOSITORY_NAME_HEADING\",\"actor_id\":null,\"record_id\":83844720,\"originating_url\":\"https://github.com/trending/python?since=daily\",\"user_id\":null}}' data-hydro-click-hmac=\"53c24862deba4aceefdc845daa8c0a2f04280da6b45723952d96a6af987aeb3c\" data-view-component=\"true\" href=\"/ageitgey/face_recognition\">\n",
       " <svg aria-hidden=\"true\" class=\"octicon octicon-repo mr-1 color-fg-muted\" data-view-component=\"true\" height=\"16\" version=\"1.1\" viewbox=\"0 0 16 16\" width=\"16\">\n",
       " <path d=\"M2 2.5A2.5 2.5 0 0 1 4.5 0h8.75a.75.75 0 0 1 .75.75v12.5a.75.75 0 0 1-.75.75h-2.5a.75.75 0 0 1 0-1.5h1.75v-2h-8a1 1 0 0 0-.714 1.7.75.75 0 1 1-1.072 1.05A2.495 2.495 0 0 1 2 11.5Zm10.5-1h-8a1 1 0 0 0-1 1v6.708A2.486 2.486 0 0 1 4.5 9h8ZM5 12.25a.25.25 0 0 1 .25-.25h3.5a.25.25 0 0 1 .25.25v3.25a.25.25 0 0 1-.4.2l-1.45-1.087a.249.249 0 0 0-.3 0L5.4 15.7a.25.25 0 0 1-.4-.2Z\"></path>\n",
       " </svg>\n",
       " <span class=\"text-normal\" data-view-component=\"true\">\n",
       "         ageitgey /\n",
       " </span>\n",
       "       face_recognition\n",
       " </a> </h2>,\n",
       " <h2 class=\"h3 lh-condensed\">\n",
       " <a class=\"Link\" data-hydro-click='{\"event_type\":\"explore.click\",\"payload\":{\"click_context\":\"TRENDING_REPOSITORIES_PAGE\",\"click_target\":\"REPOSITORY\",\"click_visual_representation\":\"REPOSITORY_NAME_HEADING\",\"actor_id\":null,\"record_id\":601538369,\"originating_url\":\"https://github.com/trending/python?since=daily\",\"user_id\":null}}' data-hydro-click-hmac=\"8b1e11cb7b0ef1e4ffe61641332455398c04fd64698c662b8b2f2058764c3ee1\" data-view-component=\"true\" href=\"/facebookresearch/llama\">\n",
       " <svg aria-hidden=\"true\" class=\"octicon octicon-repo mr-1 color-fg-muted\" data-view-component=\"true\" height=\"16\" version=\"1.1\" viewbox=\"0 0 16 16\" width=\"16\">\n",
       " <path d=\"M2 2.5A2.5 2.5 0 0 1 4.5 0h8.75a.75.75 0 0 1 .75.75v12.5a.75.75 0 0 1-.75.75h-2.5a.75.75 0 0 1 0-1.5h1.75v-2h-8a1 1 0 0 0-.714 1.7.75.75 0 1 1-1.072 1.05A2.495 2.495 0 0 1 2 11.5Zm10.5-1h-8a1 1 0 0 0-1 1v6.708A2.486 2.486 0 0 1 4.5 9h8ZM5 12.25a.25.25 0 0 1 .25-.25h3.5a.25.25 0 0 1 .25.25v3.25a.25.25 0 0 1-.4.2l-1.45-1.087a.249.249 0 0 0-.3 0L5.4 15.7a.25.25 0 0 1-.4-.2Z\"></path>\n",
       " </svg>\n",
       " <span class=\"text-normal\" data-view-component=\"true\">\n",
       "         facebookresearch /\n",
       " </span>\n",
       "       llama\n",
       " </a> </h2>,\n",
       " <h2 class=\"h3 lh-condensed\">\n",
       " <a class=\"Link\" data-hydro-click='{\"event_type\":\"explore.click\",\"payload\":{\"click_context\":\"TRENDING_REPOSITORIES_PAGE\",\"click_target\":\"REPOSITORY\",\"click_visual_representation\":\"REPOSITORY_NAME_HEADING\",\"actor_id\":null,\"record_id\":615882673,\"originating_url\":\"https://github.com/trending/python?since=daily\",\"user_id\":null}}' data-hydro-click-hmac=\"bd6b19f0166277d099666689cdc9ddd3bfafc734b8d47cf2ce7dbbe135d786ad\" data-view-component=\"true\" href=\"/lm-sys/FastChat\">\n",
       " <svg aria-hidden=\"true\" class=\"octicon octicon-repo mr-1 color-fg-muted\" data-view-component=\"true\" height=\"16\" version=\"1.1\" viewbox=\"0 0 16 16\" width=\"16\">\n",
       " <path d=\"M2 2.5A2.5 2.5 0 0 1 4.5 0h8.75a.75.75 0 0 1 .75.75v12.5a.75.75 0 0 1-.75.75h-2.5a.75.75 0 0 1 0-1.5h1.75v-2h-8a1 1 0 0 0-.714 1.7.75.75 0 1 1-1.072 1.05A2.495 2.495 0 0 1 2 11.5Zm10.5-1h-8a1 1 0 0 0-1 1v6.708A2.486 2.486 0 0 1 4.5 9h8ZM5 12.25a.25.25 0 0 1 .25-.25h3.5a.25.25 0 0 1 .25.25v3.25a.25.25 0 0 1-.4.2l-1.45-1.087a.249.249 0 0 0-.3 0L5.4 15.7a.25.25 0 0 1-.4-.2Z\"></path>\n",
       " </svg>\n",
       " <span class=\"text-normal\" data-view-component=\"true\">\n",
       "         lm-sys /\n",
       " </span>\n",
       "       FastChat\n",
       " </a> </h2>,\n",
       " <h2 class=\"h3 lh-condensed\">\n",
       " <a class=\"Link\" data-hydro-click='{\"event_type\":\"explore.click\",\"payload\":{\"click_context\":\"TRENDING_REPOSITORIES_PAGE\",\"click_target\":\"REPOSITORY\",\"click_visual_representation\":\"REPOSITORY_NAME_HEADING\",\"actor_id\":null,\"record_id\":65600975,\"originating_url\":\"https://github.com/trending/python?since=daily\",\"user_id\":null}}' data-hydro-click-hmac=\"b8d54371a23e5a5260263bbb1b5c23f843adbd9de84c1921c810687c551c49e1\" data-view-component=\"true\" href=\"/pytorch/pytorch\">\n",
       " <svg aria-hidden=\"true\" class=\"octicon octicon-repo mr-1 color-fg-muted\" data-view-component=\"true\" height=\"16\" version=\"1.1\" viewbox=\"0 0 16 16\" width=\"16\">\n",
       " <path d=\"M2 2.5A2.5 2.5 0 0 1 4.5 0h8.75a.75.75 0 0 1 .75.75v12.5a.75.75 0 0 1-.75.75h-2.5a.75.75 0 0 1 0-1.5h1.75v-2h-8a1 1 0 0 0-.714 1.7.75.75 0 1 1-1.072 1.05A2.495 2.495 0 0 1 2 11.5Zm10.5-1h-8a1 1 0 0 0-1 1v6.708A2.486 2.486 0 0 1 4.5 9h8ZM5 12.25a.25.25 0 0 1 .25-.25h3.5a.25.25 0 0 1 .25.25v3.25a.25.25 0 0 1-.4.2l-1.45-1.087a.249.249 0 0 0-.3 0L5.4 15.7a.25.25 0 0 1-.4-.2Z\"></path>\n",
       " </svg>\n",
       " <span class=\"text-normal\" data-view-component=\"true\">\n",
       "         pytorch /\n",
       " </span>\n",
       "       pytorch\n",
       " </a> </h2>,\n",
       " <h2 class=\"h3 lh-condensed\">\n",
       " <a class=\"Link\" data-hydro-click='{\"event_type\":\"explore.click\",\"payload\":{\"click_context\":\"TRENDING_REPOSITORIES_PAGE\",\"click_target\":\"REPOSITORY\",\"click_visual_representation\":\"REPOSITORY_NAME_HEADING\",\"actor_id\":null,\"record_id\":118861276,\"originating_url\":\"https://github.com/trending/python?since=daily\",\"user_id\":null}}' data-hydro-click-hmac=\"336d68afdd0e0dbc9ac4962299bbf106e87b1500662b6fecf6b216ac65226b82\" data-view-component=\"true\" href=\"/gto76/python-cheatsheet\">\n",
       " <svg aria-hidden=\"true\" class=\"octicon octicon-repo mr-1 color-fg-muted\" data-view-component=\"true\" height=\"16\" version=\"1.1\" viewbox=\"0 0 16 16\" width=\"16\">\n",
       " <path d=\"M2 2.5A2.5 2.5 0 0 1 4.5 0h8.75a.75.75 0 0 1 .75.75v12.5a.75.75 0 0 1-.75.75h-2.5a.75.75 0 0 1 0-1.5h1.75v-2h-8a1 1 0 0 0-.714 1.7.75.75 0 1 1-1.072 1.05A2.495 2.495 0 0 1 2 11.5Zm10.5-1h-8a1 1 0 0 0-1 1v6.708A2.486 2.486 0 0 1 4.5 9h8ZM5 12.25a.25.25 0 0 1 .25-.25h3.5a.25.25 0 0 1 .25.25v3.25a.25.25 0 0 1-.4.2l-1.45-1.087a.249.249 0 0 0-.3 0L5.4 15.7a.25.25 0 0 1-.4-.2Z\"></path>\n",
       " </svg>\n",
       " <span class=\"text-normal\" data-view-component=\"true\">\n",
       "         gto76 /\n",
       " </span>\n",
       "       python-cheatsheet\n",
       " </a> </h2>,\n",
       " <h2 class=\"h3 lh-condensed\">\n",
       " <a class=\"Link\" data-hydro-click='{\"event_type\":\"explore.click\",\"payload\":{\"click_context\":\"TRENDING_REPOSITORIES_PAGE\",\"click_target\":\"REPOSITORY\",\"click_visual_representation\":\"REPOSITORY_NAME_HEADING\",\"actor_id\":null,\"record_id\":235860204,\"originating_url\":\"https://github.com/trending/python?since=daily\",\"user_id\":null}}' data-hydro-click-hmac=\"65d602ac2610ee67684340b6374584b4d1b4b55b86a573491c79e70b7b448522\" data-view-component=\"true\" href=\"/microsoft/DeepSpeed\">\n",
       " <svg aria-hidden=\"true\" class=\"octicon octicon-repo mr-1 color-fg-muted\" data-view-component=\"true\" height=\"16\" version=\"1.1\" viewbox=\"0 0 16 16\" width=\"16\">\n",
       " <path d=\"M2 2.5A2.5 2.5 0 0 1 4.5 0h8.75a.75.75 0 0 1 .75.75v12.5a.75.75 0 0 1-.75.75h-2.5a.75.75 0 0 1 0-1.5h1.75v-2h-8a1 1 0 0 0-.714 1.7.75.75 0 1 1-1.072 1.05A2.495 2.495 0 0 1 2 11.5Zm10.5-1h-8a1 1 0 0 0-1 1v6.708A2.486 2.486 0 0 1 4.5 9h8ZM5 12.25a.25.25 0 0 1 .25-.25h3.5a.25.25 0 0 1 .25.25v3.25a.25.25 0 0 1-.4.2l-1.45-1.087a.249.249 0 0 0-.3 0L5.4 15.7a.25.25 0 0 1-.4-.2Z\"></path>\n",
       " </svg>\n",
       " <span class=\"text-normal\" data-view-component=\"true\">\n",
       "         microsoft /\n",
       " </span>\n",
       "       DeepSpeed\n",
       " </a> </h2>,\n",
       " <h2 class=\"h3 lh-condensed\">\n",
       " <a class=\"Link\" data-hydro-click='{\"event_type\":\"explore.click\",\"payload\":{\"click_context\":\"TRENDING_REPOSITORIES_PAGE\",\"click_target\":\"REPOSITORY\",\"click_visual_representation\":\"REPOSITORY_NAME_HEADING\",\"actor_id\":null,\"record_id\":702834606,\"originating_url\":\"https://github.com/trending/python?since=daily\",\"user_id\":null}}' data-hydro-click-hmac=\"d001cfe41ca82317744b42ed9de0dade1fe053aeec8acd12b46c69ae85de0a00\" data-view-component=\"true\" href=\"/SkyworkAI/Skywork\">\n",
       " <svg aria-hidden=\"true\" class=\"octicon octicon-repo mr-1 color-fg-muted\" data-view-component=\"true\" height=\"16\" version=\"1.1\" viewbox=\"0 0 16 16\" width=\"16\">\n",
       " <path d=\"M2 2.5A2.5 2.5 0 0 1 4.5 0h8.75a.75.75 0 0 1 .75.75v12.5a.75.75 0 0 1-.75.75h-2.5a.75.75 0 0 1 0-1.5h1.75v-2h-8a1 1 0 0 0-.714 1.7.75.75 0 1 1-1.072 1.05A2.495 2.495 0 0 1 2 11.5Zm10.5-1h-8a1 1 0 0 0-1 1v6.708A2.486 2.486 0 0 1 4.5 9h8ZM5 12.25a.25.25 0 0 1 .25-.25h3.5a.25.25 0 0 1 .25.25v3.25a.25.25 0 0 1-.4.2l-1.45-1.087a.249.249 0 0 0-.3 0L5.4 15.7a.25.25 0 0 1-.4-.2Z\"></path>\n",
       " </svg>\n",
       " <span class=\"text-normal\" data-view-component=\"true\">\n",
       "         SkyworkAI /\n",
       " </span>\n",
       "       Skywork\n",
       " </a> </h2>,\n",
       " <h2 class=\"h3 lh-condensed\">\n",
       " <a class=\"Link\" data-hydro-click='{\"event_type\":\"explore.click\",\"payload\":{\"click_context\":\"TRENDING_REPOSITORIES_PAGE\",\"click_target\":\"REPOSITORY\",\"click_visual_representation\":\"REPOSITORY_NAME_HEADING\",\"actor_id\":null,\"record_id\":613349035,\"originating_url\":\"https://github.com/trending/python?since=daily\",\"user_id\":null}}' data-hydro-click-hmac=\"6df1ab26e0ebd00928987e0b7bfd0d1621bd94ab20bd9099b93fda628a7b1ef9\" data-view-component=\"true\" href=\"/THUDM/ChatGLM-6B\">\n",
       " <svg aria-hidden=\"true\" class=\"octicon octicon-repo mr-1 color-fg-muted\" data-view-component=\"true\" height=\"16\" version=\"1.1\" viewbox=\"0 0 16 16\" width=\"16\">\n",
       " <path d=\"M2 2.5A2.5 2.5 0 0 1 4.5 0h8.75a.75.75 0 0 1 .75.75v12.5a.75.75 0 0 1-.75.75h-2.5a.75.75 0 0 1 0-1.5h1.75v-2h-8a1 1 0 0 0-.714 1.7.75.75 0 1 1-1.072 1.05A2.495 2.495 0 0 1 2 11.5Zm10.5-1h-8a1 1 0 0 0-1 1v6.708A2.486 2.486 0 0 1 4.5 9h8ZM5 12.25a.25.25 0 0 1 .25-.25h3.5a.25.25 0 0 1 .25.25v3.25a.25.25 0 0 1-.4.2l-1.45-1.087a.249.249 0 0 0-.3 0L5.4 15.7a.25.25 0 0 1-.4-.2Z\"></path>\n",
       " </svg>\n",
       " <span class=\"text-normal\" data-view-component=\"true\">\n",
       "         THUDM /\n",
       " </span>\n",
       "       ChatGLM-6B\n",
       " </a> </h2>,\n",
       " <h2 class=\"h3 lh-condensed\">\n",
       " <a class=\"Link\" data-hydro-click='{\"event_type\":\"explore.click\",\"payload\":{\"click_context\":\"TRENDING_REPOSITORIES_PAGE\",\"click_target\":\"REPOSITORY\",\"click_visual_representation\":\"REPOSITORY_NAME_HEADING\",\"actor_id\":null,\"record_id\":101782647,\"originating_url\":\"https://github.com/trending/python?since=daily\",\"user_id\":null}}' data-hydro-click-hmac=\"62eaec774aa88fdf75c60ecff92157839bd6e52c05572bd5f9411947a26d8ec5\" data-view-component=\"true\" href=\"/facebookresearch/fairseq\">\n",
       " <svg aria-hidden=\"true\" class=\"octicon octicon-repo mr-1 color-fg-muted\" data-view-component=\"true\" height=\"16\" version=\"1.1\" viewbox=\"0 0 16 16\" width=\"16\">\n",
       " <path d=\"M2 2.5A2.5 2.5 0 0 1 4.5 0h8.75a.75.75 0 0 1 .75.75v12.5a.75.75 0 0 1-.75.75h-2.5a.75.75 0 0 1 0-1.5h1.75v-2h-8a1 1 0 0 0-.714 1.7.75.75 0 1 1-1.072 1.05A2.495 2.495 0 0 1 2 11.5Zm10.5-1h-8a1 1 0 0 0-1 1v6.708A2.486 2.486 0 0 1 4.5 9h8ZM5 12.25a.25.25 0 0 1 .25-.25h3.5a.25.25 0 0 1 .25.25v3.25a.25.25 0 0 1-.4.2l-1.45-1.087a.249.249 0 0 0-.3 0L5.4 15.7a.25.25 0 0 1-.4-.2Z\"></path>\n",
       " </svg>\n",
       " <span class=\"text-normal\" data-view-component=\"true\">\n",
       "         facebookresearch /\n",
       " </span>\n",
       "       fairseq\n",
       " </a> </h2>,\n",
       " <h2 class=\"h3 lh-condensed\">\n",
       " <a class=\"Link\" data-hydro-click='{\"event_type\":\"explore.click\",\"payload\":{\"click_context\":\"TRENDING_REPOSITORIES_PAGE\",\"click_target\":\"REPOSITORY\",\"click_visual_representation\":\"REPOSITORY_NAME_HEADING\",\"actor_id\":null,\"record_id\":649943230,\"originating_url\":\"https://github.com/trending/python?since=daily\",\"user_id\":null}}' data-hydro-click-hmac=\"497903ed1fb695c6ee8570dc5551df63c9e8f41ba262fd33720492c7c3419921\" data-view-component=\"true\" href=\"/Azure-Samples/chat-with-your-data-solution-accelerator\">\n",
       " <svg aria-hidden=\"true\" class=\"octicon octicon-repo mr-1 color-fg-muted\" data-view-component=\"true\" height=\"16\" version=\"1.1\" viewbox=\"0 0 16 16\" width=\"16\">\n",
       " <path d=\"M2 2.5A2.5 2.5 0 0 1 4.5 0h8.75a.75.75 0 0 1 .75.75v12.5a.75.75 0 0 1-.75.75h-2.5a.75.75 0 0 1 0-1.5h1.75v-2h-8a1 1 0 0 0-.714 1.7.75.75 0 1 1-1.072 1.05A2.495 2.495 0 0 1 2 11.5Zm10.5-1h-8a1 1 0 0 0-1 1v6.708A2.486 2.486 0 0 1 4.5 9h8ZM5 12.25a.25.25 0 0 1 .25-.25h3.5a.25.25 0 0 1 .25.25v3.25a.25.25 0 0 1-.4.2l-1.45-1.087a.249.249 0 0 0-.3 0L5.4 15.7a.25.25 0 0 1-.4-.2Z\"></path>\n",
       " </svg>\n",
       " <span class=\"text-normal\" data-view-component=\"true\">\n",
       "         Azure-Samples /\n",
       " </span>\n",
       "       chat-with-your-data-solution-accelerator\n",
       " </a> </h2>,\n",
       " <h2 class=\"h3 lh-condensed\">\n",
       " <a class=\"Link\" data-hydro-click='{\"event_type\":\"explore.click\",\"payload\":{\"click_context\":\"TRENDING_REPOSITORIES_PAGE\",\"click_target\":\"REPOSITORY\",\"click_visual_representation\":\"REPOSITORY_NAME_HEADING\",\"actor_id\":null,\"record_id\":262296122,\"originating_url\":\"https://github.com/trending/python?since=daily\",\"user_id\":null}}' data-hydro-click-hmac=\"935deb67be9487b4c73130e1805ddc39a9c2614659450afd6f121f845ccfc14a\" data-view-component=\"true\" href=\"/PaddlePaddle/PaddleOCR\">\n",
       " <svg aria-hidden=\"true\" class=\"octicon octicon-repo mr-1 color-fg-muted\" data-view-component=\"true\" height=\"16\" version=\"1.1\" viewbox=\"0 0 16 16\" width=\"16\">\n",
       " <path d=\"M2 2.5A2.5 2.5 0 0 1 4.5 0h8.75a.75.75 0 0 1 .75.75v12.5a.75.75 0 0 1-.75.75h-2.5a.75.75 0 0 1 0-1.5h1.75v-2h-8a1 1 0 0 0-.714 1.7.75.75 0 1 1-1.072 1.05A2.495 2.495 0 0 1 2 11.5Zm10.5-1h-8a1 1 0 0 0-1 1v6.708A2.486 2.486 0 0 1 4.5 9h8ZM5 12.25a.25.25 0 0 1 .25-.25h3.5a.25.25 0 0 1 .25.25v3.25a.25.25 0 0 1-.4.2l-1.45-1.087a.249.249 0 0 0-.3 0L5.4 15.7a.25.25 0 0 1-.4-.2Z\"></path>\n",
       " </svg>\n",
       " <span class=\"text-normal\" data-view-component=\"true\">\n",
       "         PaddlePaddle /\n",
       " </span>\n",
       "       PaddleOCR\n",
       " </a> </h2>,\n",
       " <h2 class=\"h3 lh-condensed\">\n",
       " <a class=\"Link\" data-hydro-click='{\"event_type\":\"explore.click\",\"payload\":{\"click_context\":\"TRENDING_REPOSITORIES_PAGE\",\"click_target\":\"REPOSITORY\",\"click_visual_representation\":\"REPOSITORY_NAME_HEADING\",\"actor_id\":null,\"record_id\":612427246,\"originating_url\":\"https://github.com/trending/python?since=daily\",\"user_id\":null}}' data-hydro-click-hmac=\"88ab4e9da0fd5fa7a5765bead3f5ddf5d9e30e026bdc41bb8afb5349abd64985\" data-view-component=\"true\" href=\"/tatsu-lab/stanford_alpaca\">\n",
       " <svg aria-hidden=\"true\" class=\"octicon octicon-repo mr-1 color-fg-muted\" data-view-component=\"true\" height=\"16\" version=\"1.1\" viewbox=\"0 0 16 16\" width=\"16\">\n",
       " <path d=\"M2 2.5A2.5 2.5 0 0 1 4.5 0h8.75a.75.75 0 0 1 .75.75v12.5a.75.75 0 0 1-.75.75h-2.5a.75.75 0 0 1 0-1.5h1.75v-2h-8a1 1 0 0 0-.714 1.7.75.75 0 1 1-1.072 1.05A2.495 2.495 0 0 1 2 11.5Zm10.5-1h-8a1 1 0 0 0-1 1v6.708A2.486 2.486 0 0 1 4.5 9h8ZM5 12.25a.25.25 0 0 1 .25-.25h3.5a.25.25 0 0 1 .25.25v3.25a.25.25 0 0 1-.4.2l-1.45-1.087a.249.249 0 0 0-.3 0L5.4 15.7a.25.25 0 0 1-.4-.2Z\"></path>\n",
       " </svg>\n",
       " <span class=\"text-normal\" data-view-component=\"true\">\n",
       "         tatsu-lab /\n",
       " </span>\n",
       "       stanford_alpaca\n",
       " </a> </h2>,\n",
       " <h2 class=\"h3 lh-condensed\">\n",
       " <a class=\"Link\" data-hydro-click='{\"event_type\":\"explore.click\",\"payload\":{\"click_context\":\"TRENDING_REPOSITORIES_PAGE\",\"click_target\":\"REPOSITORY\",\"click_visual_representation\":\"REPOSITORY_NAME_HEADING\",\"actor_id\":null,\"record_id\":40416236,\"originating_url\":\"https://github.com/trending/python?since=daily\",\"user_id\":null}}' data-hydro-click-hmac=\"ea7b9361d8042a71dbbcfafe0be2161b3c425bcc87ef3521c0e05ef3d578a037\" data-view-component=\"true\" href=\"/minimaxir/big-list-of-naughty-strings\">\n",
       " <svg aria-hidden=\"true\" class=\"octicon octicon-repo mr-1 color-fg-muted\" data-view-component=\"true\" height=\"16\" version=\"1.1\" viewbox=\"0 0 16 16\" width=\"16\">\n",
       " <path d=\"M2 2.5A2.5 2.5 0 0 1 4.5 0h8.75a.75.75 0 0 1 .75.75v12.5a.75.75 0 0 1-.75.75h-2.5a.75.75 0 0 1 0-1.5h1.75v-2h-8a1 1 0 0 0-.714 1.7.75.75 0 1 1-1.072 1.05A2.495 2.495 0 0 1 2 11.5Zm10.5-1h-8a1 1 0 0 0-1 1v6.708A2.486 2.486 0 0 1 4.5 9h8ZM5 12.25a.25.25 0 0 1 .25-.25h3.5a.25.25 0 0 1 .25.25v3.25a.25.25 0 0 1-.4.2l-1.45-1.087a.249.249 0 0 0-.3 0L5.4 15.7a.25.25 0 0 1-.4-.2Z\"></path>\n",
       " </svg>\n",
       " <span class=\"text-normal\" data-view-component=\"true\">\n",
       "         minimaxir /\n",
       " </span>\n",
       "       big-list-of-naughty-strings\n",
       " </a> </h2>,\n",
       " <h2 class=\"h3 lh-condensed\">\n",
       " <a class=\"Link\" data-hydro-click='{\"event_type\":\"explore.click\",\"payload\":{\"click_context\":\"TRENDING_REPOSITORIES_PAGE\",\"click_target\":\"REPOSITORY\",\"click_visual_representation\":\"REPOSITORY_NAME_HEADING\",\"actor_id\":null,\"record_id\":694565231,\"originating_url\":\"https://github.com/trending/python?since=daily\",\"user_id\":null}}' data-hydro-click-hmac=\"1256b2a28c1efc88dde1d343b0e2db0bdb2562c3e0526fd74f6b1e4db44bf0ae\" data-view-component=\"true\" href=\"/safevideo/autollm\">\n",
       " <svg aria-hidden=\"true\" class=\"octicon octicon-repo mr-1 color-fg-muted\" data-view-component=\"true\" height=\"16\" version=\"1.1\" viewbox=\"0 0 16 16\" width=\"16\">\n",
       " <path d=\"M2 2.5A2.5 2.5 0 0 1 4.5 0h8.75a.75.75 0 0 1 .75.75v12.5a.75.75 0 0 1-.75.75h-2.5a.75.75 0 0 1 0-1.5h1.75v-2h-8a1 1 0 0 0-.714 1.7.75.75 0 1 1-1.072 1.05A2.495 2.495 0 0 1 2 11.5Zm10.5-1h-8a1 1 0 0 0-1 1v6.708A2.486 2.486 0 0 1 4.5 9h8ZM5 12.25a.25.25 0 0 1 .25-.25h3.5a.25.25 0 0 1 .25.25v3.25a.25.25 0 0 1-.4.2l-1.45-1.087a.249.249 0 0 0-.3 0L5.4 15.7a.25.25 0 0 1-.4-.2Z\"></path>\n",
       " </svg>\n",
       " <span class=\"text-normal\" data-view-component=\"true\">\n",
       "         safevideo /\n",
       " </span>\n",
       "       autollm\n",
       " </a> </h2>,\n",
       " <h2 class=\"h3 lh-condensed\">\n",
       " <a class=\"Link\" data-hydro-click='{\"event_type\":\"explore.click\",\"payload\":{\"click_context\":\"TRENDING_REPOSITORIES_PAGE\",\"click_target\":\"REPOSITORY\",\"click_visual_representation\":\"REPOSITORY_NAME_HEADING\",\"actor_id\":null,\"record_id\":552661142,\"originating_url\":\"https://github.com/trending/python?since=daily\",\"user_id\":null}}' data-hydro-click-hmac=\"ada190239696924054c2bd1107d0cbf7dced71db707f94a382baeaef22234f95\" data-view-component=\"true\" href=\"/langchain-ai/langchain\">\n",
       " <svg aria-hidden=\"true\" class=\"octicon octicon-repo mr-1 color-fg-muted\" data-view-component=\"true\" height=\"16\" version=\"1.1\" viewbox=\"0 0 16 16\" width=\"16\">\n",
       " <path d=\"M2 2.5A2.5 2.5 0 0 1 4.5 0h8.75a.75.75 0 0 1 .75.75v12.5a.75.75 0 0 1-.75.75h-2.5a.75.75 0 0 1 0-1.5h1.75v-2h-8a1 1 0 0 0-.714 1.7.75.75 0 1 1-1.072 1.05A2.495 2.495 0 0 1 2 11.5Zm10.5-1h-8a1 1 0 0 0-1 1v6.708A2.486 2.486 0 0 1 4.5 9h8ZM5 12.25a.25.25 0 0 1 .25-.25h3.5a.25.25 0 0 1 .25.25v3.25a.25.25 0 0 1-.4.2l-1.45-1.087a.249.249 0 0 0-.3 0L5.4 15.7a.25.25 0 0 1-.4-.2Z\"></path>\n",
       " </svg>\n",
       " <span class=\"text-normal\" data-view-component=\"true\">\n",
       "         langchain-ai /\n",
       " </span>\n",
       "       langchain\n",
       " </a> </h2>,\n",
       " <h2 class=\"h3 lh-condensed\">\n",
       " <a class=\"Link\" data-hydro-click='{\"event_type\":\"explore.click\",\"payload\":{\"click_context\":\"TRENDING_REPOSITORIES_PAGE\",\"click_target\":\"REPOSITORY\",\"click_visual_representation\":\"REPOSITORY_NAME_HEADING\",\"actor_id\":null,\"record_id\":212639071,\"originating_url\":\"https://github.com/trending/python?since=daily\",\"user_id\":null}}' data-hydro-click-hmac=\"5f236fa28110982f16b23522a73bcb74f655b61bd627f5b2d0d23cff176079d0\" data-view-component=\"true\" href=\"/bregman-arie/devops-exercises\">\n",
       " <svg aria-hidden=\"true\" class=\"octicon octicon-repo mr-1 color-fg-muted\" data-view-component=\"true\" height=\"16\" version=\"1.1\" viewbox=\"0 0 16 16\" width=\"16\">\n",
       " <path d=\"M2 2.5A2.5 2.5 0 0 1 4.5 0h8.75a.75.75 0 0 1 .75.75v12.5a.75.75 0 0 1-.75.75h-2.5a.75.75 0 0 1 0-1.5h1.75v-2h-8a1 1 0 0 0-.714 1.7.75.75 0 1 1-1.072 1.05A2.495 2.495 0 0 1 2 11.5Zm10.5-1h-8a1 1 0 0 0-1 1v6.708A2.486 2.486 0 0 1 4.5 9h8ZM5 12.25a.25.25 0 0 1 .25-.25h3.5a.25.25 0 0 1 .25.25v3.25a.25.25 0 0 1-.4.2l-1.45-1.087a.249.249 0 0 0-.3 0L5.4 15.7a.25.25 0 0 1-.4-.2Z\"></path>\n",
       " </svg>\n",
       " <span class=\"text-normal\" data-view-component=\"true\">\n",
       "         bregman-arie /\n",
       " </span>\n",
       "       devops-exercises\n",
       " </a> </h2>,\n",
       " <h2 class=\"h3 lh-condensed\">\n",
       " <a class=\"Link\" data-hydro-click='{\"event_type\":\"explore.click\",\"payload\":{\"click_context\":\"TRENDING_REPOSITORIES_PAGE\",\"click_target\":\"REPOSITORY\",\"click_visual_representation\":\"REPOSITORY_NAME_HEADING\",\"actor_id\":null,\"record_id\":123303402,\"originating_url\":\"https://github.com/trending/python?since=daily\",\"user_id\":null}}' data-hydro-click-hmac=\"2503b9c1018667b49dd02bc577c7f8620ebda32ef9967e9d4714484c7cf96e06\" data-view-component=\"true\" href=\"/python-poetry/poetry\">\n",
       " <svg aria-hidden=\"true\" class=\"octicon octicon-repo mr-1 color-fg-muted\" data-view-component=\"true\" height=\"16\" version=\"1.1\" viewbox=\"0 0 16 16\" width=\"16\">\n",
       " <path d=\"M2 2.5A2.5 2.5 0 0 1 4.5 0h8.75a.75.75 0 0 1 .75.75v12.5a.75.75 0 0 1-.75.75h-2.5a.75.75 0 0 1 0-1.5h1.75v-2h-8a1 1 0 0 0-.714 1.7.75.75 0 1 1-1.072 1.05A2.495 2.495 0 0 1 2 11.5Zm10.5-1h-8a1 1 0 0 0-1 1v6.708A2.486 2.486 0 0 1 4.5 9h8ZM5 12.25a.25.25 0 0 1 .25-.25h3.5a.25.25 0 0 1 .25.25v3.25a.25.25 0 0 1-.4.2l-1.45-1.087a.249.249 0 0 0-.3 0L5.4 15.7a.25.25 0 0 1-.4-.2Z\"></path>\n",
       " </svg>\n",
       " <span class=\"text-normal\" data-view-component=\"true\">\n",
       "         python-poetry /\n",
       " </span>\n",
       "       poetry\n",
       " </a> </h2>]"
      ]
     },
     "execution_count": 44,
     "metadata": {},
     "output_type": "execute_result"
    }
   ],
   "source": [
    "trends = soup.find_all(\"h2\", class_=\"h3 lh-condensed\")\n",
    "trends"
   ]
  },
  {
   "cell_type": "code",
   "execution_count": 45,
   "metadata": {},
   "outputs": [
    {
     "data": {
      "text/plain": [
       "'\\n\\n\\n\\n\\n\\n        dataelement /\\n\\n      bisheng\\n '"
      ]
     },
     "execution_count": 45,
     "metadata": {},
     "output_type": "execute_result"
    }
   ],
   "source": [
    "trends[0].text"
   ]
  },
  {
   "cell_type": "code",
   "execution_count": 46,
   "metadata": {},
   "outputs": [
    {
     "data": {
      "text/plain": [
       "'dataelement-bisheng'"
      ]
     },
     "execution_count": 46,
     "metadata": {},
     "output_type": "execute_result"
    }
   ],
   "source": [
    "trends[0].text.strip().replace(\" /\\n\\n      \", \"-\")"
   ]
  },
  {
   "cell_type": "code",
   "execution_count": 47,
   "metadata": {},
   "outputs": [
    {
     "data": {
      "text/plain": [
       "['dataelement-bisheng',\n",
       " 'hiroi-sora-Umi-OCR',\n",
       " 'public-apis-dev-public-apis',\n",
       " 'THUDM-ChatGLM3',\n",
       " 'yunjey-pytorch-tutorial',\n",
       " 'huggingface-transformers',\n",
       " 'AILab-CVC-VideoCrafter',\n",
       " 'swisskyrepo-PayloadsAllTheThings',\n",
       " 'ageitgey-face_recognition',\n",
       " 'facebookresearch-llama',\n",
       " 'lm-sys-FastChat',\n",
       " 'pytorch-pytorch',\n",
       " 'gto76-python-cheatsheet',\n",
       " 'microsoft-DeepSpeed',\n",
       " 'SkyworkAI-Skywork',\n",
       " 'THUDM-ChatGLM-6B',\n",
       " 'facebookresearch-fairseq',\n",
       " 'Azure-Samples-chat-with-your-data-solution-accelerator',\n",
       " 'PaddlePaddle-PaddleOCR',\n",
       " 'tatsu-lab-stanford_alpaca',\n",
       " 'minimaxir-big-list-of-naughty-strings',\n",
       " 'safevideo-autollm',\n",
       " 'langchain-ai-langchain',\n",
       " 'bregman-arie-devops-exercises',\n",
       " 'python-poetry-poetry']"
      ]
     },
     "execution_count": 47,
     "metadata": {},
     "output_type": "execute_result"
    }
   ],
   "source": [
    "trending_topic = []\n",
    "\n",
    "for t in range(len(trends)):\n",
    "    x =trends[t].text.strip().replace(\" /\\n\\n      \", \"-\")\n",
    "    trending_topic.append(x)\n",
    "\n",
    "trending_topic"
   ]
  },
  {
   "cell_type": "markdown",
   "metadata": {},
   "source": [
    "#### Display all the image links from Walt Disney wikipedia page"
   ]
  },
  {
   "cell_type": "code",
   "execution_count": 48,
   "metadata": {},
   "outputs": [],
   "source": [
    "# This is the url you will scrape in this exercise\n",
    "url = 'https://en.wikipedia.org/wiki/Walt_Disney'"
   ]
  },
  {
   "cell_type": "code",
   "execution_count": 49,
   "metadata": {},
   "outputs": [],
   "source": [
    "#your code\n",
    "\n",
    "html = requests.get(url).content\n",
    "soup = BeautifulSoup(html, \"html.parser\")"
   ]
  },
  {
   "cell_type": "code",
   "execution_count": 50,
   "metadata": {},
   "outputs": [
    {
     "data": {
      "text/plain": [
       "37"
      ]
     },
     "execution_count": 50,
     "metadata": {},
     "output_type": "execute_result"
    }
   ],
   "source": [
    "imgs = soup.findAll(\"img\")\n",
    "len(imgs)"
   ]
  },
  {
   "cell_type": "code",
   "execution_count": 51,
   "metadata": {},
   "outputs": [
    {
     "data": {
      "text/plain": [
       "<img alt=\"\" aria-hidden=\"true\" class=\"mw-logo-icon\" height=\"50\" src=\"/static/images/icons/wikipedia.png\" width=\"50\"/>"
      ]
     },
     "execution_count": 51,
     "metadata": {},
     "output_type": "execute_result"
    }
   ],
   "source": [
    "soup.find_all(\"img\")[0]"
   ]
  },
  {
   "cell_type": "code",
   "execution_count": 52,
   "metadata": {},
   "outputs": [],
   "source": [
    "img_lst = [e.attrs['src'] for e in imgs]"
   ]
  },
  {
   "cell_type": "code",
   "execution_count": 53,
   "metadata": {},
   "outputs": [
    {
     "data": {
      "text/plain": [
       "['/static/images/icons/wikipedia.png',\n",
       " '/static/images/mobile/copyright/wikipedia-wordmark-en.svg',\n",
       " '/static/images/mobile/copyright/wikipedia-tagline-en.svg',\n",
       " '//upload.wikimedia.org/wikipedia/en/thumb/e/e7/Cscr-featured.svg/20px-Cscr-featured.svg.png',\n",
       " '//upload.wikimedia.org/wikipedia/en/thumb/8/8c/Extended-protection-shackle.svg/20px-Extended-protection-shackle.svg.png',\n",
       " '//upload.wikimedia.org/wikipedia/commons/thumb/d/df/Walt_Disney_1946.JPG/220px-Walt_Disney_1946.JPG',\n",
       " '//upload.wikimedia.org/wikipedia/commons/thumb/8/87/Walt_Disney_1942_signature.svg/150px-Walt_Disney_1942_signature.svg.png',\n",
       " '//upload.wikimedia.org/wikipedia/commons/thumb/3/3a/Walt_Disney_Birthplace_Exterior_Hermosa_Chicago_Illinois.jpg/220px-Walt_Disney_Birthplace_Exterior_Hermosa_Chicago_Illinois.jpg',\n",
       " '//upload.wikimedia.org/wikipedia/commons/thumb/c/c4/Walt_Disney_envelope_ca._1921.jpg/220px-Walt_Disney_envelope_ca._1921.jpg',\n",
       " '//upload.wikimedia.org/wikipedia/en/thumb/4/4e/Steamboat-willie.jpg/220px-Steamboat-willie.jpg',\n",
       " '//upload.wikimedia.org/wikipedia/commons/thumb/c/cd/Walt_Disney_Snow_white_1937_trailer_screenshot_%2813%29.jpg/220px-Walt_Disney_Snow_white_1937_trailer_screenshot_%2813%29.jpg',\n",
       " '//upload.wikimedia.org/wikipedia/commons/thumb/1/15/Disney_drawing_goofy.jpg/170px-Disney_drawing_goofy.jpg',\n",
       " '//upload.wikimedia.org/wikipedia/commons/thumb/8/8c/WaltDisneyplansDisneylandDec1954.jpg/220px-WaltDisneyplansDisneylandDec1954.jpg',\n",
       " '//upload.wikimedia.org/wikipedia/commons/thumb/f/ff/Walt_disney_portrait_right.jpg/170px-Walt_disney_portrait_right.jpg',\n",
       " '//upload.wikimedia.org/wikipedia/commons/thumb/1/1a/Walt_Disney_Grave.JPG/170px-Walt_Disney_Grave.JPG',\n",
       " '//upload.wikimedia.org/wikipedia/commons/thumb/1/1b/Nuvola_apps_kaboodle.svg/16px-Nuvola_apps_kaboodle.svg.png',\n",
       " '//upload.wikimedia.org/wikipedia/commons/thumb/1/13/DisneySchiphol1951.jpg/220px-DisneySchiphol1951.jpg',\n",
       " '//upload.wikimedia.org/wikipedia/commons/thumb/6/6c/Disney1968.jpg/170px-Disney1968.jpg',\n",
       " '//upload.wikimedia.org/wikipedia/commons/thumb/b/b0/Disney_Oscar_1953_%28cropped%29.jpg/170px-Disney_Oscar_1953_%28cropped%29.jpg',\n",
       " '//upload.wikimedia.org/wikipedia/en/thumb/4/4a/Commons-logo.svg/30px-Commons-logo.svg.png',\n",
       " '//upload.wikimedia.org/wikipedia/commons/thumb/4/4c/Wikisource-logo.svg/38px-Wikisource-logo.svg.png',\n",
       " '//upload.wikimedia.org/wikipedia/commons/thumb/f/fa/Wikiquote-logo.svg/34px-Wikiquote-logo.svg.png',\n",
       " '//upload.wikimedia.org/wikipedia/en/thumb/8/8a/OOjs_UI_icon_edit-ltr-progressive.svg/10px-OOjs_UI_icon_edit-ltr-progressive.svg.png',\n",
       " '//upload.wikimedia.org/wikipedia/en/thumb/8/8a/OOjs_UI_icon_edit-ltr-progressive.svg/10px-OOjs_UI_icon_edit-ltr-progressive.svg.png',\n",
       " '//upload.wikimedia.org/wikipedia/en/thumb/9/96/Symbol_category_class.svg/16px-Symbol_category_class.svg.png',\n",
       " '//upload.wikimedia.org/wikipedia/commons/thumb/e/e3/Disneyland_Resort_logo.svg/135px-Disneyland_Resort_logo.svg.png',\n",
       " '//upload.wikimedia.org/wikipedia/commons/thumb/d/da/Animation_disc.svg/20px-Animation_disc.svg.png',\n",
       " '//upload.wikimedia.org/wikipedia/en/thumb/6/69/P_vip.svg/19px-P_vip.svg.png',\n",
       " '//upload.wikimedia.org/wikipedia/commons/thumb/1/1a/Magic_Kingdom_castle.jpg/15px-Magic_Kingdom_castle.jpg',\n",
       " '//upload.wikimedia.org/wikipedia/en/thumb/e/e7/Video-x-generic.svg/19px-Video-x-generic.svg.png',\n",
       " '//upload.wikimedia.org/wikipedia/commons/thumb/a/a3/Flag_of_Los_Angeles_County%2C_California.svg/21px-Flag_of_Los_Angeles_County%2C_California.svg.png',\n",
       " '//upload.wikimedia.org/wikipedia/commons/thumb/8/8c/Blank_television_set.svg/21px-Blank_television_set.svg.png',\n",
       " '//upload.wikimedia.org/wikipedia/en/thumb/a/a4/Flag_of_the_United_States.svg/21px-Flag_of_the_United_States.svg.png',\n",
       " '//upload.wikimedia.org/wikipedia/en/thumb/8/8a/OOjs_UI_icon_edit-ltr-progressive.svg/10px-OOjs_UI_icon_edit-ltr-progressive.svg.png',\n",
       " 'https://login.wikimedia.org/wiki/Special:CentralAutoLogin/start?type=1x1',\n",
       " '/static/images/footer/wikimedia-button.png',\n",
       " '/static/images/footer/poweredby_mediawiki_88x31.png']"
      ]
     },
     "execution_count": 53,
     "metadata": {},
     "output_type": "execute_result"
    }
   ],
   "source": [
    "img_lst"
   ]
  },
  {
   "cell_type": "code",
   "execution_count": 54,
   "metadata": {},
   "outputs": [
    {
     "data": {
      "text/html": [
       "<img src=\"/static/images/icons/wikipedia.png\"/>"
      ],
      "text/plain": [
       "<IPython.core.display.Image object>"
      ]
     },
     "metadata": {},
     "output_type": "display_data"
    },
    {
     "data": {
      "text/html": [
       "<img src=\"/static/images/mobile/copyright/wikipedia-wordmark-en.svg\"/>"
      ],
      "text/plain": [
       "<IPython.core.display.Image object>"
      ]
     },
     "metadata": {},
     "output_type": "display_data"
    },
    {
     "data": {
      "text/html": [
       "<img src=\"/static/images/mobile/copyright/wikipedia-tagline-en.svg\"/>"
      ],
      "text/plain": [
       "<IPython.core.display.Image object>"
      ]
     },
     "metadata": {},
     "output_type": "display_data"
    },
    {
     "data": {
      "text/html": [
       "<img src=\"//upload.wikimedia.org/wikipedia/en/thumb/e/e7/Cscr-featured.svg/20px-Cscr-featured.svg.png\"/>"
      ],
      "text/plain": [
       "<IPython.core.display.Image object>"
      ]
     },
     "metadata": {},
     "output_type": "display_data"
    },
    {
     "data": {
      "text/html": [
       "<img src=\"//upload.wikimedia.org/wikipedia/en/thumb/8/8c/Extended-protection-shackle.svg/20px-Extended-protection-shackle.svg.png\"/>"
      ],
      "text/plain": [
       "<IPython.core.display.Image object>"
      ]
     },
     "metadata": {},
     "output_type": "display_data"
    },
    {
     "data": {
      "text/html": [
       "<img src=\"//upload.wikimedia.org/wikipedia/commons/thumb/d/df/Walt_Disney_1946.JPG/220px-Walt_Disney_1946.JPG\"/>"
      ],
      "text/plain": [
       "<IPython.core.display.Image object>"
      ]
     },
     "metadata": {},
     "output_type": "display_data"
    },
    {
     "data": {
      "text/html": [
       "<img src=\"//upload.wikimedia.org/wikipedia/commons/thumb/8/87/Walt_Disney_1942_signature.svg/150px-Walt_Disney_1942_signature.svg.png\"/>"
      ],
      "text/plain": [
       "<IPython.core.display.Image object>"
      ]
     },
     "metadata": {},
     "output_type": "display_data"
    },
    {
     "data": {
      "text/html": [
       "<img src=\"//upload.wikimedia.org/wikipedia/commons/thumb/3/3a/Walt_Disney_Birthplace_Exterior_Hermosa_Chicago_Illinois.jpg/220px-Walt_Disney_Birthplace_Exterior_Hermosa_Chicago_Illinois.jpg\"/>"
      ],
      "text/plain": [
       "<IPython.core.display.Image object>"
      ]
     },
     "metadata": {},
     "output_type": "display_data"
    },
    {
     "data": {
      "text/html": [
       "<img src=\"//upload.wikimedia.org/wikipedia/commons/thumb/c/c4/Walt_Disney_envelope_ca._1921.jpg/220px-Walt_Disney_envelope_ca._1921.jpg\"/>"
      ],
      "text/plain": [
       "<IPython.core.display.Image object>"
      ]
     },
     "metadata": {},
     "output_type": "display_data"
    },
    {
     "data": {
      "text/html": [
       "<img src=\"//upload.wikimedia.org/wikipedia/en/thumb/4/4e/Steamboat-willie.jpg/220px-Steamboat-willie.jpg\"/>"
      ],
      "text/plain": [
       "<IPython.core.display.Image object>"
      ]
     },
     "metadata": {},
     "output_type": "display_data"
    },
    {
     "data": {
      "text/html": [
       "<img src=\"//upload.wikimedia.org/wikipedia/commons/thumb/c/cd/Walt_Disney_Snow_white_1937_trailer_screenshot_%2813%29.jpg/220px-Walt_Disney_Snow_white_1937_trailer_screenshot_%2813%29.jpg\"/>"
      ],
      "text/plain": [
       "<IPython.core.display.Image object>"
      ]
     },
     "metadata": {},
     "output_type": "display_data"
    },
    {
     "data": {
      "text/html": [
       "<img src=\"//upload.wikimedia.org/wikipedia/commons/thumb/1/15/Disney_drawing_goofy.jpg/170px-Disney_drawing_goofy.jpg\"/>"
      ],
      "text/plain": [
       "<IPython.core.display.Image object>"
      ]
     },
     "metadata": {},
     "output_type": "display_data"
    },
    {
     "data": {
      "text/html": [
       "<img src=\"//upload.wikimedia.org/wikipedia/commons/thumb/8/8c/WaltDisneyplansDisneylandDec1954.jpg/220px-WaltDisneyplansDisneylandDec1954.jpg\"/>"
      ],
      "text/plain": [
       "<IPython.core.display.Image object>"
      ]
     },
     "metadata": {},
     "output_type": "display_data"
    },
    {
     "data": {
      "text/html": [
       "<img src=\"//upload.wikimedia.org/wikipedia/commons/thumb/f/ff/Walt_disney_portrait_right.jpg/170px-Walt_disney_portrait_right.jpg\"/>"
      ],
      "text/plain": [
       "<IPython.core.display.Image object>"
      ]
     },
     "metadata": {},
     "output_type": "display_data"
    },
    {
     "data": {
      "text/html": [
       "<img src=\"//upload.wikimedia.org/wikipedia/commons/thumb/1/1a/Walt_Disney_Grave.JPG/170px-Walt_Disney_Grave.JPG\"/>"
      ],
      "text/plain": [
       "<IPython.core.display.Image object>"
      ]
     },
     "metadata": {},
     "output_type": "display_data"
    },
    {
     "data": {
      "text/html": [
       "<img src=\"//upload.wikimedia.org/wikipedia/commons/thumb/1/1b/Nuvola_apps_kaboodle.svg/16px-Nuvola_apps_kaboodle.svg.png\"/>"
      ],
      "text/plain": [
       "<IPython.core.display.Image object>"
      ]
     },
     "metadata": {},
     "output_type": "display_data"
    },
    {
     "data": {
      "text/html": [
       "<img src=\"//upload.wikimedia.org/wikipedia/commons/thumb/1/13/DisneySchiphol1951.jpg/220px-DisneySchiphol1951.jpg\"/>"
      ],
      "text/plain": [
       "<IPython.core.display.Image object>"
      ]
     },
     "metadata": {},
     "output_type": "display_data"
    },
    {
     "data": {
      "text/html": [
       "<img src=\"//upload.wikimedia.org/wikipedia/commons/thumb/6/6c/Disney1968.jpg/170px-Disney1968.jpg\"/>"
      ],
      "text/plain": [
       "<IPython.core.display.Image object>"
      ]
     },
     "metadata": {},
     "output_type": "display_data"
    },
    {
     "data": {
      "text/html": [
       "<img src=\"//upload.wikimedia.org/wikipedia/commons/thumb/b/b0/Disney_Oscar_1953_%28cropped%29.jpg/170px-Disney_Oscar_1953_%28cropped%29.jpg\"/>"
      ],
      "text/plain": [
       "<IPython.core.display.Image object>"
      ]
     },
     "metadata": {},
     "output_type": "display_data"
    },
    {
     "data": {
      "text/html": [
       "<img src=\"//upload.wikimedia.org/wikipedia/en/thumb/4/4a/Commons-logo.svg/30px-Commons-logo.svg.png\"/>"
      ],
      "text/plain": [
       "<IPython.core.display.Image object>"
      ]
     },
     "metadata": {},
     "output_type": "display_data"
    },
    {
     "data": {
      "text/html": [
       "<img src=\"//upload.wikimedia.org/wikipedia/commons/thumb/4/4c/Wikisource-logo.svg/38px-Wikisource-logo.svg.png\"/>"
      ],
      "text/plain": [
       "<IPython.core.display.Image object>"
      ]
     },
     "metadata": {},
     "output_type": "display_data"
    },
    {
     "data": {
      "text/html": [
       "<img src=\"//upload.wikimedia.org/wikipedia/commons/thumb/f/fa/Wikiquote-logo.svg/34px-Wikiquote-logo.svg.png\"/>"
      ],
      "text/plain": [
       "<IPython.core.display.Image object>"
      ]
     },
     "metadata": {},
     "output_type": "display_data"
    },
    {
     "data": {
      "text/html": [
       "<img src=\"//upload.wikimedia.org/wikipedia/en/thumb/8/8a/OOjs_UI_icon_edit-ltr-progressive.svg/10px-OOjs_UI_icon_edit-ltr-progressive.svg.png\"/>"
      ],
      "text/plain": [
       "<IPython.core.display.Image object>"
      ]
     },
     "metadata": {},
     "output_type": "display_data"
    },
    {
     "data": {
      "text/html": [
       "<img src=\"//upload.wikimedia.org/wikipedia/en/thumb/8/8a/OOjs_UI_icon_edit-ltr-progressive.svg/10px-OOjs_UI_icon_edit-ltr-progressive.svg.png\"/>"
      ],
      "text/plain": [
       "<IPython.core.display.Image object>"
      ]
     },
     "metadata": {},
     "output_type": "display_data"
    },
    {
     "data": {
      "text/html": [
       "<img src=\"//upload.wikimedia.org/wikipedia/en/thumb/9/96/Symbol_category_class.svg/16px-Symbol_category_class.svg.png\"/>"
      ],
      "text/plain": [
       "<IPython.core.display.Image object>"
      ]
     },
     "metadata": {},
     "output_type": "display_data"
    },
    {
     "data": {
      "text/html": [
       "<img src=\"//upload.wikimedia.org/wikipedia/commons/thumb/e/e3/Disneyland_Resort_logo.svg/135px-Disneyland_Resort_logo.svg.png\"/>"
      ],
      "text/plain": [
       "<IPython.core.display.Image object>"
      ]
     },
     "metadata": {},
     "output_type": "display_data"
    },
    {
     "data": {
      "text/html": [
       "<img src=\"//upload.wikimedia.org/wikipedia/commons/thumb/d/da/Animation_disc.svg/20px-Animation_disc.svg.png\"/>"
      ],
      "text/plain": [
       "<IPython.core.display.Image object>"
      ]
     },
     "metadata": {},
     "output_type": "display_data"
    },
    {
     "data": {
      "text/html": [
       "<img src=\"//upload.wikimedia.org/wikipedia/en/thumb/6/69/P_vip.svg/19px-P_vip.svg.png\"/>"
      ],
      "text/plain": [
       "<IPython.core.display.Image object>"
      ]
     },
     "metadata": {},
     "output_type": "display_data"
    },
    {
     "data": {
      "text/html": [
       "<img src=\"//upload.wikimedia.org/wikipedia/commons/thumb/1/1a/Magic_Kingdom_castle.jpg/15px-Magic_Kingdom_castle.jpg\"/>"
      ],
      "text/plain": [
       "<IPython.core.display.Image object>"
      ]
     },
     "metadata": {},
     "output_type": "display_data"
    },
    {
     "data": {
      "text/html": [
       "<img src=\"//upload.wikimedia.org/wikipedia/en/thumb/e/e7/Video-x-generic.svg/19px-Video-x-generic.svg.png\"/>"
      ],
      "text/plain": [
       "<IPython.core.display.Image object>"
      ]
     },
     "metadata": {},
     "output_type": "display_data"
    },
    {
     "data": {
      "text/html": [
       "<img src=\"//upload.wikimedia.org/wikipedia/commons/thumb/a/a3/Flag_of_Los_Angeles_County%2C_California.svg/21px-Flag_of_Los_Angeles_County%2C_California.svg.png\"/>"
      ],
      "text/plain": [
       "<IPython.core.display.Image object>"
      ]
     },
     "metadata": {},
     "output_type": "display_data"
    },
    {
     "data": {
      "text/html": [
       "<img src=\"//upload.wikimedia.org/wikipedia/commons/thumb/8/8c/Blank_television_set.svg/21px-Blank_television_set.svg.png\"/>"
      ],
      "text/plain": [
       "<IPython.core.display.Image object>"
      ]
     },
     "metadata": {},
     "output_type": "display_data"
    },
    {
     "data": {
      "text/html": [
       "<img src=\"//upload.wikimedia.org/wikipedia/en/thumb/a/a4/Flag_of_the_United_States.svg/21px-Flag_of_the_United_States.svg.png\"/>"
      ],
      "text/plain": [
       "<IPython.core.display.Image object>"
      ]
     },
     "metadata": {},
     "output_type": "display_data"
    },
    {
     "data": {
      "text/html": [
       "<img src=\"//upload.wikimedia.org/wikipedia/en/thumb/8/8a/OOjs_UI_icon_edit-ltr-progressive.svg/10px-OOjs_UI_icon_edit-ltr-progressive.svg.png\"/>"
      ],
      "text/plain": [
       "<IPython.core.display.Image object>"
      ]
     },
     "metadata": {},
     "output_type": "display_data"
    },
    {
     "data": {
      "text/html": [
       "<img src=\"https://login.wikimedia.org/wiki/Special:CentralAutoLogin/start?type=1x1\"/>"
      ],
      "text/plain": [
       "<IPython.core.display.Image object>"
      ]
     },
     "metadata": {},
     "output_type": "display_data"
    },
    {
     "data": {
      "text/html": [
       "<img src=\"/static/images/footer/wikimedia-button.png\"/>"
      ],
      "text/plain": [
       "<IPython.core.display.Image object>"
      ]
     },
     "metadata": {},
     "output_type": "display_data"
    },
    {
     "data": {
      "text/html": [
       "<img src=\"/static/images/footer/poweredby_mediawiki_88x31.png\"/>"
      ],
      "text/plain": [
       "<IPython.core.display.Image object>"
      ]
     },
     "metadata": {},
     "output_type": "display_data"
    }
   ],
   "source": [
    "from IPython.display import Image\n",
    "\n",
    "for e in img_lst:\n",
    "    display(Image(url=e))"
   ]
  },
  {
   "cell_type": "markdown",
   "metadata": {},
   "source": [
    "#### Retrieve an arbitary Wikipedia page of \"Python\" and create a list of links on that page"
   ]
  },
  {
   "cell_type": "code",
   "execution_count": 55,
   "metadata": {},
   "outputs": [],
   "source": [
    "# This is the url you will scrape in this exercise\n",
    "url ='https://en.wikipedia.org/wiki/Python'"
   ]
  },
  {
   "cell_type": "code",
   "execution_count": 56,
   "metadata": {},
   "outputs": [],
   "source": [
    "#your code\n",
    "\n",
    "html = requests.get(url).content\n",
    "soup = BeautifulSoup(html, \"html.parser\")"
   ]
  },
  {
   "cell_type": "code",
   "execution_count": 57,
   "metadata": {},
   "outputs": [],
   "source": [
    "links = soup.find_all(\"a\")"
   ]
  },
  {
   "cell_type": "code",
   "execution_count": 58,
   "metadata": {},
   "outputs": [
    {
     "data": {
      "text/plain": [
       "['https://donate.wikimedia.org/wiki/Special:FundraiserRedirector?utm_source=donate&utm_medium=sidebar&utm_campaign=C13_en.wikipedia.org&uselang=en',\n",
       " 'https://af.wikipedia.org/wiki/Python',\n",
       " 'https://als.wikipedia.org/wiki/Python',\n",
       " 'https://ar.wikipedia.org/wiki/%D8%A8%D8%A7%D9%8A%D8%AB%D9%88%D9%86_(%D8%AA%D9%88%D8%B6%D9%8A%D8%AD)',\n",
       " 'https://az.wikipedia.org/wiki/Python_(d%C9%99qiql%C9%99%C5%9Fdirm%C9%99)',\n",
       " 'https://bn.wikipedia.org/wiki/%E0%A6%AA%E0%A6%BE%E0%A6%87%E0%A6%A5%E0%A6%A8_(%E0%A6%A6%E0%A7%8D%E0%A6%AC%E0%A7%8D%E0%A6%AF%E0%A6%B0%E0%A7%8D%E0%A6%A5%E0%A6%A4%E0%A6%BE_%E0%A6%A8%E0%A6%BF%E0%A6%B0%E0%A6%B8%E0%A6%A8)',\n",
       " 'https://be.wikipedia.org/wiki/Python',\n",
       " 'https://bg.wikipedia.org/wiki/%D0%9F%D0%B8%D1%82%D0%BE%D0%BD_(%D0%BF%D0%BE%D1%8F%D1%81%D0%BD%D0%B5%D0%BD%D0%B8%D0%B5)',\n",
       " 'https://cs.wikipedia.org/wiki/Python_(rozcestn%C3%ADk)',\n",
       " 'https://da.wikipedia.org/wiki/Python',\n",
       " 'https://de.wikipedia.org/wiki/Python',\n",
       " 'https://eo.wikipedia.org/wiki/Pitono_(apartigilo)',\n",
       " 'https://eu.wikipedia.org/wiki/Python_(argipena)',\n",
       " 'https://fa.wikipedia.org/wiki/%D9%BE%D8%A7%DB%8C%D8%AA%D9%88%D9%86',\n",
       " 'https://fr.wikipedia.org/wiki/Python',\n",
       " 'https://ko.wikipedia.org/wiki/%ED%8C%8C%EC%9D%B4%EC%84%A0',\n",
       " 'https://hr.wikipedia.org/wiki/Python_(razdvojba)',\n",
       " 'https://io.wikipedia.org/wiki/Pitono',\n",
       " 'https://id.wikipedia.org/wiki/Python',\n",
       " 'https://ia.wikipedia.org/wiki/Python_(disambiguation)',\n",
       " 'https://is.wikipedia.org/wiki/Python_(a%C3%B0greining)',\n",
       " 'https://it.wikipedia.org/wiki/Python_(disambigua)',\n",
       " 'https://he.wikipedia.org/wiki/%D7%A4%D7%99%D7%AA%D7%95%D7%9F',\n",
       " 'https://ka.wikipedia.org/wiki/%E1%83%9E%E1%83%98%E1%83%97%E1%83%9D%E1%83%9C%E1%83%98_(%E1%83%9B%E1%83%A0%E1%83%90%E1%83%95%E1%83%90%E1%83%9A%E1%83%9B%E1%83%9C%E1%83%98%E1%83%A8%E1%83%95%E1%83%9C%E1%83%94%E1%83%9A%E1%83%9D%E1%83%95%E1%83%90%E1%83%9C%E1%83%98)',\n",
       " 'https://kg.wikipedia.org/wiki/Mboma_(nyoka)',\n",
       " 'https://la.wikipedia.org/wiki/Python_(discretiva)',\n",
       " 'https://lb.wikipedia.org/wiki/Python',\n",
       " 'https://hu.wikipedia.org/wiki/Python_(egy%C3%A9rtelm%C5%B1s%C3%ADt%C5%91_lap)',\n",
       " 'https://mr.wikipedia.org/wiki/%E0%A4%AA%E0%A4%BE%E0%A4%AF%E0%A4%A5%E0%A5%89%E0%A4%A8_(%E0%A4%86%E0%A4%9C%E0%A5%8D%E0%A4%9E%E0%A4%BE%E0%A4%B5%E0%A4%B2%E0%A5%80_%E0%A4%AD%E0%A4%BE%E0%A4%B7%E0%A4%BE)',\n",
       " 'https://nl.wikipedia.org/wiki/Python',\n",
       " 'https://ja.wikipedia.org/wiki/%E3%83%91%E3%82%A4%E3%82%BD%E3%83%B3',\n",
       " 'https://no.wikipedia.org/wiki/Pyton',\n",
       " 'https://pl.wikipedia.org/wiki/Pyton',\n",
       " 'https://pt.wikipedia.org/wiki/Python_(desambigua%C3%A7%C3%A3o)',\n",
       " 'https://ru.wikipedia.org/wiki/Python_(%D0%B7%D0%BD%D0%B0%D1%87%D0%B5%D0%BD%D0%B8%D1%8F)',\n",
       " 'https://sk.wikipedia.org/wiki/Python',\n",
       " 'https://sr.wikipedia.org/wiki/%D0%9F%D0%B8%D1%82%D0%BE%D0%BD_(%D0%B2%D0%B8%D1%88%D0%B5%D0%B7%D0%BD%D0%B0%D1%87%D0%BD%D0%B0_%D0%BE%D0%B4%D1%80%D0%B5%D0%B4%D0%BD%D0%B8%D1%86%D0%B0)',\n",
       " 'https://sh.wikipedia.org/wiki/Python',\n",
       " 'https://fi.wikipedia.org/wiki/Python',\n",
       " 'https://sv.wikipedia.org/wiki/Pyton',\n",
       " 'https://th.wikipedia.org/wiki/%E0%B9%84%E0%B8%9E%E0%B8%97%E0%B8%AD%E0%B8%99',\n",
       " 'https://tr.wikipedia.org/wiki/Python_(anlam_ayr%C4%B1m%C4%B1)',\n",
       " 'https://uk.wikipedia.org/wiki/%D0%9F%D1%96%D1%84%D0%BE%D0%BD',\n",
       " 'https://ur.wikipedia.org/wiki/%D9%BE%D8%A7%D8%A6%DB%8C%D8%AA%DA%BE%D9%88%D9%86',\n",
       " 'https://vi.wikipedia.org/wiki/Python',\n",
       " 'https://zh.wikipedia.org/wiki/Python_(%E6%B6%88%E6%AD%A7%E4%B9%89)',\n",
       " 'https://www.wikidata.org/wiki/Special:EntityPage/Q747452#sitelinks-wikipedia',\n",
       " '/w/index.php?title=Special:UrlShortener&url=https%3A%2F%2Fen.wikipedia.org%2Fwiki%2FPython',\n",
       " 'https://www.wikidata.org/wiki/Special:EntityPage/Q747452',\n",
       " 'https://commons.wikimedia.org/wiki/Category:Python',\n",
       " 'https://en.wiktionary.org/wiki/Python',\n",
       " 'https://en.wiktionary.org/wiki/python',\n",
       " 'https://en.wikipedia.org/w/index.php?title=Special:WhatLinksHere/Python&namespace=0',\n",
       " 'https://en.wikipedia.org/w/index.php?title=Python&oldid=1183114882',\n",
       " 'https://foundation.wikimedia.org/wiki/Special:MyLanguage/Policy:Privacy_policy',\n",
       " 'https://foundation.wikimedia.org/wiki/Special:MyLanguage/Universal_Code_of_Conduct',\n",
       " 'https://developer.wikimedia.org',\n",
       " 'https://stats.wikimedia.org/#/en.wikipedia.org',\n",
       " 'https://foundation.wikimedia.org/wiki/Special:MyLanguage/Policy:Cookie_statement',\n",
       " 'https://wikimediafoundation.org/',\n",
       " 'https://www.mediawiki.org/']"
      ]
     },
     "execution_count": 58,
     "metadata": {},
     "output_type": "execute_result"
    }
   ],
   "source": [
    "lst = []\n",
    "\n",
    "for i in range(len(links)):\n",
    "    \n",
    "    x = links[i].get(\"href\")\n",
    "    \n",
    "    if \"https\" in x: \n",
    "        lst.append(x)\n",
    "    else:\n",
    "        pass\n",
    "lst"
   ]
  },
  {
   "cell_type": "markdown",
   "metadata": {},
   "source": [
    "#### Number of Titles that have changed in the United States Code since its last release point "
   ]
  },
  {
   "cell_type": "code",
   "execution_count": 59,
   "metadata": {},
   "outputs": [],
   "source": [
    "# This is the url you will scrape in this exercise\n",
    "url = 'http://uscode.house.gov/download/download.shtml'"
   ]
  },
  {
   "cell_type": "code",
   "execution_count": 60,
   "metadata": {},
   "outputs": [],
   "source": [
    "#your code\n",
    "html = requests.get(url).content\n",
    "soup = BeautifulSoup(html, \"html.parser\")"
   ]
  },
  {
   "cell_type": "code",
   "execution_count": 61,
   "metadata": {
    "scrolled": true
   },
   "outputs": [
    {
     "data": {
      "text/plain": [
       "[<div class=\"usctitlechanged\" id=\"us/usc/t20\">\n",
       " \n",
       "           Title 20 - Education\n",
       " \n",
       "         </div>,\n",
       " <div class=\"usctitlechanged\" id=\"us/usc/t38\">\n",
       " \n",
       "           Title 38 - Veterans' Benefits <span class=\"footnote\"><a class=\"fn\" href=\"#fn\">٭</a></span>\n",
       " </div>]"
      ]
     },
     "execution_count": 61,
     "metadata": {},
     "output_type": "execute_result"
    }
   ],
   "source": [
    "titles = soup.find_all(\"div\", class_=\"usctitlechanged\")\n",
    "titles"
   ]
  },
  {
   "cell_type": "code",
   "execution_count": 62,
   "metadata": {
    "scrolled": true
   },
   "outputs": [
    {
     "data": {
      "text/plain": [
       "'Title 20 - Education'"
      ]
     },
     "execution_count": 62,
     "metadata": {},
     "output_type": "execute_result"
    }
   ],
   "source": [
    "titles[0].text.strip()"
   ]
  },
  {
   "cell_type": "code",
   "execution_count": 63,
   "metadata": {},
   "outputs": [
    {
     "data": {
      "text/plain": [
       "['Title 20 - Education', \"Title 38 - Veterans' Benefits ٭\"]"
      ]
     },
     "execution_count": 63,
     "metadata": {},
     "output_type": "execute_result"
    }
   ],
   "source": [
    "changed_titles = []\n",
    "\n",
    "for i in range(len(titles)):\n",
    "    x = titles[i].text.strip()\n",
    "    changed_titles.append(x)\n",
    "\n",
    "changed_titles"
   ]
  },
  {
   "cell_type": "markdown",
   "metadata": {},
   "source": [
    "#### A Python list with the top ten FBI's Most Wanted names "
   ]
  },
  {
   "cell_type": "code",
   "execution_count": 64,
   "metadata": {},
   "outputs": [],
   "source": [
    "# This is the url you will scrape in this exercise\n",
    "url = 'https://www.fbi.gov/wanted/topten'"
   ]
  },
  {
   "cell_type": "code",
   "execution_count": 65,
   "metadata": {},
   "outputs": [],
   "source": [
    "#your code\n",
    "html = requests.get(url).content\n",
    "soup = BeautifulSoup(html, \"html.parser\")"
   ]
  },
  {
   "cell_type": "code",
   "execution_count": 66,
   "metadata": {},
   "outputs": [
    {
     "data": {
      "text/plain": [
       "[]"
      ]
     },
     "execution_count": 66,
     "metadata": {},
     "output_type": "execute_result"
    }
   ],
   "source": [
    "mw = soup.find_all(\"h3\", class_=\"title\")\n",
    "mw"
   ]
  },
  {
   "cell_type": "code",
   "execution_count": 67,
   "metadata": {},
   "outputs": [
    {
     "data": {
      "text/plain": [
       "[]"
      ]
     },
     "execution_count": 67,
     "metadata": {},
     "output_type": "execute_result"
    }
   ],
   "source": [
    "mw = soup.find_all(\"li\", class_=\"portal-type-person castle-grid-block-item\")\n",
    "mw"
   ]
  },
  {
   "cell_type": "code",
   "execution_count": 68,
   "metadata": {},
   "outputs": [],
   "source": [
    "#fbi me quiere detener, no se puede hacer el ejercicio"
   ]
  },
  {
   "cell_type": "markdown",
   "metadata": {},
   "source": [
    "####  20 latest earthquakes info (date, time, latitude, longitude and region name) by the EMSC as a pandas dataframe"
   ]
  },
  {
   "cell_type": "code",
   "execution_count": 69,
   "metadata": {},
   "outputs": [],
   "source": [
    "# This is the url you will scrape in this exercise\n",
    "url = 'https://www.emsc-csem.org/Earthquake/'"
   ]
  },
  {
   "cell_type": "code",
   "execution_count": null,
   "metadata": {},
   "outputs": [],
   "source": [
    "#your code\n",
    "\n",
    "#no se puede hacer"
   ]
  },
  {
   "cell_type": "markdown",
   "metadata": {},
   "source": [
    "#### Display the date, days, title, city, country of next 25 hackathon events as a Pandas dataframe table"
   ]
  },
  {
   "cell_type": "code",
   "execution_count": null,
   "metadata": {},
   "outputs": [],
   "source": [
    "# This is the url you will scrape in this exercise\n",
    "url ='https://hackevents.co/hackathons'"
   ]
  },
  {
   "cell_type": "code",
   "execution_count": null,
   "metadata": {},
   "outputs": [],
   "source": [
    "#your code"
   ]
  },
  {
   "cell_type": "markdown",
   "metadata": {},
   "source": [
    "#### Count number of tweets by a given Twitter account."
   ]
  },
  {
   "cell_type": "markdown",
   "metadata": {},
   "source": [
    "You will need to include a ***try/except block*** for account names not found. \n",
    "<br>***Hint:*** the program should count the number of tweets for any provided account"
   ]
  },
  {
   "cell_type": "code",
   "execution_count": null,
   "metadata": {},
   "outputs": [],
   "source": [
    "# This is the url you will scrape in this exercise \n",
    "# You will need to add the account credentials to this url\n",
    "url = 'https://twitter.com/'"
   ]
  },
  {
   "cell_type": "code",
   "execution_count": null,
   "metadata": {},
   "outputs": [],
   "source": [
    "#your code\n",
    "\n",
    "#no se puede hacer :("
   ]
  },
  {
   "cell_type": "markdown",
   "metadata": {},
   "source": [
    "#### Number of followers of a given twitter account"
   ]
  },
  {
   "cell_type": "markdown",
   "metadata": {},
   "source": [
    "You will need to include a ***try/except block*** in case account/s name not found. \n",
    "<br>***Hint:*** the program should count the followers for any provided account"
   ]
  },
  {
   "cell_type": "code",
   "execution_count": null,
   "metadata": {},
   "outputs": [],
   "source": [
    "# This is the url you will scrape in this exercise \n",
    "# You will need to add the account credentials to this url\n",
    "url = 'https://twitter.com/'"
   ]
  },
  {
   "cell_type": "code",
   "execution_count": null,
   "metadata": {},
   "outputs": [],
   "source": [
    "#your code\n",
    "\n",
    "#no se puede hacer por culpa de elon musk :("
   ]
  },
  {
   "cell_type": "markdown",
   "metadata": {},
   "source": [
    "#### List all language names and number of related articles in the order they appear in wikipedia.org"
   ]
  },
  {
   "cell_type": "code",
   "execution_count": 70,
   "metadata": {},
   "outputs": [],
   "source": [
    "# This is the url you will scrape in this exercise\n",
    "url = 'https://www.wikipedia.org/'"
   ]
  },
  {
   "cell_type": "code",
   "execution_count": 71,
   "metadata": {},
   "outputs": [],
   "source": [
    "#your code\n",
    "\n",
    "html = requests.get(url).content\n",
    "soup = BeautifulSoup(html, \"html.parser\")"
   ]
  },
  {
   "cell_type": "code",
   "execution_count": 72,
   "metadata": {},
   "outputs": [
    {
     "data": {
      "text/plain": [
       "['',\n",
       " '',\n",
       " '',\n",
       " '',\n",
       " 'English',\n",
       " '6\\xa0715\\xa0000+ articles',\n",
       " '',\n",
       " '',\n",
       " '',\n",
       " '',\n",
       " '',\n",
       " '日本語',\n",
       " '1\\xa0387\\xa0000+ 記事',\n",
       " '',\n",
       " '',\n",
       " '',\n",
       " '',\n",
       " '',\n",
       " 'Español',\n",
       " '1\\xa0892\\xa0000+ artículos',\n",
       " '',\n",
       " '',\n",
       " '',\n",
       " '',\n",
       " '',\n",
       " 'Русский',\n",
       " '1\\xa0938\\xa0000+ статей',\n",
       " '',\n",
       " '',\n",
       " '',\n",
       " '',\n",
       " '',\n",
       " 'Deutsch',\n",
       " '2\\xa0836\\xa0000+ Artikel',\n",
       " '',\n",
       " '',\n",
       " '',\n",
       " '',\n",
       " '',\n",
       " 'Français',\n",
       " '2\\xa0553\\xa0000+ articles',\n",
       " '',\n",
       " '',\n",
       " '',\n",
       " '',\n",
       " '',\n",
       " 'Italiano',\n",
       " '1\\xa0826\\xa0000+ voci',\n",
       " '',\n",
       " '',\n",
       " '',\n",
       " '',\n",
       " '',\n",
       " '中文',\n",
       " '1\\xa0377\\xa0000+ 条目 / 條目',\n",
       " '',\n",
       " '',\n",
       " '',\n",
       " '',\n",
       " '',\n",
       " 'Português',\n",
       " '1\\xa0109\\xa0000+ artigos',\n",
       " '',\n",
       " '',\n",
       " '',\n",
       " '',\n",
       " '',\n",
       " 'العربية',\n",
       " '1\\xa0217\\xa0000+ مقالة',\n",
       " '',\n",
       " '',\n",
       " '']"
      ]
     },
     "execution_count": 72,
     "metadata": {},
     "output_type": "execute_result"
    }
   ],
   "source": [
    "wikilan = soup.find_all(\"div\", class_=\"central-featured\")\n",
    "wikilan[0].text.split(\"\\n\")"
   ]
  },
  {
   "cell_type": "code",
   "execution_count": 73,
   "metadata": {},
   "outputs": [
    {
     "data": {
      "text/plain": [
       "[<div class=\"central-featured\" data-el-section=\"primary links\">\n",
       " <!-- #1. en.wikipedia.org - 1 719 062 000 views/day -->\n",
       " <div class=\"central-featured-lang lang1\" dir=\"ltr\" lang=\"en\">\n",
       " <a class=\"link-box\" data-slogan=\"The Free Encyclopedia\" href=\"//en.wikipedia.org/\" id=\"js-link-box-en\" title=\"English — Wikipedia — The Free Encyclopedia\">\n",
       " <strong>English</strong>\n",
       " <small><bdi dir=\"ltr\">6 715 000+</bdi> <span>articles</span></small>\n",
       " </a>\n",
       " </div>\n",
       " <!-- #2. ja.wikipedia.org - 211 317 000 views/day -->\n",
       " <div class=\"central-featured-lang lang2\" dir=\"ltr\" lang=\"ja\">\n",
       " <a class=\"link-box\" data-slogan=\"フリー百科事典\" href=\"//ja.wikipedia.org/\" id=\"js-link-box-ja\" title=\"Nihongo — ウィキペディア — フリー百科事典\">\n",
       " <strong>日本語</strong>\n",
       " <small><bdi dir=\"ltr\">1 387 000+</bdi> <span>記事</span></small>\n",
       " </a>\n",
       " </div>\n",
       " <!-- #3. es.wikipedia.org - 198 289 000 views/day -->\n",
       " <div class=\"central-featured-lang lang3\" dir=\"ltr\" lang=\"es\">\n",
       " <a class=\"link-box\" data-slogan=\"La enciclopedia libre\" href=\"//es.wikipedia.org/\" id=\"js-link-box-es\" title=\"Español — Wikipedia — La enciclopedia libre\">\n",
       " <strong>Español</strong>\n",
       " <small><bdi dir=\"ltr\">1 892 000+</bdi> <span>artículos</span></small>\n",
       " </a>\n",
       " </div>\n",
       " <!-- #4. ru.wikipedia.org - 196 291 000 views/day -->\n",
       " <div class=\"central-featured-lang lang4\" dir=\"ltr\" lang=\"ru\">\n",
       " <a class=\"link-box\" data-slogan=\"Свободная энциклопедия\" href=\"//ru.wikipedia.org/\" id=\"js-link-box-ru\" title=\"Russkiy — Википедия — Свободная энциклопедия\">\n",
       " <strong>Русский</strong>\n",
       " <small><bdi dir=\"ltr\">1 938 000+</bdi> <span>статей</span></small>\n",
       " </a>\n",
       " </div>\n",
       " <!-- #5. de.wikipedia.org - 175 316 000 views/day -->\n",
       " <div class=\"central-featured-lang lang5\" dir=\"ltr\" lang=\"de\">\n",
       " <a class=\"link-box\" data-slogan=\"Die freie Enzyklopädie\" href=\"//de.wikipedia.org/\" id=\"js-link-box-de\" title=\"Deutsch — Wikipedia — Die freie Enzyklopädie\">\n",
       " <strong>Deutsch</strong>\n",
       " <small><bdi dir=\"ltr\">2 836 000+</bdi> <span>Artikel</span></small>\n",
       " </a>\n",
       " </div>\n",
       " <!-- #6. fr.wikipedia.org - 175 111 000 views/day -->\n",
       " <div class=\"central-featured-lang lang6\" dir=\"ltr\" lang=\"fr\">\n",
       " <a class=\"link-box\" data-slogan=\"L’encyclopédie libre\" href=\"//fr.wikipedia.org/\" id=\"js-link-box-fr\" title=\"français — Wikipédia — L’encyclopédie libre\">\n",
       " <strong>Français</strong>\n",
       " <small><bdi dir=\"ltr\">2 553 000+</bdi> <span>articles</span></small>\n",
       " </a>\n",
       " </div>\n",
       " <!-- #7. it.wikipedia.org - 103 870 000 views/day -->\n",
       " <div class=\"central-featured-lang lang7\" dir=\"ltr\" lang=\"it\">\n",
       " <a class=\"link-box\" data-slogan=\"L'enciclopedia libera\" href=\"//it.wikipedia.org/\" id=\"js-link-box-it\" title=\"Italiano — Wikipedia — L'enciclopedia libera\">\n",
       " <strong>Italiano</strong>\n",
       " <small><bdi dir=\"ltr\">1 826 000+</bdi> <span>voci</span></small>\n",
       " </a>\n",
       " </div>\n",
       " <!-- #8. zh.wikipedia.org - 88 405 000 views/day -->\n",
       " <div class=\"central-featured-lang lang8\" dir=\"ltr\" lang=\"zh\">\n",
       " <a class=\"link-box jscnconv\" data-slogan=\"自由的百科全书 / 自由的百科全書\" data-title-hans=\"Zhōngwén — 维基百科 — 自由的百科全书\" data-title-hant=\"Zhōngwén — 維基百科 — 自由的百科全書\" href=\"//zh.wikipedia.org/\" id=\"js-link-box-zh\" title=\"Zhōngwén — 维基百科 / 維基百科 — 自由的百科全书 / 自由的百科全書\">\n",
       " <strong>中文</strong>\n",
       " <small><bdi dir=\"ltr\">1 377 000+</bdi> <span class=\"jscnconv\" data-hans=\"条目\" data-hant=\"條目\">条目 / 條目</span></small>\n",
       " </a>\n",
       " </div>\n",
       " <!-- #9. pt.wikipedia.org - 52 444 000 views/day -->\n",
       " <div class=\"central-featured-lang lang9\" dir=\"ltr\" lang=\"pt\">\n",
       " <a class=\"link-box\" data-slogan=\"A enciclopédia livre\" href=\"//pt.wikipedia.org/\" id=\"js-link-box-pt\" title=\"Português — Wikipédia — A enciclopédia livre\">\n",
       " <strong>Português</strong>\n",
       " <small><bdi dir=\"ltr\">1 109 000+</bdi> <span>artigos</span></small>\n",
       " </a>\n",
       " </div>\n",
       " <!-- #10. ar.wikipedia.org - 51 153 000 views/day -->\n",
       " <div class=\"central-featured-lang lang10\" dir=\"rtl\" lang=\"ar\">\n",
       " <a class=\"link-box\" data-slogan=\"الموسوعة الحرة\" href=\"//ar.wikipedia.org/\" id=\"js-link-box-ar\" title=\"Al-ʿArabīyah — ويكيبيديا — الموسوعة الحرة\">\n",
       " <strong><bdi dir=\"rtl\">العربية</bdi></strong>\n",
       " <small><bdi dir=\"ltr\">1 217 000+</bdi> <span>مقالة</span></small>\n",
       " </a>\n",
       " </div>\n",
       " </div>]"
      ]
     },
     "execution_count": 73,
     "metadata": {},
     "output_type": "execute_result"
    }
   ],
   "source": [
    "wikilan1 = soup.findAll(\"div\", class_=\"central-featured\")\n",
    "wikilan1"
   ]
  },
  {
   "cell_type": "code",
   "execution_count": 74,
   "metadata": {},
   "outputs": [
    {
     "data": {
      "text/plain": [
       "bs4.element.ResultSet"
      ]
     },
     "execution_count": 74,
     "metadata": {},
     "output_type": "execute_result"
    }
   ],
   "source": [
    "type(wikilan)"
   ]
  },
  {
   "cell_type": "code",
   "execution_count": 75,
   "metadata": {},
   "outputs": [
    {
     "data": {
      "text/plain": [
       "<div class=\"central-featured\" data-el-section=\"primary links\">\n",
       "<!-- #1. en.wikipedia.org - 1 719 062 000 views/day -->\n",
       "<div class=\"central-featured-lang lang1\" dir=\"ltr\" lang=\"en\">\n",
       "<a class=\"link-box\" data-slogan=\"The Free Encyclopedia\" href=\"//en.wikipedia.org/\" id=\"js-link-box-en\" title=\"English — Wikipedia — The Free Encyclopedia\">\n",
       "<strong>English</strong>\n",
       "<small><bdi dir=\"ltr\">6 715 000+</bdi> <span>articles</span></small>\n",
       "</a>\n",
       "</div>\n",
       "<!-- #2. ja.wikipedia.org - 211 317 000 views/day -->\n",
       "<div class=\"central-featured-lang lang2\" dir=\"ltr\" lang=\"ja\">\n",
       "<a class=\"link-box\" data-slogan=\"フリー百科事典\" href=\"//ja.wikipedia.org/\" id=\"js-link-box-ja\" title=\"Nihongo — ウィキペディア — フリー百科事典\">\n",
       "<strong>日本語</strong>\n",
       "<small><bdi dir=\"ltr\">1 387 000+</bdi> <span>記事</span></small>\n",
       "</a>\n",
       "</div>\n",
       "<!-- #3. es.wikipedia.org - 198 289 000 views/day -->\n",
       "<div class=\"central-featured-lang lang3\" dir=\"ltr\" lang=\"es\">\n",
       "<a class=\"link-box\" data-slogan=\"La enciclopedia libre\" href=\"//es.wikipedia.org/\" id=\"js-link-box-es\" title=\"Español — Wikipedia — La enciclopedia libre\">\n",
       "<strong>Español</strong>\n",
       "<small><bdi dir=\"ltr\">1 892 000+</bdi> <span>artículos</span></small>\n",
       "</a>\n",
       "</div>\n",
       "<!-- #4. ru.wikipedia.org - 196 291 000 views/day -->\n",
       "<div class=\"central-featured-lang lang4\" dir=\"ltr\" lang=\"ru\">\n",
       "<a class=\"link-box\" data-slogan=\"Свободная энциклопедия\" href=\"//ru.wikipedia.org/\" id=\"js-link-box-ru\" title=\"Russkiy — Википедия — Свободная энциклопедия\">\n",
       "<strong>Русский</strong>\n",
       "<small><bdi dir=\"ltr\">1 938 000+</bdi> <span>статей</span></small>\n",
       "</a>\n",
       "</div>\n",
       "<!-- #5. de.wikipedia.org - 175 316 000 views/day -->\n",
       "<div class=\"central-featured-lang lang5\" dir=\"ltr\" lang=\"de\">\n",
       "<a class=\"link-box\" data-slogan=\"Die freie Enzyklopädie\" href=\"//de.wikipedia.org/\" id=\"js-link-box-de\" title=\"Deutsch — Wikipedia — Die freie Enzyklopädie\">\n",
       "<strong>Deutsch</strong>\n",
       "<small><bdi dir=\"ltr\">2 836 000+</bdi> <span>Artikel</span></small>\n",
       "</a>\n",
       "</div>\n",
       "<!-- #6. fr.wikipedia.org - 175 111 000 views/day -->\n",
       "<div class=\"central-featured-lang lang6\" dir=\"ltr\" lang=\"fr\">\n",
       "<a class=\"link-box\" data-slogan=\"L’encyclopédie libre\" href=\"//fr.wikipedia.org/\" id=\"js-link-box-fr\" title=\"français — Wikipédia — L’encyclopédie libre\">\n",
       "<strong>Français</strong>\n",
       "<small><bdi dir=\"ltr\">2 553 000+</bdi> <span>articles</span></small>\n",
       "</a>\n",
       "</div>\n",
       "<!-- #7. it.wikipedia.org - 103 870 000 views/day -->\n",
       "<div class=\"central-featured-lang lang7\" dir=\"ltr\" lang=\"it\">\n",
       "<a class=\"link-box\" data-slogan=\"L'enciclopedia libera\" href=\"//it.wikipedia.org/\" id=\"js-link-box-it\" title=\"Italiano — Wikipedia — L'enciclopedia libera\">\n",
       "<strong>Italiano</strong>\n",
       "<small><bdi dir=\"ltr\">1 826 000+</bdi> <span>voci</span></small>\n",
       "</a>\n",
       "</div>\n",
       "<!-- #8. zh.wikipedia.org - 88 405 000 views/day -->\n",
       "<div class=\"central-featured-lang lang8\" dir=\"ltr\" lang=\"zh\">\n",
       "<a class=\"link-box jscnconv\" data-slogan=\"自由的百科全书 / 自由的百科全書\" data-title-hans=\"Zhōngwén — 维基百科 — 自由的百科全书\" data-title-hant=\"Zhōngwén — 維基百科 — 自由的百科全書\" href=\"//zh.wikipedia.org/\" id=\"js-link-box-zh\" title=\"Zhōngwén — 维基百科 / 維基百科 — 自由的百科全书 / 自由的百科全書\">\n",
       "<strong>中文</strong>\n",
       "<small><bdi dir=\"ltr\">1 377 000+</bdi> <span class=\"jscnconv\" data-hans=\"条目\" data-hant=\"條目\">条目 / 條目</span></small>\n",
       "</a>\n",
       "</div>\n",
       "<!-- #9. pt.wikipedia.org - 52 444 000 views/day -->\n",
       "<div class=\"central-featured-lang lang9\" dir=\"ltr\" lang=\"pt\">\n",
       "<a class=\"link-box\" data-slogan=\"A enciclopédia livre\" href=\"//pt.wikipedia.org/\" id=\"js-link-box-pt\" title=\"Português — Wikipédia — A enciclopédia livre\">\n",
       "<strong>Português</strong>\n",
       "<small><bdi dir=\"ltr\">1 109 000+</bdi> <span>artigos</span></small>\n",
       "</a>\n",
       "</div>\n",
       "<!-- #10. ar.wikipedia.org - 51 153 000 views/day -->\n",
       "<div class=\"central-featured-lang lang10\" dir=\"rtl\" lang=\"ar\">\n",
       "<a class=\"link-box\" data-slogan=\"الموسوعة الحرة\" href=\"//ar.wikipedia.org/\" id=\"js-link-box-ar\" title=\"Al-ʿArabīyah — ويكيبيديا — الموسوعة الحرة\">\n",
       "<strong><bdi dir=\"rtl\">العربية</bdi></strong>\n",
       "<small><bdi dir=\"ltr\">1 217 000+</bdi> <span>مقالة</span></small>\n",
       "</a>\n",
       "</div>\n",
       "</div>"
      ]
     },
     "execution_count": 75,
     "metadata": {},
     "output_type": "execute_result"
    }
   ],
   "source": [
    "wikilan2 = soup.find(\"div\", class_=\"central-featured\")\n",
    "wikilan2"
   ]
  },
  {
   "cell_type": "code",
   "execution_count": 76,
   "metadata": {},
   "outputs": [
    {
     "data": {
      "text/plain": [
       "bs4.element.Tag"
      ]
     },
     "execution_count": 76,
     "metadata": {},
     "output_type": "execute_result"
    }
   ],
   "source": [
    "type(wikilan2)"
   ]
  },
  {
   "cell_type": "code",
   "execution_count": 77,
   "metadata": {},
   "outputs": [
    {
     "data": {
      "text/plain": [
       "[<strong>English</strong>,\n",
       " <strong>日本語</strong>,\n",
       " <strong>Español</strong>,\n",
       " <strong>Русский</strong>,\n",
       " <strong>Deutsch</strong>,\n",
       " <strong>Français</strong>,\n",
       " <strong>Italiano</strong>,\n",
       " <strong>中文</strong>,\n",
       " <strong>Português</strong>,\n",
       " <strong><bdi dir=\"rtl\">العربية</bdi></strong>]"
      ]
     },
     "execution_count": 77,
     "metadata": {},
     "output_type": "execute_result"
    }
   ],
   "source": [
    "#veo que aquí están los idiomas\n",
    "wikilan1[0].findAll('strong')"
   ]
  },
  {
   "cell_type": "code",
   "execution_count": 78,
   "metadata": {
    "scrolled": true
   },
   "outputs": [
    {
     "data": {
      "text/plain": [
       "'Deutsch'"
      ]
     },
     "execution_count": 78,
     "metadata": {},
     "output_type": "execute_result"
    }
   ],
   "source": [
    "wikilan1[0].findAll('strong')[4].text"
   ]
  },
  {
   "cell_type": "code",
   "execution_count": 79,
   "metadata": {},
   "outputs": [
    {
     "data": {
      "text/plain": [
       "['English',\n",
       " '日本語',\n",
       " 'Español',\n",
       " 'Русский',\n",
       " 'Deutsch',\n",
       " 'Français',\n",
       " 'Italiano',\n",
       " '中文',\n",
       " 'Português',\n",
       " 'العربية']"
      ]
     },
     "execution_count": 79,
     "metadata": {},
     "output_type": "execute_result"
    }
   ],
   "source": [
    "idiomas = [] \n",
    "\n",
    "for i in range(len(wikilan1[0].findAll('strong'))):\n",
    "    x = wikilan1[0].findAll('strong')[i].text\n",
    "    idiomas.append(x)\n",
    "    \n",
    "idiomas"
   ]
  },
  {
   "cell_type": "code",
   "execution_count": 80,
   "metadata": {
    "scrolled": true
   },
   "outputs": [
    {
     "data": {
      "text/plain": [
       "[<small><bdi dir=\"ltr\">6 715 000+</bdi> <span>articles</span></small>,\n",
       " <small><bdi dir=\"ltr\">1 387 000+</bdi> <span>記事</span></small>,\n",
       " <small><bdi dir=\"ltr\">1 892 000+</bdi> <span>artículos</span></small>,\n",
       " <small><bdi dir=\"ltr\">1 938 000+</bdi> <span>статей</span></small>,\n",
       " <small><bdi dir=\"ltr\">2 836 000+</bdi> <span>Artikel</span></small>,\n",
       " <small><bdi dir=\"ltr\">2 553 000+</bdi> <span>articles</span></small>,\n",
       " <small><bdi dir=\"ltr\">1 826 000+</bdi> <span>voci</span></small>,\n",
       " <small><bdi dir=\"ltr\">1 377 000+</bdi> <span class=\"jscnconv\" data-hans=\"条目\" data-hant=\"條目\">条目 / 條目</span></small>,\n",
       " <small><bdi dir=\"ltr\">1 109 000+</bdi> <span>artigos</span></small>,\n",
       " <small><bdi dir=\"ltr\">1 217 000+</bdi> <span>مقالة</span></small>]"
      ]
     },
     "execution_count": 80,
     "metadata": {},
     "output_type": "execute_result"
    }
   ],
   "source": [
    "#para entrar a números:\n",
    "\n",
    "wikinumber = wikilan1[0].find_all(\"small\")\n",
    "wikinumber"
   ]
  },
  {
   "cell_type": "code",
   "execution_count": 81,
   "metadata": {
    "scrolled": true
   },
   "outputs": [
    {
     "data": {
      "text/plain": [
       "['6', '715', '000+', 'articles']"
      ]
     },
     "execution_count": 81,
     "metadata": {},
     "output_type": "execute_result"
    }
   ],
   "source": [
    "lst_n = wikinumber[0].text.split()\n",
    "lst_n"
   ]
  },
  {
   "cell_type": "code",
   "execution_count": 82,
   "metadata": {},
   "outputs": [
    {
     "data": {
      "text/plain": [
       "'6715000+'"
      ]
     },
     "execution_count": 82,
     "metadata": {},
     "output_type": "execute_result"
    }
   ],
   "source": [
    "lst_n_clean = ''.join(lst_n[0:3])\n",
    "lst_n_clean"
   ]
  },
  {
   "cell_type": "code",
   "execution_count": 90,
   "metadata": {},
   "outputs": [
    {
     "data": {
      "text/plain": [
       "[['6', '715', '000+', 'articles'],\n",
       " ['1', '387', '000+', '記事'],\n",
       " ['1', '892', '000+', 'artículos'],\n",
       " ['1', '938', '000+', 'статей'],\n",
       " ['2', '836', '000+', 'Artikel'],\n",
       " ['2', '553', '000+', 'articles'],\n",
       " ['1', '826', '000+', 'voci'],\n",
       " ['1', '377', '000+', '条目', '/', '條目'],\n",
       " ['1', '109', '000+', 'artigos'],\n",
       " ['1', '217', '000+', 'مقالة']]"
      ]
     },
     "execution_count": 90,
     "metadata": {},
     "output_type": "execute_result"
    }
   ],
   "source": [
    "articulos=[]\n",
    "\n",
    "for e in range(len(wikinumber)):\n",
    "    x= wikinumber[e].text.split()\n",
    "    articulos.append(x)\n",
    "    \n",
    "articulos"
   ]
  },
  {
   "cell_type": "code",
   "execution_count": 91,
   "metadata": {},
   "outputs": [
    {
     "data": {
      "text/plain": [
       "{'English': ['6', '715', '000+', 'articles'],\n",
       " '日本語': ['1', '387', '000+', '記事'],\n",
       " 'Español': ['1', '892', '000+', 'artículos'],\n",
       " 'Русский': ['1', '938', '000+', 'статей'],\n",
       " 'Deutsch': ['2', '836', '000+', 'Artikel'],\n",
       " 'Français': ['2', '553', '000+', 'articles'],\n",
       " 'Italiano': ['1', '826', '000+', 'voci'],\n",
       " '中文': ['1', '377', '000+', '条目', '/', '條目'],\n",
       " 'Português': ['1', '109', '000+', 'artigos'],\n",
       " 'العربية': ['1', '217', '000+', 'مقالة']}"
      ]
     },
     "execution_count": 91,
     "metadata": {},
     "output_type": "execute_result"
    }
   ],
   "source": [
    "dic = dict(zip(idiomas, articulos))\n",
    "dic"
   ]
  },
  {
   "cell_type": "code",
   "execution_count": 92,
   "metadata": {},
   "outputs": [
    {
     "data": {
      "text/plain": [
       "{'English': '6715000+',\n",
       " '日本語': '1387000+',\n",
       " 'Español': '1892000+',\n",
       " 'Русский': '1938000+',\n",
       " 'Deutsch': '2836000+',\n",
       " 'Français': '2553000+',\n",
       " 'Italiano': '1826000+',\n",
       " '中文': '1377000+',\n",
       " 'Português': '1109000+',\n",
       " 'العربية': '1217000+'}"
      ]
     },
     "execution_count": 92,
     "metadata": {},
     "output_type": "execute_result"
    }
   ],
   "source": [
    "articulos=[]\n",
    "\n",
    "for k,v in dic.items():\n",
    "    v = \"\".join(v[0:3])\n",
    "    dic[k]=v\n",
    "    \n",
    "dic"
   ]
  },
  {
   "cell_type": "markdown",
   "metadata": {},
   "source": [
    "#### A list with the different kind of datasets available in data.gov.uk "
   ]
  },
  {
   "cell_type": "code",
   "execution_count": 100,
   "metadata": {},
   "outputs": [],
   "source": [
    "# This is the url you will scrape in this exercise\n",
    "url = 'https://data.gov.uk/'"
   ]
  },
  {
   "cell_type": "code",
   "execution_count": 101,
   "metadata": {},
   "outputs": [],
   "source": [
    "#your code \n",
    "\n",
    "html = requests.get(url).content\n",
    "soup = BeautifulSoup(html, \"html.parser\")"
   ]
  },
  {
   "cell_type": "code",
   "execution_count": 114,
   "metadata": {},
   "outputs": [],
   "source": [
    "uk = soup.findAll(\"ul\", class_=\"govuk-list dgu-topics__list\")\n",
    "lst_uk = uk[0].text.split(\"\\n\")"
   ]
  },
  {
   "cell_type": "code",
   "execution_count": 130,
   "metadata": {},
   "outputs": [
    {
     "data": {
      "text/plain": [
       "['',\n",
       " '',\n",
       " 'Business and economy',\n",
       " 'Small businesses, industry, imports, exports and trade',\n",
       " '',\n",
       " '',\n",
       " 'Crime and justice',\n",
       " 'Courts, police, prison, offenders, borders and immigration',\n",
       " '',\n",
       " '',\n",
       " 'Defence',\n",
       " 'Armed forces, health and safety, search and rescue',\n",
       " '',\n",
       " '',\n",
       " 'Education',\n",
       " 'Students, training, qualifications and the National Curriculum',\n",
       " '',\n",
       " '',\n",
       " 'Environment',\n",
       " 'Weather, flooding, rivers, air quality, geology and agriculture',\n",
       " '',\n",
       " '',\n",
       " 'Government',\n",
       " 'Staff numbers and pay, local councillors and department business plans',\n",
       " '',\n",
       " '',\n",
       " 'Government spending',\n",
       " 'Includes all payments by government departments over £25,000',\n",
       " '',\n",
       " '',\n",
       " 'Health',\n",
       " 'Includes smoking, drugs, alcohol, medicine performance and hospitals',\n",
       " '',\n",
       " '',\n",
       " 'Mapping',\n",
       " 'Addresses, boundaries, land ownership, aerial photographs, seabed and land terrain',\n",
       " '',\n",
       " '',\n",
       " 'Society',\n",
       " 'Employment, benefits, household finances, poverty and population',\n",
       " '',\n",
       " '',\n",
       " 'Towns and cities',\n",
       " 'Includes housing, urban planning, leisure, waste and energy, consumption',\n",
       " '',\n",
       " '',\n",
       " 'Transport',\n",
       " 'Airports, roads, freight, electric vehicles, parking, buses and footpaths',\n",
       " '',\n",
       " '',\n",
       " 'Digital service performance',\n",
       " 'Cost, usage, completion rate, digital take-up, satisfaction',\n",
       " '',\n",
       " '',\n",
       " 'Government reference data',\n",
       " 'Trusted data that is referenced and shared across government departments',\n",
       " '',\n",
       " '']"
      ]
     },
     "execution_count": 130,
     "metadata": {},
     "output_type": "execute_result"
    }
   ],
   "source": [
    "lst_uk"
   ]
  },
  {
   "cell_type": "code",
   "execution_count": 128,
   "metadata": {},
   "outputs": [
    {
     "data": {
      "text/plain": [
       "['Business and economy',\n",
       " 'Small businesses, industry, imports, exports and trade',\n",
       " 'Crime and justice',\n",
       " 'Courts, police, prison, offenders, borders and immigration',\n",
       " 'Defence',\n",
       " 'Armed forces, health and safety, search and rescue',\n",
       " 'Education',\n",
       " 'Students, training, qualifications and the National Curriculum',\n",
       " 'Environment',\n",
       " 'Weather, flooding, rivers, air quality, geology and agriculture',\n",
       " 'Government',\n",
       " 'Staff numbers and pay, local councillors and department business plans',\n",
       " 'Government spending',\n",
       " 'Includes all payments by government departments over £25,000',\n",
       " 'Health',\n",
       " 'Includes smoking, drugs, alcohol, medicine performance and hospitals',\n",
       " 'Mapping',\n",
       " 'Addresses, boundaries, land ownership, aerial photographs, seabed and land terrain',\n",
       " 'Society',\n",
       " 'Employment, benefits, household finances, poverty and population',\n",
       " 'Towns and cities',\n",
       " 'Includes housing, urban planning, leisure, waste and energy, consumption',\n",
       " 'Transport',\n",
       " 'Airports, roads, freight, electric vehicles, parking, buses and footpaths',\n",
       " 'Digital service performance',\n",
       " 'Cost, usage, completion rate, digital take-up, satisfaction',\n",
       " 'Government reference data',\n",
       " 'Trusted data that is referenced and shared across government departments']"
      ]
     },
     "execution_count": 128,
     "metadata": {},
     "output_type": "execute_result"
    }
   ],
   "source": [
    "cleaned_list = [item for item in lst_uk if item != \"\"]\n",
    "cleaned_list"
   ]
  },
  {
   "cell_type": "code",
   "execution_count": null,
   "metadata": {},
   "outputs": [],
   "source": [
    "\"wikitable sortable static-row-numbers jquery-tablesorter\""
   ]
  },
  {
   "cell_type": "markdown",
   "metadata": {},
   "source": [
    "#### Top 10 languages by number of native speakers stored in a Pandas Dataframe"
   ]
  },
  {
   "cell_type": "code",
   "execution_count": 136,
   "metadata": {},
   "outputs": [],
   "source": [
    "# This is the url you will scrape in this exercise\n",
    "url = 'https://en.wikipedia.org/wiki/List_of_languages_by_number_of_native_speakers'"
   ]
  },
  {
   "cell_type": "code",
   "execution_count": 137,
   "metadata": {},
   "outputs": [],
   "source": [
    "#your code\n",
    "html = requests.get(url).content\n",
    "soup = BeautifulSoup(html, \"html.parser\")"
   ]
  },
  {
   "cell_type": "code",
   "execution_count": 140,
   "metadata": {},
   "outputs": [
    {
     "data": {
      "text/plain": [
       "['',\n",
       " 'Languages with at least 50 million first-language speakers[7]',\n",
       " '',\n",
       " '',\n",
       " 'Language',\n",
       " '',\n",
       " 'Native speakers(millions)',\n",
       " '',\n",
       " 'Language family',\n",
       " '',\n",
       " 'Branch',\n",
       " '',\n",
       " '',\n",
       " 'Mandarin Chinese(incl. Standard Chinese, but excl. other varieties)',\n",
       " '',\n",
       " '939',\n",
       " '',\n",
       " 'Sino-Tibetan',\n",
       " '',\n",
       " 'Sinitic',\n",
       " '',\n",
       " '',\n",
       " 'Spanish',\n",
       " '',\n",
       " '485',\n",
       " '',\n",
       " 'Indo-European',\n",
       " '',\n",
       " 'Romance',\n",
       " '',\n",
       " '',\n",
       " 'English',\n",
       " '',\n",
       " '380',\n",
       " '',\n",
       " 'Indo-European',\n",
       " '',\n",
       " 'Germanic',\n",
       " '',\n",
       " '',\n",
       " 'Hindi(excl. Urdu, and other languages)',\n",
       " '',\n",
       " '345',\n",
       " '',\n",
       " 'Indo-European',\n",
       " '',\n",
       " 'Indo-Aryan',\n",
       " '',\n",
       " '',\n",
       " 'Portuguese',\n",
       " '',\n",
       " '236',\n",
       " '',\n",
       " 'Indo-European',\n",
       " '',\n",
       " 'Romance',\n",
       " '',\n",
       " '',\n",
       " 'Bengali',\n",
       " '',\n",
       " '234',\n",
       " '',\n",
       " 'Indo-European',\n",
       " '',\n",
       " 'Indo-Aryan',\n",
       " '',\n",
       " '',\n",
       " 'Russian',\n",
       " '',\n",
       " '147',\n",
       " '',\n",
       " 'Indo-European',\n",
       " '',\n",
       " 'Balto-Slavic',\n",
       " '',\n",
       " '',\n",
       " 'Japanese',\n",
       " '',\n",
       " '123',\n",
       " '',\n",
       " 'Japonic',\n",
       " '',\n",
       " 'Japanese',\n",
       " '',\n",
       " '',\n",
       " 'Yue Chinese(incl. Cantonese)',\n",
       " '',\n",
       " '86.1',\n",
       " '',\n",
       " 'Sino-Tibetan',\n",
       " '',\n",
       " 'Sinitic',\n",
       " '',\n",
       " '',\n",
       " 'Vietnamese',\n",
       " '',\n",
       " '85.0',\n",
       " '',\n",
       " 'Austroasiatic',\n",
       " '',\n",
       " 'Vietic',\n",
       " '',\n",
       " '',\n",
       " 'Turkish',\n",
       " '',\n",
       " '84.0',\n",
       " '',\n",
       " 'Turkic',\n",
       " '',\n",
       " 'Oghuz',\n",
       " '',\n",
       " '',\n",
       " 'Wu Chinese(incl. Shanghainese)',\n",
       " '',\n",
       " '83.4',\n",
       " '',\n",
       " 'Sino-Tibetan',\n",
       " '',\n",
       " 'Sinitic',\n",
       " '',\n",
       " '',\n",
       " 'Marathi',\n",
       " '',\n",
       " '83.2',\n",
       " '',\n",
       " 'Indo-European',\n",
       " '',\n",
       " 'Indo-Aryan',\n",
       " '',\n",
       " '',\n",
       " 'Telugu',\n",
       " '',\n",
       " '83.0',\n",
       " '',\n",
       " 'Dravidian',\n",
       " '',\n",
       " 'South-Central',\n",
       " '',\n",
       " '',\n",
       " 'Korean',\n",
       " '',\n",
       " '81.7',\n",
       " '',\n",
       " 'Koreanic',\n",
       " '',\n",
       " '—',\n",
       " '',\n",
       " '',\n",
       " 'French',\n",
       " '',\n",
       " '80.8',\n",
       " '',\n",
       " 'Indo-European',\n",
       " '',\n",
       " 'Romance',\n",
       " '',\n",
       " '',\n",
       " 'Tamil',\n",
       " '',\n",
       " '78.6',\n",
       " '',\n",
       " 'Dravidian',\n",
       " '',\n",
       " 'South',\n",
       " '',\n",
       " '',\n",
       " 'Egyptian Spoken Arabic(excl. Saʽidi Arabic)',\n",
       " '',\n",
       " '77.4',\n",
       " '',\n",
       " 'Afroasiatic',\n",
       " '',\n",
       " 'Semitic',\n",
       " '',\n",
       " '',\n",
       " 'Standard German',\n",
       " '',\n",
       " '75.3',\n",
       " '',\n",
       " 'Indo-European',\n",
       " '',\n",
       " 'Germanic',\n",
       " '',\n",
       " '',\n",
       " 'Urdu(excl. Hindi)',\n",
       " '',\n",
       " '70.6',\n",
       " '',\n",
       " 'Indo-European',\n",
       " '',\n",
       " 'Indo-Aryan',\n",
       " '',\n",
       " '',\n",
       " 'Javanese',\n",
       " '',\n",
       " '68.3',\n",
       " '',\n",
       " 'Austronesian',\n",
       " '',\n",
       " 'Malayo-Polynesian',\n",
       " '',\n",
       " '',\n",
       " 'Western Punjabi(excl. Eastern Punjabi)',\n",
       " '',\n",
       " '66.7',\n",
       " '',\n",
       " 'Indo-European',\n",
       " '',\n",
       " 'Indo-Aryan',\n",
       " '',\n",
       " '',\n",
       " 'Italian',\n",
       " '',\n",
       " '64.6',\n",
       " '',\n",
       " 'Indo-European',\n",
       " '',\n",
       " 'Romance',\n",
       " '',\n",
       " '',\n",
       " 'Gujarati',\n",
       " '',\n",
       " '57.1',\n",
       " '',\n",
       " 'Indo-European',\n",
       " '',\n",
       " 'Indo-Aryan',\n",
       " '',\n",
       " '',\n",
       " 'Iranian Persian(excl. Dari and Tajik)',\n",
       " '',\n",
       " '57.2',\n",
       " '',\n",
       " 'Indo-European',\n",
       " '',\n",
       " 'Iranian',\n",
       " '',\n",
       " '',\n",
       " 'Bhojpuri',\n",
       " '',\n",
       " '52.3',\n",
       " '',\n",
       " 'Indo-European',\n",
       " '',\n",
       " 'Indo-Aryan',\n",
       " '',\n",
       " '',\n",
       " 'Hausa',\n",
       " '',\n",
       " '51.7',\n",
       " '',\n",
       " 'Afroasiatic',\n",
       " '',\n",
       " 'Chadic',\n",
       " '']"
      ]
     },
     "execution_count": 140,
     "metadata": {},
     "output_type": "execute_result"
    }
   ],
   "source": [
    "soup.find(\"table\").text.split(\"\\n\") #me meto en la tabla, con find"
   ]
  },
  {
   "cell_type": "code",
   "execution_count": 146,
   "metadata": {},
   "outputs": [
    {
     "data": {
      "text/plain": [
       "'\\nMandarin Chinese(incl. Standard Chinese, but excl. other varieties)\\n\\n939\\n\\nSino-Tibetan\\n\\nSinitic\\n'"
      ]
     },
     "execution_count": 146,
     "metadata": {},
     "output_type": "execute_result"
    }
   ],
   "source": [
    "soup.find(\"table\").find_all(\"tr\")[1].text #las filas son tr, le digo que me de todas con find_all"
   ]
  },
  {
   "cell_type": "code",
   "execution_count": 172,
   "metadata": {},
   "outputs": [
    {
     "data": {
      "text/plain": [
       "'Spanish  485  Indo-European  Romance'"
      ]
     },
     "execution_count": 172,
     "metadata": {},
     "output_type": "execute_result"
    }
   ],
   "source": [
    "soup.find(\"table\").find_all(\"tr\")[2].text.strip().replace(\"\\n\", \" \")"
   ]
  },
  {
   "cell_type": "code",
   "execution_count": 175,
   "metadata": {},
   "outputs": [],
   "source": [
    "filas = soup.find(\"table\").find_all(\"tr\")"
   ]
  },
  {
   "cell_type": "code",
   "execution_count": 178,
   "metadata": {},
   "outputs": [
    {
     "data": {
      "text/plain": [
       "['Language  Native speakers(millions)  Language family  Branch',\n",
       " 'Mandarin Chinese(incl. Standard Chinese, but excl. other varieties)  939  Sino-Tibetan  Sinitic',\n",
       " 'Spanish  485  Indo-European  Romance',\n",
       " 'English  380  Indo-European  Germanic',\n",
       " 'Hindi(excl. Urdu, and other languages)  345  Indo-European  Indo-Aryan',\n",
       " 'Portuguese  236  Indo-European  Romance',\n",
       " 'Bengali  234  Indo-European  Indo-Aryan',\n",
       " 'Russian  147  Indo-European  Balto-Slavic',\n",
       " 'Japanese  123  Japonic  Japanese',\n",
       " 'Yue Chinese(incl. Cantonese)  86.1  Sino-Tibetan  Sinitic',\n",
       " 'Vietnamese  85.0  Austroasiatic  Vietic',\n",
       " 'Turkish  84.0  Turkic  Oghuz',\n",
       " 'Wu Chinese(incl. Shanghainese)  83.4  Sino-Tibetan  Sinitic',\n",
       " 'Marathi  83.2  Indo-European  Indo-Aryan',\n",
       " 'Telugu  83.0  Dravidian  South-Central',\n",
       " 'Korean  81.7  Koreanic  —',\n",
       " 'French  80.8  Indo-European  Romance',\n",
       " 'Tamil  78.6  Dravidian  South',\n",
       " 'Egyptian Spoken Arabic(excl. Saʽidi Arabic)  77.4  Afroasiatic  Semitic',\n",
       " 'Standard German  75.3  Indo-European  Germanic',\n",
       " 'Urdu(excl. Hindi)  70.6  Indo-European  Indo-Aryan',\n",
       " 'Javanese  68.3  Austronesian  Malayo-Polynesian',\n",
       " 'Western Punjabi(excl. Eastern Punjabi)  66.7  Indo-European  Indo-Aryan',\n",
       " 'Italian  64.6  Indo-European  Romance',\n",
       " 'Gujarati  57.1  Indo-European  Indo-Aryan',\n",
       " 'Iranian Persian(excl. Dari and Tajik)  57.2  Indo-European  Iranian',\n",
       " 'Bhojpuri  52.3  Indo-European  Indo-Aryan',\n",
       " 'Hausa  51.7  Afroasiatic  Chadic']"
      ]
     },
     "execution_count": 178,
     "metadata": {},
     "output_type": "execute_result"
    }
   ],
   "source": [
    "list_lan = []\n",
    "\n",
    "for fila in filas:\n",
    "    texto_fila = fila.text.strip().replace(\"\\n\", \" \")\n",
    "    list_lan.append(texto_fila)\n",
    "\n",
    "list_lan"
   ]
  },
  {
   "cell_type": "code",
   "execution_count": null,
   "metadata": {},
   "outputs": [],
   "source": [
    "#podría haber separado por celdas para la tabla"
   ]
  },
  {
   "cell_type": "markdown",
   "metadata": {},
   "source": [
    "### BONUS QUESTIONS"
   ]
  },
  {
   "cell_type": "markdown",
   "metadata": {},
   "source": [
    "#### Scrape a certain number of tweets of a given Twitter account."
   ]
  },
  {
   "cell_type": "code",
   "execution_count": null,
   "metadata": {},
   "outputs": [],
   "source": [
    "# This is the url you will scrape in this exercise \n",
    "# You will need to add the account credentials to this url\n",
    "url = 'https://twitter.com/'"
   ]
  },
  {
   "cell_type": "code",
   "execution_count": null,
   "metadata": {},
   "outputs": [],
   "source": [
    "# your code"
   ]
  },
  {
   "cell_type": "markdown",
   "metadata": {},
   "source": [
    "#### IMDB's Top 250 data (movie name, Initial release, director name and stars) as a pandas dataframe"
   ]
  },
  {
   "cell_type": "code",
   "execution_count": null,
   "metadata": {},
   "outputs": [],
   "source": [
    "# This is the url you will scrape in this exercise \n",
    "url = 'https://www.imdb.com/chart/top'"
   ]
  },
  {
   "cell_type": "code",
   "execution_count": null,
   "metadata": {},
   "outputs": [],
   "source": [
    "# your code"
   ]
  },
  {
   "cell_type": "markdown",
   "metadata": {},
   "source": [
    "#### Movie name, year and a brief summary of the top 10 random movies (IMDB) as a pandas dataframe."
   ]
  },
  {
   "cell_type": "code",
   "execution_count": null,
   "metadata": {},
   "outputs": [],
   "source": [
    "#This is the url you will scrape in this exercise\n",
    "url = 'http://www.imdb.com/chart/top'"
   ]
  },
  {
   "cell_type": "code",
   "execution_count": null,
   "metadata": {},
   "outputs": [],
   "source": [
    "#your code"
   ]
  },
  {
   "cell_type": "markdown",
   "metadata": {},
   "source": [
    "#### Find the live weather report (temperature, wind speed, description and weather) of a given city."
   ]
  },
  {
   "cell_type": "code",
   "execution_count": null,
   "metadata": {},
   "outputs": [],
   "source": [
    "#https://openweathermap.org/current\n",
    "city = city=input('Enter the city:')\n",
    "url = 'http://api.openweathermap.org/data/2.5/weather?'+'q='+city+'&APPID=b35975e18dc93725acb092f7272cc6b8&units=metric'"
   ]
  },
  {
   "cell_type": "code",
   "execution_count": null,
   "metadata": {},
   "outputs": [],
   "source": [
    "# your code"
   ]
  },
  {
   "cell_type": "markdown",
   "metadata": {},
   "source": [
    "#### Book name,price and stock availability as a pandas dataframe."
   ]
  },
  {
   "cell_type": "code",
   "execution_count": null,
   "metadata": {},
   "outputs": [],
   "source": [
    "# This is the url you will scrape in this exercise. \n",
    "# It is a fictional bookstore created to be scraped. \n",
    "url = 'http://books.toscrape.com/'"
   ]
  },
  {
   "cell_type": "code",
   "execution_count": null,
   "metadata": {},
   "outputs": [],
   "source": [
    "#your code"
   ]
  }
 ],
 "metadata": {
  "kernelspec": {
   "display_name": "Python 3 (ipykernel)",
   "language": "python",
   "name": "python3"
  },
  "language_info": {
   "codemirror_mode": {
    "name": "ipython",
    "version": 3
   },
   "file_extension": ".py",
   "mimetype": "text/x-python",
   "name": "python",
   "nbconvert_exporter": "python",
   "pygments_lexer": "ipython3",
   "version": "3.11.4"
  }
 },
 "nbformat": 4,
 "nbformat_minor": 2
}
