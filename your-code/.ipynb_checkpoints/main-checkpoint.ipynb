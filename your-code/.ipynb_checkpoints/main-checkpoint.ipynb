{
 "cells": [
  {
   "cell_type": "markdown",
   "metadata": {},
   "source": [
    "# Web Scraping Lab\n",
    "\n",
    "You will find in this notebook some scrapy exercises to practise your scraping skills.\n",
    "\n",
    "**Tips:**\n",
    "\n",
    "- Check the response status code for each request to ensure you have obtained the intended contennt.\n",
    "- Print the response text in each request to understand the kind of info you are getting and its format.\n",
    "- Check for patterns in the response text to extract the data/info requested in each question.\n",
    "- Visit each url and take a look at its source through Chrome DevTools. You'll need to identify the html tags, special class names etc. used for the html content you are expected to extract."
   ]
  },
  {
   "cell_type": "markdown",
   "metadata": {},
   "source": [
    "- [Requests library](http://docs.python-requests.org/en/master/#the-user-guide) documentation \n",
    "- [Beautiful Soup Doc](https://www.crummy.com/software/BeautifulSoup/bs4/doc/)\n",
    "- [Urllib](https://docs.python.org/3/library/urllib.html#module-urllib)\n",
    "- [re lib](https://docs.python.org/3/library/re.html)\n",
    "- [lxml lib](https://lxml.de/)\n",
    "- [Scrapy](https://scrapy.org/)\n",
    "- [List of HTTP status codes](https://en.wikipedia.org/wiki/List_of_HTTP_status_codes)\n",
    "- [HTML basics](http://www.simplehtmlguide.com/cheatsheet.php)\n",
    "- [CSS basics](https://www.cssbasics.com/#page_start)"
   ]
  },
  {
   "cell_type": "markdown",
   "metadata": {},
   "source": [
    "#### Below are the libraries and modules you may need. `requests`,  `BeautifulSoup` and `pandas` are imported for you. If you prefer to use additional libraries feel free to uncomment them."
   ]
  },
  {
   "cell_type": "code",
   "execution_count": 2,
   "metadata": {},
   "outputs": [],
   "source": [
    "import requests as req\n",
    "from bs4 import BeautifulSoup as bs \n",
    "import pandas as pd\n",
    "# from pprint import pprint\n",
    "# from lxml import html\n",
    "# from lxml.html import fromstring\n",
    "# import urllib.request\n",
    "# from urllib.request import urlopen\n",
    "# import random\n",
    "# import re\n",
    "# import scrapy"
   ]
  },
  {
   "cell_type": "markdown",
   "metadata": {},
   "source": [
    "#### Download, parse (using BeautifulSoup), and print the content from the Trending Developers page from GitHub:"
   ]
  },
  {
   "cell_type": "code",
   "execution_count": 3,
   "metadata": {},
   "outputs": [],
   "source": [
    "# This is the url you will scrape in this exercise\n",
    "url = 'https://github.com/trending/developers'"
   ]
  },
  {
   "cell_type": "code",
   "execution_count": 13,
   "metadata": {},
   "outputs": [],
   "source": [
    "response = req.get(url)\n",
    "html=response.content\n",
    "soup = bs(html, 'html.parser')# parsear (traducir string a algo similar al html)"
   ]
  },
  {
   "cell_type": "code",
   "execution_count": 100,
   "metadata": {},
   "outputs": [
    {
     "name": "stdout",
     "output_type": "stream",
     "text": [
      "23 . Ismail Pelaseyed\n",
      "24 . Alex Stokes\n",
      "25 . Don Jayamanne\n",
      "26 . Stefan Prodan\n",
      "27 . Travis Cline\n",
      "28 . Oliver\n",
      "29 . dgtlmoon\n",
      "30 . Guillaume Klein\n",
      "31 . lllyasviel\n",
      "32 . Angelos Chalaris\n",
      "33 . Jon Skeet\n",
      "34 . Chris Banes\n",
      "35 . Carlos Scheidegger\n",
      "36 . Anders Eknert\n",
      "37 . Emil Ernerfeldt\n",
      "38 . Andrea Aime\n",
      "39 . Mattt\n",
      "40 . Meng Zhang\n",
      "41 . Shahed Nasser\n",
      "42 . dkhamsing\n",
      "43 . Kieron Quinn\n",
      "44 . afc163\n",
      "45 . Alan Donovan\n",
      "46 . Lee Calcote\n",
      "47 . Costa Huang\n"
     ]
    }
   ],
   "source": [
    "developers=soup.find_all('h1', class_=\"h3 lh-condensed\")\n",
    "for devs in developers:\n",
    "    a+=1\n",
    "    print(a, \".\", devs.text.strip())"
   ]
  },
  {
   "cell_type": "code",
   "execution_count": 120,
   "metadata": {},
   "outputs": [],
   "source": [
    "developers=soup.find_all('h1', class_=\"h3 lh-condensed\")\n",
    "developers2=soup.find_all('p', class_=\"f4 text-normal mb-1\")\n",
    "\n",
    "developers12=dict(zip(developers,developers2))"
   ]
  },
  {
   "cell_type": "code",
   "execution_count": 119,
   "metadata": {},
   "outputs": [
    {
     "name": "stdout",
     "output_type": "stream",
     "text": [
      "1 . Ismail Pelaseyed ---- homanp\n",
      "2 . Alex Stokes ---- ralexstokes\n",
      "3 . Don Jayamanne ---- DonJayamanne\n",
      "4 . Stefan Prodan ---- stefanprodan\n",
      "5 . Travis Cline ---- tmc\n",
      "6 . Oliver ---- SchrodingersGat\n",
      "7 . dgtlmoon ---- guillaumekln\n",
      "8 . Guillaume Klein ---- Chalarangelo\n",
      "9 . lllyasviel ---- jskeet\n",
      "10 . Angelos Chalaris ---- chrisbanes\n",
      "11 . Jon Skeet ---- cscheid\n",
      "12 . Chris Banes ---- anderseknert\n",
      "13 . Carlos Scheidegger ---- emilk\n",
      "14 . Anders Eknert ---- aaime\n",
      "15 . Emil Ernerfeldt ---- mattt\n",
      "16 . Andrea Aime ---- wsxiaoys\n",
      "17 . Mattt ---- shahednasser\n",
      "18 . Meng Zhang ---- KieronQuinn\n",
      "19 . Shahed Nasser ---- afc163\n",
      "20 . dkhamsing ---- adonovan\n",
      "21 . Kieron Quinn ---- leecalcote\n",
      "22 . afc163 ---- vwxyzjn\n"
     ]
    }
   ],
   "source": [
    "a=0\n",
    "for i in range(len(developers12)):\n",
    "    a+=1\n",
    "    print(a, \".\", developers[i].text.strip(), \"----\", developers2[i].text.strip())\n"
   ]
  },
  {
   "cell_type": "markdown",
   "metadata": {},
   "source": [
    "#### Display the names of the trending developers retrieved in the previous step.\n",
    "\n",
    "Your output should be a Python list of developer names. Each name should not contain any html tag.\n",
    "\n",
    "**Instructions:**\n",
    "\n",
    "1. Find out the html tag and class names used for the developer names. You can achieve this using Chrome DevTools.\n",
    "\n",
    "1. Use BeautifulSoup to extract all the html elements that contain the developer names.\n",
    "\n",
    "1. Use string manipulation techniques to replace whitespaces and linebreaks (i.e. `\\n`) in the *text* of each html element. Use a list to store the clean names.\n",
    "\n",
    "1. Print the list of names.\n",
    "\n",
    "Your output should look like below:\n",
    "\n",
    "```\n",
    "['trimstray (@trimstray)',\n",
    " 'joewalnes (JoeWalnes)',\n",
    " 'charlax (Charles-AxelDein)',\n",
    " 'ForrestKnight (ForrestKnight)',\n",
    " 'revery-ui (revery-ui)',\n",
    " 'alibaba (Alibaba)',\n",
    " 'Microsoft (Microsoft)',\n",
    " 'github (GitHub)',\n",
    " 'facebook (Facebook)',\n",
    " 'boazsegev (Bo)',\n",
    " 'google (Google)',\n",
    " 'cloudfetch',\n",
    " 'sindresorhus (SindreSorhus)',\n",
    " 'tensorflow',\n",
    " 'apache (TheApacheSoftwareFoundation)',\n",
    " 'DevonCrawford (DevonCrawford)',\n",
    " 'ARMmbed (ArmMbed)',\n",
    " 'vuejs (vuejs)',\n",
    " 'fastai (fast.ai)',\n",
    " 'QiShaoXuan (Qi)',\n",
    " 'joelparkerhenderson (JoelParkerHenderson)',\n",
    " 'torvalds (LinusTorvalds)',\n",
    " 'CyC2018',\n",
    " 'komeiji-satori (神楽坂覚々)',\n",
    " 'script-8']\n",
    " ```"
   ]
  },
  {
   "cell_type": "markdown",
   "metadata": {},
   "source": [
    "#### Display the trending Python repositories in GitHub\n",
    "\n",
    "The steps to solve this problem is similar to the previous one except that you need to find out the repository names instead of developer names."
   ]
  },
  {
   "cell_type": "code",
   "execution_count": 123,
   "metadata": {},
   "outputs": [],
   "source": [
    "# This is the url you will scrape in this exercise\n",
    "url = 'https://github.com/trending/python?since=daily'"
   ]
  },
  {
   "cell_type": "code",
   "execution_count": 124,
   "metadata": {},
   "outputs": [],
   "source": [
    "response = req.get(url)\n",
    "html=response.content\n",
    "soup = bs(html, 'html.parser')# parsear (traducir string a algo similar al html)"
   ]
  },
  {
   "cell_type": "code",
   "execution_count": 141,
   "metadata": {},
   "outputs": [
    {
     "name": "stdout",
     "output_type": "stream",
     "text": [
      "1 . ChatGLM3\n",
      "2 . Wonder3D\n",
      "3 . public-apis\n",
      "4 . system-design-primer\n",
      "5 . devops-exercises\n",
      "6 . ChatDev\n",
      "7 . reflex\n",
      "8 . face_recognition\n",
      "9 . langflow\n",
      "10 . raven\n",
      "11 . nnUNet\n",
      "12 . Fooocus\n",
      "13 . CogVLM\n",
      "14 . rag-demystified\n",
      "15 . PaddleOCR\n",
      "16 . deepface\n",
      "17 . ungoogled-chromium\n",
      "18 . poetry\n",
      "19 . django\n",
      "20 . bisheng\n",
      "21 . litestar\n",
      "22 . whisper\n",
      "23 . discord_bot\n",
      "24 . autotrain-advanced\n",
      "25 . haystack\n"
     ]
    }
   ],
   "source": [
    "repos=soup.find_all('h2', class_=\"h3 lh-condensed\")\n",
    "\n",
    "a=0\n",
    "for i in range(len(repos)):\n",
    "    a+=1\n",
    "    print(a, \".\", repos[i].text.strip().split(\" \")[-1])\n"
   ]
  },
  {
   "cell_type": "markdown",
   "metadata": {},
   "source": [
    "#### Display all the image links from Walt Disney wikipedia page"
   ]
  },
  {
   "cell_type": "code",
   "execution_count": 152,
   "metadata": {},
   "outputs": [],
   "source": [
    "# This is the url you will scrape in this exercise\n",
    "url = 'https://en.wikipedia.org/wiki/Walt_Disney'"
   ]
  },
  {
   "cell_type": "code",
   "execution_count": 153,
   "metadata": {},
   "outputs": [],
   "source": [
    "response = req.get(url)\n",
    "html=response.content\n",
    "soup = bs(html, 'html.parser')# parsear (traducir string a algo similar al html)"
   ]
  },
  {
   "cell_type": "code",
   "execution_count": 162,
   "metadata": {},
   "outputs": [
    {
     "name": "stdout",
     "output_type": "stream",
     "text": [
      "1 . Walt_Disney_1946.JPG\n",
      "2 . Walt_Disney_1942_signature.svg\n",
      "3 . Walt_Disney_Birthplace_Exterior_Hermosa_Chicago_Illinois.jpg\n",
      "4 . Walt_Disney_envelope_ca._1921.jpg\n",
      "5 . Steamboat-willie.jpg\n",
      "6 . Walt_Disney_Snow_white_1937_trailer_screenshot_(13).jpg\n",
      "7 . Disney_drawing_goofy.jpg\n",
      "8 . WaltDisneyplansDisneylandDec1954.jpg\n",
      "9 . Walt_disney_portrait_right.jpg\n",
      "10 . Walt_Disney_Grave.JPG\n",
      "11 . DisneySchiphol1951.jpg\n",
      "12 . Disney1968.jpg\n",
      "13 . Disney_Oscar_1953_(cropped).jpg\n",
      "14 . Disneyland_Resort_logo.svg\n",
      "15 . Animation_disc.svg\n",
      "16 . Magic_Kingdom_castle.jpg\n",
      "17 . Blank_television_set.svg\n"
     ]
    }
   ],
   "source": [
    "images=soup.find_all('a', class_=\"mw-file-description\")\n",
    "\n",
    "images[0].attrs['href']\n",
    "\n",
    "\n",
    "a=0\n",
    "for i in range(len(images)):\n",
    "    a+=1\n",
    "    print(a, \".\", images[i].attrs['href'].split(\":\")[-1])\n",
    "\n"
   ]
  },
  {
   "cell_type": "markdown",
   "metadata": {},
   "source": [
    "#### Retrieve an arbitary Wikipedia page of \"Python\" and create a list of links on that page"
   ]
  },
  {
   "cell_type": "code",
   "execution_count": 167,
   "metadata": {},
   "outputs": [],
   "source": [
    "# This is the url you will scrape in this exercise\n",
    "url ='https://en.wiktionary.org/wiki/Python' "
   ]
  },
  {
   "cell_type": "code",
   "execution_count": 168,
   "metadata": {},
   "outputs": [],
   "source": [
    "response = req.get(url)\n",
    "html=response.content\n",
    "soup = bs(html, 'html.parser')# parsear (traducir string a algo similar al html)"
   ]
  },
  {
   "cell_type": "code",
   "execution_count": 172,
   "metadata": {},
   "outputs": [
    {
     "data": {
      "text/plain": [
       "['https://species.wikimedia.org/wiki/Python_reticulatus',\n",
       " 'https://en.wikipedia.org/wiki/Ancient_Greek',\n",
       " 'https://species.wikimedia.org/wiki/Pythoninae',\n",
       " 'https://species.wikimedia.org/wiki/Python_molurus',\n",
       " 'https://species.wikimedia.org/wiki/Python_anchietae',\n",
       " 'https://species.wikimedia.org/wiki/Python_bivittatus',\n",
       " 'https://species.wikimedia.org/wiki/Python_breitensteini',\n",
       " 'https://species.wikimedia.org/wiki/Python_brongersmai',\n",
       " 'https://species.wikimedia.org/wiki/Python_curtus',\n",
       " 'https://species.wikimedia.org/wiki/Python_kyaiktiyo']"
      ]
     },
     "execution_count": 172,
     "metadata": {},
     "output_type": "execute_result"
    }
   ],
   "source": [
    "links=soup.find_all('a', class_=\"extiw\")\n",
    "\n",
    "href_list = [link['href'] for link in links] ### as comprehension\n",
    "\n",
    "href_list[:10]"
   ]
  },
  {
   "cell_type": "markdown",
   "metadata": {},
   "source": [
    "#### Number of Titles that have changed in the United States Code since its last release point "
   ]
  },
  {
   "cell_type": "code",
   "execution_count": 173,
   "metadata": {},
   "outputs": [],
   "source": [
    "# This is the url you will scrape in this exercise\n",
    "url = 'http://uscode.house.gov/download/download.shtml'\n",
    "response = req.get(url)\n",
    "html=response.content\n",
    "soup = bs(html, 'html.parser')# parsear (traducir string a algo similar al html)"
   ]
  },
  {
   "cell_type": "code",
   "execution_count": 258,
   "metadata": {},
   "outputs": [
    {
     "name": "stdout",
     "output_type": "stream",
     "text": [
      "['Title 20 - Education', \"Title 38 - Veterans' Benefits٭\"]\n"
     ]
    }
   ],
   "source": [
    "changed_tit=[]\n",
    "titles=soup.find_all('div', class_=\"uscitem\")\n",
    "for i in range(1,len(titles)):\n",
    "    #print(titles[i].text)\n",
    "    res = titles[i].find_all(\"div\", class_=\"usctitlechanged\")\n",
    "    if(len(res)!=0):\n",
    "        changed_tit.append(res[0].get_text(strip=True))\n",
    "\n",
    "print(changed_tit)"
   ]
  },
  {
   "cell_type": "markdown",
   "metadata": {},
   "source": [
    "#### A Python list with the top ten FBI's Most Wanted names "
   ]
  },
  {
   "cell_type": "markdown",
   "metadata": {},
   "source": [
    "#### This is the url you will scrape in this exercise\n",
    "url = 'https://www.fbi.gov/wanted/topten'"
   ]
  },
  {
   "cell_type": "markdown",
   "metadata": {},
   "source": [
    "#### NOT AVAILABLE"
   ]
  },
  {
   "cell_type": "markdown",
   "metadata": {},
   "source": [
    "####  20 latest earthquakes info (date, time, latitude, longitude and region name) by the EMSC as a pandas dataframe"
   ]
  },
  {
   "cell_type": "markdown",
   "metadata": {},
   "source": [
    "#### This is the url you will scrape in this exercise\n",
    "url = 'https://www.emsc-csem.org/Earthquake/'"
   ]
  },
  {
   "cell_type": "markdown",
   "metadata": {},
   "source": [
    "#### NOT AVAILABLE"
   ]
  },
  {
   "cell_type": "markdown",
   "metadata": {},
   "source": [
    "#### Display the date, days, title, city, country of next 25 hackathon events as a Pandas dataframe table"
   ]
  },
  {
   "cell_type": "markdown",
   "metadata": {},
   "source": [
    "#### This is the url you will scrape in this exercise\n",
    "url ='https://hackevents.co/hackathons'"
   ]
  },
  {
   "cell_type": "markdown",
   "metadata": {},
   "source": [
    "#### NOT AVAILABLE"
   ]
  },
  {
   "cell_type": "markdown",
   "metadata": {},
   "source": [
    "#### Count number of tweets by a given Twitter account."
   ]
  },
  {
   "cell_type": "markdown",
   "metadata": {},
   "source": [
    "You will need to include a ***try/except block*** for account names not found. \n",
    "<br>***Hint:*** the program should count the number of tweets for any provided account"
   ]
  },
  {
   "cell_type": "markdown",
   "metadata": {},
   "source": [
    "#### This is the url you will scrape in this exercise \n",
    "#### You will need to add the account credentials to this url\n",
    "url = 'https://twitter.com/'"
   ]
  },
  {
   "cell_type": "markdown",
   "metadata": {},
   "source": [
    "#### NOT AVAILABLE"
   ]
  },
  {
   "cell_type": "markdown",
   "metadata": {},
   "source": [
    "#### Number of followers of a given twitter account"
   ]
  },
  {
   "cell_type": "markdown",
   "metadata": {},
   "source": [
    "You will need to include a ***try/except block*** in case account/s name not found. \n",
    "<br>***Hint:*** the program should count the followers for any provided account"
   ]
  },
  {
   "cell_type": "markdown",
   "metadata": {},
   "source": [
    "#### This is the url you will scrape in this exercise \n",
    "#### You will need to add the account credentials to this url\n",
    "url = 'https://twitter.com/'"
   ]
  },
  {
   "cell_type": "markdown",
   "metadata": {},
   "source": [
    "#### NOT AVAILABLE"
   ]
  },
  {
   "cell_type": "markdown",
   "metadata": {},
   "source": [
    "#### List all language names and number of related articles in the order they appear in wikipedia.org"
   ]
  },
  {
   "cell_type": "code",
   "execution_count": 391,
   "metadata": {},
   "outputs": [],
   "source": [
    "# This is the url you will scrape in this exercise\n",
    "url = 'https://www.wikipedia.org/'\n",
    "response = req.get(url)\n",
    "html=response.content\n",
    "soup = bs(html, 'html.parser')# parsear (traducir string a algo similar al html)"
   ]
  },
  {
   "cell_type": "code",
   "execution_count": 392,
   "metadata": {},
   "outputs": [],
   "source": [
    "languages=soup.find_all(\"a\", class_=\"link-box\")"
   ]
  },
  {
   "cell_type": "code",
   "execution_count": 393,
   "metadata": {},
   "outputs": [
    {
     "data": {
      "text/plain": [
       "['English',\n",
       " '日本語',\n",
       " 'Español',\n",
       " 'Русский',\n",
       " 'Deutsch',\n",
       " 'Français',\n",
       " 'Italiano',\n",
       " '中文',\n",
       " 'Português',\n",
       " 'العربية']"
      ]
     },
     "execution_count": 393,
     "metadata": {},
     "output_type": "execute_result"
    }
   ],
   "source": [
    "#display(languages[9], languages[0])\n",
    "\n",
    "lang_list=[]\n",
    "for i in range(len(languages)):\n",
    "    if (str(languages[i]).split(\"<strong>\")[1].split(\"<\")[0]!=\"\"):\n",
    "        lang_list.append(str(languages[i]).split(\"<strong>\")[1].split(\"<\")[0])\n",
    "    elif (str(languages[i]).split(\"<strong>\")[1].split(\"<\")[0]==\"\"): #arabic\n",
    "        lang_list.append(str(languages[9]).split(\"<strong>\")[1].split(\">\")[1].split(\"</bdi\")[0])\n",
    "    else: \n",
    "        lang_list.append(\"error\")\n",
    "        \n",
    "        \n",
    "lang_list"
   ]
  },
  {
   "cell_type": "code",
   "execution_count": 394,
   "metadata": {},
   "outputs": [],
   "source": [
    "article_list=[]\n",
    "for i in range(len(languages)):\n",
    "    art=languages[i].text\n",
    "    #print(art)\n",
    "    articles=[]\n",
    "    for i in art:\n",
    "        if (i.isdigit()):\n",
    "            articles+=i\n",
    "    articles=int(''.join(articles))\n",
    "    article_list.append(articles)\n",
    "    \n",
    "article_list\n",
    "\n",
    "lang_art=dict(zip(lang_list, article_list))"
   ]
  },
  {
   "cell_type": "code",
   "execution_count": 395,
   "metadata": {},
   "outputs": [
    {
     "data": {
      "text/plain": [
       "{'English': 6715000,\n",
       " '日本語': 1387000,\n",
       " 'Español': 1892000,\n",
       " 'Русский': 1938000,\n",
       " 'Deutsch': 2836000,\n",
       " 'Français': 2553000,\n",
       " 'Italiano': 1826000,\n",
       " '中文': 1377000,\n",
       " 'Português': 1109000,\n",
       " 'العربية': 1217000}"
      ]
     },
     "execution_count": 395,
     "metadata": {},
     "output_type": "execute_result"
    }
   ],
   "source": [
    "lang_art"
   ]
  },
  {
   "cell_type": "markdown",
   "metadata": {},
   "source": [
    "#### A list with the different kind of datasets available in data.gov.uk "
   ]
  },
  {
   "cell_type": "code",
   "execution_count": 409,
   "metadata": {},
   "outputs": [],
   "source": [
    "# This is the url you will scrape in this exercise\n",
    "url = 'https://data.gov.uk/'\n",
    "response = req.get(url)\n",
    "html=response.content\n",
    "soup = bs(html, 'html.parser')# parsear (traducir string a algo similar al html)"
   ]
  },
  {
   "cell_type": "code",
   "execution_count": 414,
   "metadata": {},
   "outputs": [
    {
     "data": {
      "text/plain": [
       "['Business and economy',\n",
       " 'Crime and justice',\n",
       " 'Defence',\n",
       " 'Education',\n",
       " 'Environment',\n",
       " 'Government',\n",
       " 'Government spending',\n",
       " 'Health',\n",
       " 'Mapping',\n",
       " 'Society',\n",
       " 'Towns and cities',\n",
       " 'Transport',\n",
       " 'Digital service performance',\n",
       " 'Government reference data']"
      ]
     },
     "execution_count": 414,
     "metadata": {},
     "output_type": "execute_result"
    }
   ],
   "source": [
    "datasets=soup.find_all(\"h3\", class_=\"govuk-heading-s dgu-topics__heading\")\n",
    "\n",
    "[seti.text for seti in datasets]"
   ]
  },
  {
   "cell_type": "markdown",
   "metadata": {},
   "source": [
    "#### Top 10 languages by number of native speakers stored in a Pandas Dataframe"
   ]
  },
  {
   "cell_type": "code",
   "execution_count": 421,
   "metadata": {},
   "outputs": [],
   "source": [
    "# This is the url you will scrape in this exercise\n",
    "url = 'https://en.wikipedia.org/wiki/List_of_languages_by_number_of_native_speakers'\n",
    "response = req.get(url)\n",
    "html=response.content\n",
    "soup = bs(html, 'html.parser')# parsear (traducir string a algo similar al html)"
   ]
  },
  {
   "cell_type": "code",
   "execution_count": 427,
   "metadata": {},
   "outputs": [
    {
     "data": {
      "text/plain": [
       "<table class=\"wikitable sortable static-row-numbers\">\n",
       "<caption>Languages with at least 50 million first-language speakers<sup class=\"reference\" id=\"cite_ref-e26_7-1\"><a href=\"#cite_note-e26-7\">[7]</a></sup>\n",
       "</caption>\n",
       "<tbody><tr>\n",
       "<th>Language\n",
       "</th>\n",
       "<th data-sort-type=\"number\">Native speakers<br/><small>(millions)</small>\n",
       "</th>\n",
       "<th>Language family\n",
       "</th>\n",
       "<th>Branch\n",
       "</th></tr>\n",
       "<tr>\n",
       "<td><a class=\"mw-redirect\" href=\"/wiki/ISO_639:cmn\" title=\"ISO 639:cmn\">Mandarin Chinese</a><br/>(incl. <a href=\"/wiki/Standard_Chinese\" title=\"Standard Chinese\">Standard Chinese</a>, but excl. <a href=\"/wiki/Varieties_of_Chinese\" title=\"Varieties of Chinese\">other varieties</a>)\n",
       "</td>\n",
       "<td>939\n",
       "</td>\n",
       "<td><a href=\"/wiki/Sino-Tibetan_languages\" title=\"Sino-Tibetan languages\">Sino-Tibetan</a>\n",
       "</td>\n",
       "<td><a href=\"/wiki/Sinitic_languages\" title=\"Sinitic languages\">Sinitic</a>\n",
       "</td></tr>\n",
       "<tr>\n",
       "<td><a class=\"mw-redirect\" href=\"/wiki/ISO_639:spa\" title=\"ISO 639:spa\">Spanish</a>\n",
       "</td>\n",
       "<td>485\n",
       "</td>\n",
       "<td><a href=\"/wiki/Indo-European_languages\" title=\"Indo-European languages\">Indo-European</a>\n",
       "</td>\n",
       "<td><a href=\"/wiki/Romance_languages\" title=\"Romance languages\">Romance</a>\n",
       "</td></tr>\n",
       "<tr>\n",
       "<td><a class=\"mw-redirect\" href=\"/wiki/ISO_639:eng\" title=\"ISO 639:eng\">English</a>\n",
       "</td>\n",
       "<td>380\n",
       "</td>\n",
       "<td><a href=\"/wiki/Indo-European_languages\" title=\"Indo-European languages\">Indo-European</a>\n",
       "</td>\n",
       "<td><a href=\"/wiki/Germanic_languages\" title=\"Germanic languages\">Germanic</a>\n",
       "</td></tr>\n",
       "<tr>\n",
       "<td><a class=\"mw-redirect\" href=\"/wiki/ISO_639:hin\" title=\"ISO 639:hin\">Hindi</a><br/>(excl. <a href=\"/wiki/Urdu\" title=\"Urdu\">Urdu</a>, and <a href=\"/wiki/Hindi_Belt\" title=\"Hindi Belt\">other languages</a>)\n",
       "</td>\n",
       "<td>345\n",
       "</td>\n",
       "<td><a href=\"/wiki/Indo-European_languages\" title=\"Indo-European languages\">Indo-European</a>\n",
       "</td>\n",
       "<td><a href=\"/wiki/Indo-Aryan_languages\" title=\"Indo-Aryan languages\">Indo-Aryan</a>\n",
       "</td></tr>\n",
       "<tr>\n",
       "<td><a class=\"mw-redirect\" href=\"/wiki/ISO_639:por\" title=\"ISO 639:por\">Portuguese</a>\n",
       "</td>\n",
       "<td>236\n",
       "</td>\n",
       "<td><a href=\"/wiki/Indo-European_languages\" title=\"Indo-European languages\">Indo-European</a>\n",
       "</td>\n",
       "<td><a href=\"/wiki/Romance_languages\" title=\"Romance languages\">Romance</a>\n",
       "</td></tr>\n",
       "<tr>\n",
       "<td><a class=\"mw-redirect\" href=\"/wiki/ISO_639:ben\" title=\"ISO 639:ben\">Bengali</a>\n",
       "</td>\n",
       "<td>234\n",
       "</td>\n",
       "<td><a href=\"/wiki/Indo-European_languages\" title=\"Indo-European languages\">Indo-European</a>\n",
       "</td>\n",
       "<td><a href=\"/wiki/Indo-Aryan_languages\" title=\"Indo-Aryan languages\">Indo-Aryan</a>\n",
       "</td></tr>\n",
       "<tr>\n",
       "<td><a class=\"mw-redirect\" href=\"/wiki/ISO_639:rus\" title=\"ISO 639:rus\">Russian</a>\n",
       "</td>\n",
       "<td>147\n",
       "</td>\n",
       "<td><a href=\"/wiki/Indo-European_languages\" title=\"Indo-European languages\">Indo-European</a>\n",
       "</td>\n",
       "<td><a href=\"/wiki/Balto-Slavic_languages\" title=\"Balto-Slavic languages\">Balto-Slavic</a>\n",
       "</td></tr>\n",
       "<tr>\n",
       "<td><a class=\"mw-redirect\" href=\"/wiki/ISO_639:jpn\" title=\"ISO 639:jpn\">Japanese</a>\n",
       "</td>\n",
       "<td>123\n",
       "</td>\n",
       "<td><a href=\"/wiki/Japonic_languages\" title=\"Japonic languages\">Japonic</a>\n",
       "</td>\n",
       "<td><a href=\"/wiki/Japanese_language\" title=\"Japanese language\">Japanese</a>\n",
       "</td></tr>\n",
       "<tr>\n",
       "<td><a class=\"mw-redirect\" href=\"/wiki/ISO_639:yue\" title=\"ISO 639:yue\">Yue Chinese</a><br/>(incl. <a href=\"/wiki/Cantonese\" title=\"Cantonese\">Cantonese</a>)\n",
       "</td>\n",
       "<td>86.1\n",
       "</td>\n",
       "<td><a href=\"/wiki/Sino-Tibetan_languages\" title=\"Sino-Tibetan languages\">Sino-Tibetan</a>\n",
       "</td>\n",
       "<td><a href=\"/wiki/Sinitic_languages\" title=\"Sinitic languages\">Sinitic</a>\n",
       "</td></tr>\n",
       "<tr>\n",
       "<td><a class=\"mw-redirect\" href=\"/wiki/ISO_639:vie\" title=\"ISO 639:vie\">Vietnamese</a>\n",
       "</td>\n",
       "<td>85.0\n",
       "</td>\n",
       "<td><a href=\"/wiki/Austroasiatic_languages\" title=\"Austroasiatic languages\">Austroasiatic</a>\n",
       "</td>\n",
       "<td><a href=\"/wiki/Vietic_languages\" title=\"Vietic languages\">Vietic</a>\n",
       "</td></tr>\n",
       "<tr>\n",
       "<td><a class=\"mw-redirect\" href=\"/wiki/ISO_639:tur\" title=\"ISO 639:tur\">Turkish</a>\n",
       "</td>\n",
       "<td>84.0\n",
       "</td>\n",
       "<td><a href=\"/wiki/Turkic_languages\" title=\"Turkic languages\">Turkic</a>\n",
       "</td>\n",
       "<td><a href=\"/wiki/Oghuz_languages\" title=\"Oghuz languages\">Oghuz</a>\n",
       "</td></tr>\n",
       "<tr>\n",
       "<td><a class=\"mw-redirect\" href=\"/wiki/ISO_639:wuu\" title=\"ISO 639:wuu\">Wu Chinese</a><br/>(incl. <a href=\"/wiki/Shanghainese\" title=\"Shanghainese\">Shanghainese</a>)\n",
       "</td>\n",
       "<td>83.4\n",
       "</td>\n",
       "<td><a href=\"/wiki/Sino-Tibetan_languages\" title=\"Sino-Tibetan languages\">Sino-Tibetan</a>\n",
       "</td>\n",
       "<td><a href=\"/wiki/Sinitic_languages\" title=\"Sinitic languages\">Sinitic</a>\n",
       "</td></tr>\n",
       "<tr>\n",
       "<td><a class=\"mw-redirect\" href=\"/wiki/ISO_639:mar\" title=\"ISO 639:mar\">Marathi</a>\n",
       "</td>\n",
       "<td>83.2\n",
       "</td>\n",
       "<td><a href=\"/wiki/Indo-European_languages\" title=\"Indo-European languages\">Indo-European</a>\n",
       "</td>\n",
       "<td><a href=\"/wiki/Indo-Aryan_languages\" title=\"Indo-Aryan languages\">Indo-Aryan</a>\n",
       "</td></tr>\n",
       "<tr>\n",
       "<td><a class=\"mw-redirect\" href=\"/wiki/ISO_639:tel\" title=\"ISO 639:tel\">Telugu</a>\n",
       "</td>\n",
       "<td>83.0\n",
       "</td>\n",
       "<td><a href=\"/wiki/Dravidian_languages\" title=\"Dravidian languages\">Dravidian</a>\n",
       "</td>\n",
       "<td>South-Central\n",
       "</td></tr>\n",
       "<tr>\n",
       "<td><a class=\"mw-redirect\" href=\"/wiki/ISO_639:kor\" title=\"ISO 639:kor\">Korean</a>\n",
       "</td>\n",
       "<td>81.7\n",
       "</td>\n",
       "<td><a href=\"/wiki/Koreanic_languages\" title=\"Koreanic languages\">Koreanic</a>\n",
       "</td>\n",
       "<td class=\"table-na\" data-sort-value=\"\" style=\"background: #ececec; color: #2C2C2C; vertical-align: middle; text-align: center;\">—\n",
       "</td></tr>\n",
       "<tr>\n",
       "<td><a class=\"mw-redirect\" href=\"/wiki/ISO_639:fra\" title=\"ISO 639:fra\">French</a>\n",
       "</td>\n",
       "<td>80.8\n",
       "</td>\n",
       "<td><a href=\"/wiki/Indo-European_languages\" title=\"Indo-European languages\">Indo-European</a>\n",
       "</td>\n",
       "<td><a href=\"/wiki/Romance_languages\" title=\"Romance languages\">Romance</a>\n",
       "</td></tr>\n",
       "<tr>\n",
       "<td><a class=\"mw-redirect\" href=\"/wiki/ISO_639:tam\" title=\"ISO 639:tam\">Tamil</a>\n",
       "</td>\n",
       "<td>78.6\n",
       "</td>\n",
       "<td><a href=\"/wiki/Dravidian_languages\" title=\"Dravidian languages\">Dravidian</a>\n",
       "</td>\n",
       "<td>South\n",
       "</td></tr>\n",
       "<tr>\n",
       "<td><a class=\"mw-redirect\" href=\"/wiki/ISO_639:arz\" title=\"ISO 639:arz\">Egyptian Spoken Arabic</a><br/>(excl. <a href=\"/wiki/Sa%CA%BDidi_Arabic\" title=\"Saʽidi Arabic\">Saʽidi Arabic</a>)\n",
       "</td>\n",
       "<td>77.4\n",
       "</td>\n",
       "<td><a href=\"/wiki/Afroasiatic_languages\" title=\"Afroasiatic languages\">Afroasiatic</a>\n",
       "</td>\n",
       "<td><a href=\"/wiki/Semitic_languages\" title=\"Semitic languages\">Semitic</a>\n",
       "</td></tr>\n",
       "<tr>\n",
       "<td><a class=\"mw-redirect\" href=\"/wiki/ISO_639:deu\" title=\"ISO 639:deu\">Standard German</a>\n",
       "</td>\n",
       "<td>75.3\n",
       "</td>\n",
       "<td><a href=\"/wiki/Indo-European_languages\" title=\"Indo-European languages\">Indo-European</a>\n",
       "</td>\n",
       "<td><a href=\"/wiki/Germanic_languages\" title=\"Germanic languages\">Germanic</a>\n",
       "</td></tr>\n",
       "<tr>\n",
       "<td><a class=\"mw-redirect\" href=\"/wiki/ISO_639:urd\" title=\"ISO 639:urd\">Urdu</a><br/>(excl. <a href=\"/wiki/Hindi\" title=\"Hindi\">Hindi</a>)\n",
       "</td>\n",
       "<td>70.6\n",
       "</td>\n",
       "<td><a href=\"/wiki/Indo-European_languages\" title=\"Indo-European languages\">Indo-European</a>\n",
       "</td>\n",
       "<td><a href=\"/wiki/Indo-Aryan_languages\" title=\"Indo-Aryan languages\">Indo-Aryan</a>\n",
       "</td></tr>\n",
       "<tr>\n",
       "<td><a class=\"mw-redirect\" href=\"/wiki/ISO_639:jav\" title=\"ISO 639:jav\">Javanese</a>\n",
       "</td>\n",
       "<td>68.3\n",
       "</td>\n",
       "<td><a href=\"/wiki/Austronesian_languages\" title=\"Austronesian languages\">Austronesian</a>\n",
       "</td>\n",
       "<td><a href=\"/wiki/Malayo-Polynesian_languages\" title=\"Malayo-Polynesian languages\">Malayo-Polynesian</a>\n",
       "</td></tr>\n",
       "<tr>\n",
       "<td><a class=\"mw-redirect\" href=\"/wiki/ISO_639:pnb\" title=\"ISO 639:pnb\">Western Punjabi</a><br/>(excl. <a class=\"mw-redirect\" href=\"/wiki/Eastern_Punjabi_language\" title=\"Eastern Punjabi language\">Eastern Punjabi</a>)\n",
       "</td>\n",
       "<td>66.7\n",
       "</td>\n",
       "<td><a href=\"/wiki/Indo-European_languages\" title=\"Indo-European languages\">Indo-European</a>\n",
       "</td>\n",
       "<td><a href=\"/wiki/Indo-Aryan_languages\" title=\"Indo-Aryan languages\">Indo-Aryan</a>\n",
       "</td></tr>\n",
       "<tr>\n",
       "<td><a class=\"mw-redirect\" href=\"/wiki/ISO_639:ita\" title=\"ISO 639:ita\">Italian</a>\n",
       "</td>\n",
       "<td>64.6\n",
       "</td>\n",
       "<td><a href=\"/wiki/Indo-European_languages\" title=\"Indo-European languages\">Indo-European</a>\n",
       "</td>\n",
       "<td><a href=\"/wiki/Romance_languages\" title=\"Romance languages\">Romance</a>\n",
       "</td></tr>\n",
       "<tr>\n",
       "<td><a class=\"mw-redirect\" href=\"/wiki/ISO_639:guj\" title=\"ISO 639:guj\">Gujarati</a>\n",
       "</td>\n",
       "<td>57.1\n",
       "</td>\n",
       "<td><a href=\"/wiki/Indo-European_languages\" title=\"Indo-European languages\">Indo-European</a>\n",
       "</td>\n",
       "<td><a href=\"/wiki/Indo-Aryan_languages\" title=\"Indo-Aryan languages\">Indo-Aryan</a>\n",
       "</td></tr>\n",
       "<tr>\n",
       "<td><a class=\"mw-redirect\" href=\"/wiki/ISO_639:pes\" title=\"ISO 639:pes\">Iranian Persian</a><br/>(excl. <a href=\"/wiki/Dari\" title=\"Dari\">Dari</a> and <a href=\"/wiki/Tajik_language\" title=\"Tajik language\">Tajik</a>)\n",
       "</td>\n",
       "<td>57.2\n",
       "</td>\n",
       "<td><a href=\"/wiki/Indo-European_languages\" title=\"Indo-European languages\">Indo-European</a>\n",
       "</td>\n",
       "<td><a href=\"/wiki/Iranian_languages\" title=\"Iranian languages\">Iranian</a>\n",
       "</td></tr>\n",
       "<tr>\n",
       "<td><a class=\"mw-redirect\" href=\"/wiki/ISO_639:bho\" title=\"ISO 639:bho\">Bhojpuri</a>\n",
       "</td>\n",
       "<td>52.3\n",
       "</td>\n",
       "<td><a href=\"/wiki/Indo-European_languages\" title=\"Indo-European languages\">Indo-European</a>\n",
       "</td>\n",
       "<td><a href=\"/wiki/Indo-Aryan_languages\" title=\"Indo-Aryan languages\">Indo-Aryan</a>\n",
       "</td></tr>\n",
       "<tr>\n",
       "<td><a class=\"mw-redirect\" href=\"/wiki/ISO_639:hau\" title=\"ISO 639:hau\">Hausa</a>\n",
       "</td>\n",
       "<td>51.7\n",
       "</td>\n",
       "<td><a href=\"/wiki/Afroasiatic_languages\" title=\"Afroasiatic languages\">Afroasiatic</a>\n",
       "</td>\n",
       "<td><a href=\"/wiki/Chadic_languages\" title=\"Chadic languages\">Chadic</a>\n",
       "</td></tr></tbody></table>"
      ]
     },
     "execution_count": 427,
     "metadata": {},
     "output_type": "execute_result"
    }
   ],
   "source": [
    "tables=soup.find_all('table')\n",
    "\n",
    "tables[0]"
   ]
  },
  {
   "cell_type": "markdown",
   "metadata": {},
   "source": [
    "### BONUS QUESTIONS"
   ]
  },
  {
   "cell_type": "markdown",
   "metadata": {},
   "source": [
    "#### Scrape a certain number of tweets of a given Twitter account."
   ]
  },
  {
   "cell_type": "code",
   "execution_count": null,
   "metadata": {},
   "outputs": [],
   "source": [
    "# This is the url you will scrape in this exercise \n",
    "# You will need to add the account credentials to this url\n",
    "url = 'https://twitter.com/'"
   ]
  },
  {
   "cell_type": "code",
   "execution_count": null,
   "metadata": {},
   "outputs": [],
   "source": [
    "# your code"
   ]
  },
  {
   "cell_type": "markdown",
   "metadata": {},
   "source": [
    "#### IMDB's Top 250 data (movie name, Initial release, director name and stars) as a pandas dataframe"
   ]
  },
  {
   "cell_type": "code",
   "execution_count": null,
   "metadata": {},
   "outputs": [],
   "source": [
    "# This is the url you will scrape in this exercise \n",
    "url = 'https://www.imdb.com/chart/top'"
   ]
  },
  {
   "cell_type": "code",
   "execution_count": null,
   "metadata": {},
   "outputs": [],
   "source": [
    "# your code"
   ]
  },
  {
   "cell_type": "markdown",
   "metadata": {},
   "source": [
    "#### Movie name, year and a brief summary of the top 10 random movies (IMDB) as a pandas dataframe."
   ]
  },
  {
   "cell_type": "code",
   "execution_count": null,
   "metadata": {},
   "outputs": [],
   "source": [
    "#This is the url you will scrape in this exercise\n",
    "url = 'http://www.imdb.com/chart/top'"
   ]
  },
  {
   "cell_type": "code",
   "execution_count": null,
   "metadata": {},
   "outputs": [],
   "source": [
    "#your code"
   ]
  },
  {
   "cell_type": "markdown",
   "metadata": {},
   "source": [
    "#### Find the live weather report (temperature, wind speed, description and weather) of a given city."
   ]
  },
  {
   "cell_type": "code",
   "execution_count": null,
   "metadata": {},
   "outputs": [],
   "source": [
    "#https://openweathermap.org/current\n",
    "city = city=input('Enter the city:')\n",
    "url = 'http://api.openweathermap.org/data/2.5/weather?'+'q='+city+'&APPID=b35975e18dc93725acb092f7272cc6b8&units=metric'"
   ]
  },
  {
   "cell_type": "code",
   "execution_count": null,
   "metadata": {},
   "outputs": [],
   "source": [
    "# your code"
   ]
  },
  {
   "cell_type": "markdown",
   "metadata": {},
   "source": [
    "#### Book name,price and stock availability as a pandas dataframe."
   ]
  },
  {
   "cell_type": "code",
   "execution_count": null,
   "metadata": {},
   "outputs": [],
   "source": [
    "# This is the url you will scrape in this exercise. \n",
    "# It is a fictional bookstore created to be scraped. \n",
    "url = 'http://books.toscrape.com/'"
   ]
  },
  {
   "cell_type": "code",
   "execution_count": null,
   "metadata": {},
   "outputs": [],
   "source": [
    "#your code"
   ]
  }
 ],
 "metadata": {
  "kernelspec": {
   "display_name": "Python 3 (ipykernel)",
   "language": "python",
   "name": "python3"
  },
  "language_info": {
   "codemirror_mode": {
    "name": "ipython",
    "version": 3
   },
   "file_extension": ".py",
   "mimetype": "text/x-python",
   "name": "python",
   "nbconvert_exporter": "python",
   "pygments_lexer": "ipython3",
   "version": "3.7.16"
  }
 },
 "nbformat": 4,
 "nbformat_minor": 2
}
