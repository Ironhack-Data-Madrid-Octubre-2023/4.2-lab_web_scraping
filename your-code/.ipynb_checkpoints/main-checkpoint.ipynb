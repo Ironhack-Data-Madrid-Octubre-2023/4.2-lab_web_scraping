{
 "cells": [
  {
   "cell_type": "markdown",
   "metadata": {},
   "source": [
    "# Web Scraping Lab\n",
    "\n",
    "You will find in this notebook some scrapy exercises to practise your scraping skills.\n",
    "\n",
    "**Tips:**\n",
    "\n",
    "- Check the response status code for each request to ensure you have obtained the intended contennt.\n",
    "- Print the response text in each request to understand the kind of info you are getting and its format.\n",
    "- Check for patterns in the response text to extract the data/info requested in each question.\n",
    "- Visit each url and take a look at its source through Chrome DevTools. You'll need to identify the html tags, special class names etc. used for the html content you are expected to extract."
   ]
  },
  {
   "cell_type": "markdown",
   "metadata": {},
   "source": [
    "- [Requests library](http://docs.python-requests.org/en/master/#the-user-guide) documentation \n",
    "- [Beautiful Soup Doc](https://www.crummy.com/software/BeautifulSoup/bs4/doc/)\n",
    "- [Urllib](https://docs.python.org/3/library/urllib.html#module-urllib)\n",
    "- [re lib](https://docs.python.org/3/library/re.html)\n",
    "- [lxml lib](https://lxml.de/)\n",
    "- [Scrapy](https://scrapy.org/)\n",
    "- [List of HTTP status codes](https://en.wikipedia.org/wiki/List_of_HTTP_status_codes)\n",
    "- [HTML basics](http://www.simplehtmlguide.com/cheatsheet.php)\n",
    "- [CSS basics](https://www.cssbasics.com/#page_start)"
   ]
  },
  {
   "cell_type": "markdown",
   "metadata": {},
   "source": [
    "#### Below are the libraries and modules you may need. `requests`,  `BeautifulSoup` and `pandas` are imported for you. If you prefer to use additional libraries feel free to uncomment them."
   ]
  },
  {
   "cell_type": "code",
   "execution_count": 1,
   "metadata": {},
   "outputs": [],
   "source": [
    "#%pip install beautifulsoup4\n",
    "import requests as req\n",
    "from bs4 import BeautifulSoup as bs\n",
    "import pandas as pd\n",
    "# from pprint import pprint\n",
    "# from lxml import html\n",
    "# from lxml.html import fromstring\n",
    "# import urllib.request\n",
    "# from urllib.request import urlopen\n",
    "# import random\n",
    "# import re\n",
    "# import scrapy"
   ]
  },
  {
   "cell_type": "markdown",
   "metadata": {},
   "source": [
    "#### Download, parse (using BeautifulSoup), and print the content from the Trending Developers page from GitHub:"
   ]
  },
  {
   "cell_type": "code",
   "execution_count": null,
   "metadata": {},
   "outputs": [],
   "source": [
    "# This is the url you will scrape in this exercise\n",
    "url = 'https://github.com/trending/developers'"
   ]
  },
  {
   "cell_type": "code",
   "execution_count": null,
   "metadata": {},
   "outputs": [],
   "source": [
    "html = req.get(url).text\n",
    "\n",
    "html"
   ]
  },
  {
   "cell_type": "markdown",
   "metadata": {},
   "source": [
    "#### Display the names of the trending developers retrieved in the previous step.\n",
    "\n",
    "Your output should be a Python list of developer names. Each name should not contain any html tag.\n",
    "\n",
    "**Instructions:**\n",
    "\n",
    "1. Find out the html tag and class names used for the developer names. You can achieve this using Chrome DevTools.\n",
    "\n",
    "1. Use BeautifulSoup to extract all the html elements that contain the developer names.\n",
    "\n",
    "1. Use string manipulation techniques to replace whitespaces and linebreaks (i.e. `\\n`) in the *text* of each html element. Use a list to store the clean names.\n",
    "\n",
    "1. Print the list of names.\n",
    "\n",
    "Your output should look like below:\n",
    "\n",
    "```\n",
    "['trimstray (@trimstray)',\n",
    " 'joewalnes (JoeWalnes)',\n",
    " 'charlax (Charles-AxelDein)',\n",
    " 'ForrestKnight (ForrestKnight)',\n",
    " 'revery-ui (revery-ui)',\n",
    " 'alibaba (Alibaba)',\n",
    " 'Microsoft (Microsoft)',\n",
    " 'github (GitHub)',\n",
    " 'facebook (Facebook)',\n",
    " 'boazsegev (Bo)',\n",
    " 'google (Google)',\n",
    " 'cloudfetch',\n",
    " 'sindresorhus (SindreSorhus)',\n",
    " 'tensorflow',\n",
    " 'apache (TheApacheSoftwareFoundation)',\n",
    " 'DevonCrawford (DevonCrawford)',\n",
    " 'ARMmbed (ArmMbed)',\n",
    " 'vuejs (vuejs)',\n",
    " 'fastai (fast.ai)',\n",
    " 'QiShaoXuan (Qi)',\n",
    " 'joelparkerhenderson (JoelParkerHenderson)',\n",
    " 'torvalds (LinusTorvalds)',\n",
    " 'CyC2018',\n",
    " 'komeiji-satori (神楽坂覚々)',\n",
    " 'script-8']\n",
    " ```"
   ]
  },
  {
   "cell_type": "code",
   "execution_count": null,
   "metadata": {},
   "outputs": [],
   "source": [
    "soup = bs(html, 'html.parser')\n",
    "\n",
    "\n",
    "nombres = soup.find_all('h1', class_ = 'h3 lh-condensed')\n",
    "\n",
    "alias = soup.find_all('p',  class_ = 'f4 text-normal mb-1')"
   ]
  },
  {
   "cell_type": "code",
   "execution_count": null,
   "metadata": {},
   "outputs": [],
   "source": [
    "nom = []\n",
    "aka = []\n",
    "\n",
    "\n",
    "for e in nombres:\n",
    "    nom.append(e.text.strip()) \n",
    "    \n",
    "\n",
    "for e in alias:\n",
    "    aka.append(e.text.strip())"
   ]
  },
  {
   "cell_type": "code",
   "execution_count": null,
   "metadata": {},
   "outputs": [],
   "source": [
    "# Después de intentarlo de mil maneras, no soy capaz de que coincidan los nombres con los alias para sacarlos\n",
    "# en un diccionario\n"
   ]
  },
  {
   "cell_type": "markdown",
   "metadata": {},
   "source": [
    "#### Display the trending Python repositories in GitHub\n",
    "\n",
    "The steps to solve this problem is similar to the previous one except that you need to find out the repository names instead of developer names."
   ]
  },
  {
   "cell_type": "code",
   "execution_count": null,
   "metadata": {},
   "outputs": [],
   "source": [
    "# This is the url you will scrape in this exercise\n",
    "url = 'https://github.com/trending/python?since=daily'\n",
    "\n",
    "web = req.get(url).text\n",
    "\n",
    "soup = bs(web, 'html.parser')\n",
    "\n",
    "repo = soup.find_all('h2', class_ = 'h3 lh-condensed')\n",
    "\n",
    "\n",
    "repos =[]\n",
    "for i in repo:\n",
    "    repos.append(i.text.strip())\n",
    "\n",
    "        \n",
    "    \n",
    "for i in range(len(repos)):\n",
    "    if '\\n' in repos[i]:\n",
    "        repos[i] = repos[i].replace('\\n', '')\n",
    "        repos[i] = repos[i].replace('     ', '')\n",
    "\n",
    "repos"
   ]
  },
  {
   "cell_type": "markdown",
   "metadata": {},
   "source": [
    "#### Display all the image links from Walt Disney wikipedia page"
   ]
  },
  {
   "cell_type": "code",
   "execution_count": null,
   "metadata": {},
   "outputs": [],
   "source": [
    "# This is the url you will scrape in this exercise\n",
    "url = 'https://en.wikipedia.org/wiki/Walt_Disney'\n",
    "\n",
    "wiki = req.get(url).text\n",
    "\n",
    "soup = bs(wiki, 'html.parser')\n",
    "\n",
    "\n",
    "links = soup.find_all('img')\n",
    "\n",
    "for i in links:\n",
    "    imagen = i['src']\n",
    "    print(imagen)"
   ]
  },
  {
   "cell_type": "markdown",
   "metadata": {},
   "source": [
    "#### Retrieve an arbitary Wikipedia page of \"Python\" and create a list of links on that page"
   ]
  },
  {
   "cell_type": "code",
   "execution_count": null,
   "metadata": {},
   "outputs": [],
   "source": [
    "# This is the url you will scrape in this exercise\n",
    "url ='https://en.wikipedia.org/wiki/Python' \n",
    "\n",
    "html = req.get(url).text\n",
    "soup = bs(html, 'html.parser')\n",
    "li = soup.find('div', class_ = 'mw-body-content mw-content-ltr').find_all('li')\n",
    "\n",
    "len(li)"
   ]
  },
  {
   "cell_type": "code",
   "execution_count": null,
   "metadata": {},
   "outputs": [],
   "source": [
    "links = []\n",
    "\n",
    "for e in li:\n",
    "    a = e.find('a')\n",
    "    href = a.attrs['href']\n",
    "    links.append(href)\n",
    "print(links)\n",
    "len(links)"
   ]
  },
  {
   "cell_type": "markdown",
   "metadata": {},
   "source": [
    "#### Number of Titles that have changed in the United States Code since its last release point "
   ]
  },
  {
   "cell_type": "code",
   "execution_count": null,
   "metadata": {},
   "outputs": [],
   "source": [
    "# This is the url you will scrape in this exercise\n",
    "url = 'http://uscode.house.gov/download/download.shtml'"
   ]
  },
  {
   "cell_type": "code",
   "execution_count": null,
   "metadata": {},
   "outputs": [],
   "source": [
    "html = req.get(url).text\n",
    "soup = bs(html, 'html.parser')\n",
    "\n",
    "titles = soup.find_all('div', class_ = 'usctitlechanged')\n",
    "\n",
    "\n",
    "titles_changed = []\n",
    "for i in titles:\n",
    "    titles_changed.append(i.text.strip())\n",
    "titles = []\n",
    "for char in titles_changed:\n",
    "        titles.append(char.split(' - ')[0])\n",
    "    \n",
    "    \n",
    "print(titles)"
   ]
  },
  {
   "cell_type": "markdown",
   "metadata": {},
   "source": [
    "#### A Python list with the top ten FBI's Most Wanted names "
   ]
  },
  {
   "cell_type": "code",
   "execution_count": null,
   "metadata": {},
   "outputs": [],
   "source": [
    "# This is the url you will scrape in this exercise\n",
    "url = 'https://www.fbi.gov/wanted/topten'"
   ]
  },
  {
   "cell_type": "code",
   "execution_count": null,
   "metadata": {},
   "outputs": [],
   "source": [
    "# No se hace"
   ]
  },
  {
   "cell_type": "markdown",
   "metadata": {},
   "source": [
    "####  20 latest earthquakes info (date, time, latitude, longitude and region name) by the EMSC as a pandas dataframe"
   ]
  },
  {
   "cell_type": "code",
   "execution_count": null,
   "metadata": {},
   "outputs": [],
   "source": [
    "# This is the url you will scrape in this exercise\n",
    "url = 'https://www.emsc-csem.org/Earthquake/'"
   ]
  },
  {
   "cell_type": "code",
   "execution_count": null,
   "metadata": {},
   "outputs": [],
   "source": [
    "# No se hace"
   ]
  },
  {
   "cell_type": "markdown",
   "metadata": {},
   "source": [
    "#### Display the date, days, title, city, country of next 25 hackathon events as a Pandas dataframe table"
   ]
  },
  {
   "cell_type": "code",
   "execution_count": null,
   "metadata": {},
   "outputs": [],
   "source": [
    "# This is the url you will scrape in this exercise\n",
    "url ='https://hackevents.co/hackathons'"
   ]
  },
  {
   "cell_type": "code",
   "execution_count": null,
   "metadata": {},
   "outputs": [],
   "source": [
    "# No se hace"
   ]
  },
  {
   "cell_type": "markdown",
   "metadata": {},
   "source": [
    "#### Count number of tweets by a given Twitter account."
   ]
  },
  {
   "cell_type": "markdown",
   "metadata": {},
   "source": [
    "You will need to include a ***try/except block*** for account names not found. \n",
    "<br>***Hint:*** the program should count the number of tweets for any provided account"
   ]
  },
  {
   "cell_type": "code",
   "execution_count": null,
   "metadata": {},
   "outputs": [],
   "source": [
    "# This is the url you will scrape in this exercise \n",
    "# You will need to add the account credentials to this url\n",
    "url = 'https://twitter.com/'"
   ]
  },
  {
   "cell_type": "code",
   "execution_count": null,
   "metadata": {},
   "outputs": [],
   "source": [
    "# No se hace"
   ]
  },
  {
   "cell_type": "markdown",
   "metadata": {},
   "source": [
    "#### Number of followers of a given twitter account"
   ]
  },
  {
   "cell_type": "markdown",
   "metadata": {},
   "source": [
    "You will need to include a ***try/except block*** in case account/s name not found. \n",
    "<br>***Hint:*** the program should count the followers for any provided account"
   ]
  },
  {
   "cell_type": "code",
   "execution_count": null,
   "metadata": {},
   "outputs": [],
   "source": [
    "# This is the url you will scrape in this exercise \n",
    "# You will need to add the account credentials to this url\n",
    "url = 'https://twitter.com/'"
   ]
  },
  {
   "cell_type": "code",
   "execution_count": null,
   "metadata": {},
   "outputs": [],
   "source": [
    "# No se hace"
   ]
  },
  {
   "cell_type": "markdown",
   "metadata": {},
   "source": [
    "#### List all language names and number of related articles in the order they appear in wikipedia.org"
   ]
  },
  {
   "cell_type": "code",
   "execution_count": null,
   "metadata": {},
   "outputs": [],
   "source": [
    "# This is the url you will scrape in this exercise\n",
    "url = 'https://www.wikipedia.org/'\n",
    "\n",
    "html = req.get(url).text\n",
    "soup = bs(html, 'html.parser')\n",
    "\n",
    "total_info = soup.find_all('a', class_ = 'link-box')\n",
    "\n",
    "\n",
    "total = []\n",
    "for i in total_info:\n",
    "    languages = i.find('strong').text.strip()\n",
    "    articles = i.find('small').text.strip()\n",
    "    articles = articles.replace('\\xa0', '')\n",
    "    total.append((languages, articles))\n",
    "    \n",
    "print(total)\n",
    "\n",
    "\n",
    "\n",
    "#len(total_info) # esto es el nº de idiomas que hay\n"
   ]
  },
  {
   "cell_type": "markdown",
   "metadata": {},
   "source": [
    "#### A list with the different kind of datasets available in data.gov.uk "
   ]
  },
  {
   "cell_type": "code",
   "execution_count": 45,
   "metadata": {},
   "outputs": [
    {
     "data": {
      "text/plain": [
       "['',\n",
       " '',\n",
       " 'Business and economy',\n",
       " 'Small businesses, industry, imports, exports and trade',\n",
       " '',\n",
       " '',\n",
       " 'Crime and justice',\n",
       " 'Courts, police, prison, offenders, borders and immigration',\n",
       " '',\n",
       " '',\n",
       " 'Defence',\n",
       " 'Armed forces, health and safety, search and rescue',\n",
       " '',\n",
       " '',\n",
       " 'Education',\n",
       " 'Students, training, qualifications and the National Curriculum',\n",
       " '',\n",
       " '',\n",
       " 'Environment',\n",
       " 'Weather, flooding, rivers, air quality, geology and agriculture',\n",
       " '',\n",
       " '',\n",
       " 'Government',\n",
       " 'Staff numbers and pay, local councillors and department business plans',\n",
       " '',\n",
       " '',\n",
       " 'Government spending',\n",
       " 'Includes all payments by government departments over £25,000',\n",
       " '',\n",
       " '',\n",
       " 'Health',\n",
       " 'Includes smoking, drugs, alcohol, medicine performance and hospitals',\n",
       " '',\n",
       " '',\n",
       " 'Mapping',\n",
       " 'Addresses, boundaries, land ownership, aerial photographs, seabed and land terrain',\n",
       " '',\n",
       " '',\n",
       " 'Society',\n",
       " 'Employment, benefits, household finances, poverty and population',\n",
       " '',\n",
       " '',\n",
       " 'Towns and cities',\n",
       " 'Includes housing, urban planning, leisure, waste and energy, consumption',\n",
       " '',\n",
       " '',\n",
       " 'Transport',\n",
       " 'Airports, roads, freight, electric vehicles, parking, buses and footpaths',\n",
       " '',\n",
       " '',\n",
       " 'Digital service performance',\n",
       " 'Cost, usage, completion rate, digital take-up, satisfaction',\n",
       " '',\n",
       " '',\n",
       " 'Government reference data',\n",
       " 'Trusted data that is referenced and shared across government departments',\n",
       " '',\n",
       " '']"
      ]
     },
     "execution_count": 45,
     "metadata": {},
     "output_type": "execute_result"
    }
   ],
   "source": [
    "# This is the url you will scrape in this exercise\n",
    "url = 'https://data.gov.uk/'\n",
    "\n",
    "html = req.get(url).text\n",
    "soup = bs(html, 'html.parser')\n",
    "\n",
    "data = soup.find('ul', class_ = 'govuk-list dgu-topics__list').text.split('\\n')\n",
    "data"
   ]
  },
  {
   "cell_type": "code",
   "execution_count": 46,
   "metadata": {},
   "outputs": [
    {
     "data": {
      "text/plain": [
       "{'Business and economy': 'Small businesses, industry, imports, exports and trade',\n",
       " 'Crime and justice': 'Courts, police, prison, offenders, borders and immigration',\n",
       " 'Defence': 'Armed forces, health and safety, search and rescue',\n",
       " 'Education': 'Students, training, qualifications and the National Curriculum',\n",
       " 'Environment': 'Weather, flooding, rivers, air quality, geology and agriculture',\n",
       " 'Government': 'Staff numbers and pay, local councillors and department business plans',\n",
       " 'Government spending': 'Includes all payments by government departments over £25,000',\n",
       " 'Health': 'Includes smoking, drugs, alcohol, medicine performance and hospitals',\n",
       " 'Mapping': 'Addresses, boundaries, land ownership, aerial photographs, seabed and land terrain',\n",
       " 'Society': 'Employment, benefits, household finances, poverty and population',\n",
       " 'Towns and cities': 'Includes housing, urban planning, leisure, waste and energy, consumption',\n",
       " 'Transport': 'Airports, roads, freight, electric vehicles, parking, buses and footpaths',\n",
       " 'Digital service performance': 'Cost, usage, completion rate, digital take-up, satisfaction',\n",
       " 'Government reference data': 'Trusted data that is referenced and shared across government departments'}"
      ]
     },
     "execution_count": 46,
     "metadata": {},
     "output_type": "execute_result"
    }
   ],
   "source": [
    "new_data = [i for i in data if i != '']\n",
    "\n",
    "grupo = {}\n",
    "\n",
    "for i in range(0, len(new_data), 2):\n",
    "    key = new_data[i]\n",
    "    value = new_data[i + 1]\n",
    "    grupo[key] = value\n",
    "grupo"
   ]
  },
  {
   "cell_type": "markdown",
   "metadata": {},
   "source": [
    "#### Top 10 languages by number of native speakers stored in a Pandas Dataframe"
   ]
  },
  {
   "cell_type": "code",
   "execution_count": 47,
   "metadata": {},
   "outputs": [],
   "source": [
    "# This is the url you will scrape in this exercise\n",
    "url = 'https://en.wikipedia.org/wiki/List_of_languages_by_number_of_native_speakers'\n",
    "\n",
    "html = req.get(url).text\n",
    "soup = bs(html, 'html.parser')"
   ]
  },
  {
   "cell_type": "code",
   "execution_count": 48,
   "metadata": {},
   "outputs": [
    {
     "data": {
      "text/html": [
       "<div>\n",
       "<style scoped>\n",
       "    .dataframe tbody tr th:only-of-type {\n",
       "        vertical-align: middle;\n",
       "    }\n",
       "\n",
       "    .dataframe tbody tr th {\n",
       "        vertical-align: top;\n",
       "    }\n",
       "\n",
       "    .dataframe thead th {\n",
       "        text-align: right;\n",
       "    }\n",
       "</style>\n",
       "<table border=\"1\" class=\"dataframe\">\n",
       "  <thead>\n",
       "    <tr style=\"text-align: right;\">\n",
       "      <th></th>\n",
       "      <th>0</th>\n",
       "      <th>1</th>\n",
       "      <th>2</th>\n",
       "      <th>3</th>\n",
       "      <th>4</th>\n",
       "      <th>5</th>\n",
       "      <th>6</th>\n",
       "      <th>7</th>\n",
       "      <th>8</th>\n",
       "      <th>9</th>\n",
       "      <th>...</th>\n",
       "      <th>37</th>\n",
       "      <th>38</th>\n",
       "      <th>39</th>\n",
       "      <th>40</th>\n",
       "      <th>41</th>\n",
       "      <th>42</th>\n",
       "      <th>43</th>\n",
       "      <th>44</th>\n",
       "      <th>45</th>\n",
       "      <th>46</th>\n",
       "    </tr>\n",
       "  </thead>\n",
       "  <tbody>\n",
       "    <tr>\n",
       "      <th>0</th>\n",
       "      <td></td>\n",
       "      <td>Language</td>\n",
       "      <td></td>\n",
       "      <td>Native speakers(millions)</td>\n",
       "      <td></td>\n",
       "      <td>Language family</td>\n",
       "      <td></td>\n",
       "      <td>Branch</td>\n",
       "      <td></td>\n",
       "      <td>None</td>\n",
       "      <td>...</td>\n",
       "      <td>None</td>\n",
       "      <td>None</td>\n",
       "      <td>None</td>\n",
       "      <td>None</td>\n",
       "      <td>None</td>\n",
       "      <td>None</td>\n",
       "      <td>None</td>\n",
       "      <td>None</td>\n",
       "      <td>None</td>\n",
       "      <td>None</td>\n",
       "    </tr>\n",
       "    <tr>\n",
       "      <th>1</th>\n",
       "      <td></td>\n",
       "      <td>Mandarin Chinese(incl. Standard Chinese, but e...</td>\n",
       "      <td></td>\n",
       "      <td>939</td>\n",
       "      <td></td>\n",
       "      <td>Sino-Tibetan</td>\n",
       "      <td></td>\n",
       "      <td>Sinitic</td>\n",
       "      <td></td>\n",
       "      <td>None</td>\n",
       "      <td>...</td>\n",
       "      <td>None</td>\n",
       "      <td>None</td>\n",
       "      <td>None</td>\n",
       "      <td>None</td>\n",
       "      <td>None</td>\n",
       "      <td>None</td>\n",
       "      <td>None</td>\n",
       "      <td>None</td>\n",
       "      <td>None</td>\n",
       "      <td>None</td>\n",
       "    </tr>\n",
       "    <tr>\n",
       "      <th>2</th>\n",
       "      <td></td>\n",
       "      <td>Spanish</td>\n",
       "      <td></td>\n",
       "      <td>485</td>\n",
       "      <td></td>\n",
       "      <td>Indo-European</td>\n",
       "      <td></td>\n",
       "      <td>Romance</td>\n",
       "      <td></td>\n",
       "      <td>None</td>\n",
       "      <td>...</td>\n",
       "      <td>None</td>\n",
       "      <td>None</td>\n",
       "      <td>None</td>\n",
       "      <td>None</td>\n",
       "      <td>None</td>\n",
       "      <td>None</td>\n",
       "      <td>None</td>\n",
       "      <td>None</td>\n",
       "      <td>None</td>\n",
       "      <td>None</td>\n",
       "    </tr>\n",
       "    <tr>\n",
       "      <th>3</th>\n",
       "      <td></td>\n",
       "      <td>English</td>\n",
       "      <td></td>\n",
       "      <td>380</td>\n",
       "      <td></td>\n",
       "      <td>Indo-European</td>\n",
       "      <td></td>\n",
       "      <td>Germanic</td>\n",
       "      <td></td>\n",
       "      <td>None</td>\n",
       "      <td>...</td>\n",
       "      <td>None</td>\n",
       "      <td>None</td>\n",
       "      <td>None</td>\n",
       "      <td>None</td>\n",
       "      <td>None</td>\n",
       "      <td>None</td>\n",
       "      <td>None</td>\n",
       "      <td>None</td>\n",
       "      <td>None</td>\n",
       "      <td>None</td>\n",
       "    </tr>\n",
       "    <tr>\n",
       "      <th>4</th>\n",
       "      <td></td>\n",
       "      <td>Hindi(excl. Urdu, and other languages)</td>\n",
       "      <td></td>\n",
       "      <td>345</td>\n",
       "      <td></td>\n",
       "      <td>Indo-European</td>\n",
       "      <td></td>\n",
       "      <td>Indo-Aryan</td>\n",
       "      <td></td>\n",
       "      <td>None</td>\n",
       "      <td>...</td>\n",
       "      <td>None</td>\n",
       "      <td>None</td>\n",
       "      <td>None</td>\n",
       "      <td>None</td>\n",
       "      <td>None</td>\n",
       "      <td>None</td>\n",
       "      <td>None</td>\n",
       "      <td>None</td>\n",
       "      <td>None</td>\n",
       "      <td>None</td>\n",
       "    </tr>\n",
       "    <tr>\n",
       "      <th>5</th>\n",
       "      <td></td>\n",
       "      <td>Portuguese</td>\n",
       "      <td></td>\n",
       "      <td>236</td>\n",
       "      <td></td>\n",
       "      <td>Indo-European</td>\n",
       "      <td></td>\n",
       "      <td>Romance</td>\n",
       "      <td></td>\n",
       "      <td>None</td>\n",
       "      <td>...</td>\n",
       "      <td>None</td>\n",
       "      <td>None</td>\n",
       "      <td>None</td>\n",
       "      <td>None</td>\n",
       "      <td>None</td>\n",
       "      <td>None</td>\n",
       "      <td>None</td>\n",
       "      <td>None</td>\n",
       "      <td>None</td>\n",
       "      <td>None</td>\n",
       "    </tr>\n",
       "    <tr>\n",
       "      <th>6</th>\n",
       "      <td></td>\n",
       "      <td>Bengali</td>\n",
       "      <td></td>\n",
       "      <td>234</td>\n",
       "      <td></td>\n",
       "      <td>Indo-European</td>\n",
       "      <td></td>\n",
       "      <td>Indo-Aryan</td>\n",
       "      <td></td>\n",
       "      <td>None</td>\n",
       "      <td>...</td>\n",
       "      <td>None</td>\n",
       "      <td>None</td>\n",
       "      <td>None</td>\n",
       "      <td>None</td>\n",
       "      <td>None</td>\n",
       "      <td>None</td>\n",
       "      <td>None</td>\n",
       "      <td>None</td>\n",
       "      <td>None</td>\n",
       "      <td>None</td>\n",
       "    </tr>\n",
       "    <tr>\n",
       "      <th>7</th>\n",
       "      <td></td>\n",
       "      <td>Russian</td>\n",
       "      <td></td>\n",
       "      <td>147</td>\n",
       "      <td></td>\n",
       "      <td>Indo-European</td>\n",
       "      <td></td>\n",
       "      <td>Balto-Slavic</td>\n",
       "      <td></td>\n",
       "      <td>None</td>\n",
       "      <td>...</td>\n",
       "      <td>None</td>\n",
       "      <td>None</td>\n",
       "      <td>None</td>\n",
       "      <td>None</td>\n",
       "      <td>None</td>\n",
       "      <td>None</td>\n",
       "      <td>None</td>\n",
       "      <td>None</td>\n",
       "      <td>None</td>\n",
       "      <td>None</td>\n",
       "    </tr>\n",
       "    <tr>\n",
       "      <th>8</th>\n",
       "      <td></td>\n",
       "      <td>Japanese</td>\n",
       "      <td></td>\n",
       "      <td>123</td>\n",
       "      <td></td>\n",
       "      <td>Japonic</td>\n",
       "      <td></td>\n",
       "      <td>Japanese</td>\n",
       "      <td></td>\n",
       "      <td>None</td>\n",
       "      <td>...</td>\n",
       "      <td>None</td>\n",
       "      <td>None</td>\n",
       "      <td>None</td>\n",
       "      <td>None</td>\n",
       "      <td>None</td>\n",
       "      <td>None</td>\n",
       "      <td>None</td>\n",
       "      <td>None</td>\n",
       "      <td>None</td>\n",
       "      <td>None</td>\n",
       "    </tr>\n",
       "    <tr>\n",
       "      <th>9</th>\n",
       "      <td></td>\n",
       "      <td>Yue Chinese(incl. Cantonese)</td>\n",
       "      <td></td>\n",
       "      <td>86.1</td>\n",
       "      <td></td>\n",
       "      <td>Sino-Tibetan</td>\n",
       "      <td></td>\n",
       "      <td>Sinitic</td>\n",
       "      <td></td>\n",
       "      <td>None</td>\n",
       "      <td>...</td>\n",
       "      <td>None</td>\n",
       "      <td>None</td>\n",
       "      <td>None</td>\n",
       "      <td>None</td>\n",
       "      <td>None</td>\n",
       "      <td>None</td>\n",
       "      <td>None</td>\n",
       "      <td>None</td>\n",
       "      <td>None</td>\n",
       "      <td>None</td>\n",
       "    </tr>\n",
       "  </tbody>\n",
       "</table>\n",
       "<p>10 rows × 47 columns</p>\n",
       "</div>"
      ],
      "text/plain": [
       "  0                                                  1  2   \\\n",
       "0                                              Language      \n",
       "1     Mandarin Chinese(incl. Standard Chinese, but e...      \n",
       "2                                               Spanish      \n",
       "3                                               English      \n",
       "4                Hindi(excl. Urdu, and other languages)      \n",
       "5                                            Portuguese      \n",
       "6                                               Bengali      \n",
       "7                                               Russian      \n",
       "8                                              Japanese      \n",
       "9                          Yue Chinese(incl. Cantonese)      \n",
       "\n",
       "                          3  4                5  6             7  8     9   \\\n",
       "0  Native speakers(millions)     Language family           Branch     None   \n",
       "1                        939        Sino-Tibetan          Sinitic     None   \n",
       "2                        485       Indo-European          Romance     None   \n",
       "3                        380       Indo-European         Germanic     None   \n",
       "4                        345       Indo-European       Indo-Aryan     None   \n",
       "5                        236       Indo-European          Romance     None   \n",
       "6                        234       Indo-European       Indo-Aryan     None   \n",
       "7                        147       Indo-European     Balto-Slavic     None   \n",
       "8                        123             Japonic         Japanese     None   \n",
       "9                       86.1        Sino-Tibetan          Sinitic     None   \n",
       "\n",
       "   ...    37    38    39    40    41    42    43    44    45    46  \n",
       "0  ...  None  None  None  None  None  None  None  None  None  None  \n",
       "1  ...  None  None  None  None  None  None  None  None  None  None  \n",
       "2  ...  None  None  None  None  None  None  None  None  None  None  \n",
       "3  ...  None  None  None  None  None  None  None  None  None  None  \n",
       "4  ...  None  None  None  None  None  None  None  None  None  None  \n",
       "5  ...  None  None  None  None  None  None  None  None  None  None  \n",
       "6  ...  None  None  None  None  None  None  None  None  None  None  \n",
       "7  ...  None  None  None  None  None  None  None  None  None  None  \n",
       "8  ...  None  None  None  None  None  None  None  None  None  None  \n",
       "9  ...  None  None  None  None  None  None  None  None  None  None  \n",
       "\n",
       "[10 rows x 47 columns]"
      ]
     },
     "execution_count": 48,
     "metadata": {},
     "output_type": "execute_result"
    }
   ],
   "source": [
    "tabla = soup.find_all('tr')\n",
    "lang = []\n",
    "\n",
    "for fila in tabla:\n",
    "    lang.append(fila.text.split('\\n'))\n",
    "    \n",
    "lang = pd.DataFrame(lang)[:10]\n",
    "\n",
    "lang "
   ]
  },
  {
   "cell_type": "code",
   "execution_count": 49,
   "metadata": {},
   "outputs": [
    {
     "data": {
      "text/html": [
       "<div>\n",
       "<style scoped>\n",
       "    .dataframe tbody tr th:only-of-type {\n",
       "        vertical-align: middle;\n",
       "    }\n",
       "\n",
       "    .dataframe tbody tr th {\n",
       "        vertical-align: top;\n",
       "    }\n",
       "\n",
       "    .dataframe thead th {\n",
       "        text-align: right;\n",
       "    }\n",
       "</style>\n",
       "<table border=\"1\" class=\"dataframe\">\n",
       "  <thead>\n",
       "    <tr style=\"text-align: right;\">\n",
       "      <th></th>\n",
       "      <th>1</th>\n",
       "      <th>2</th>\n",
       "      <th>3</th>\n",
       "    </tr>\n",
       "  </thead>\n",
       "  <tbody>\n",
       "    <tr>\n",
       "      <th>0</th>\n",
       "      <td>Language</td>\n",
       "      <td></td>\n",
       "      <td>Native speakers(millions)</td>\n",
       "    </tr>\n",
       "    <tr>\n",
       "      <th>1</th>\n",
       "      <td>Mandarin Chinese(incl. Standard Chinese, but e...</td>\n",
       "      <td></td>\n",
       "      <td>939</td>\n",
       "    </tr>\n",
       "    <tr>\n",
       "      <th>2</th>\n",
       "      <td>Spanish</td>\n",
       "      <td></td>\n",
       "      <td>485</td>\n",
       "    </tr>\n",
       "    <tr>\n",
       "      <th>3</th>\n",
       "      <td>English</td>\n",
       "      <td></td>\n",
       "      <td>380</td>\n",
       "    </tr>\n",
       "    <tr>\n",
       "      <th>4</th>\n",
       "      <td>Hindi(excl. Urdu, and other languages)</td>\n",
       "      <td></td>\n",
       "      <td>345</td>\n",
       "    </tr>\n",
       "    <tr>\n",
       "      <th>5</th>\n",
       "      <td>Portuguese</td>\n",
       "      <td></td>\n",
       "      <td>236</td>\n",
       "    </tr>\n",
       "    <tr>\n",
       "      <th>6</th>\n",
       "      <td>Bengali</td>\n",
       "      <td></td>\n",
       "      <td>234</td>\n",
       "    </tr>\n",
       "    <tr>\n",
       "      <th>7</th>\n",
       "      <td>Russian</td>\n",
       "      <td></td>\n",
       "      <td>147</td>\n",
       "    </tr>\n",
       "    <tr>\n",
       "      <th>8</th>\n",
       "      <td>Japanese</td>\n",
       "      <td></td>\n",
       "      <td>123</td>\n",
       "    </tr>\n",
       "    <tr>\n",
       "      <th>9</th>\n",
       "      <td>Yue Chinese(incl. Cantonese)</td>\n",
       "      <td></td>\n",
       "      <td>86.1</td>\n",
       "    </tr>\n",
       "  </tbody>\n",
       "</table>\n",
       "</div>"
      ],
      "text/plain": [
       "                                                   1 2  \\\n",
       "0                                           Language     \n",
       "1  Mandarin Chinese(incl. Standard Chinese, but e...     \n",
       "2                                            Spanish     \n",
       "3                                            English     \n",
       "4             Hindi(excl. Urdu, and other languages)     \n",
       "5                                         Portuguese     \n",
       "6                                            Bengali     \n",
       "7                                            Russian     \n",
       "8                                           Japanese     \n",
       "9                       Yue Chinese(incl. Cantonese)     \n",
       "\n",
       "                           3  \n",
       "0  Native speakers(millions)  \n",
       "1                        939  \n",
       "2                        485  \n",
       "3                        380  \n",
       "4                        345  \n",
       "5                        236  \n",
       "6                        234  \n",
       "7                        147  \n",
       "8                        123  \n",
       "9                       86.1  "
      ]
     },
     "execution_count": 49,
     "metadata": {},
     "output_type": "execute_result"
    }
   ],
   "source": [
    "lang = lang.iloc[:, 1:4]\n",
    "lang"
   ]
  },
  {
   "cell_type": "code",
   "execution_count": 50,
   "metadata": {},
   "outputs": [
    {
     "data": {
      "text/html": [
       "<div>\n",
       "<style scoped>\n",
       "    .dataframe tbody tr th:only-of-type {\n",
       "        vertical-align: middle;\n",
       "    }\n",
       "\n",
       "    .dataframe tbody tr th {\n",
       "        vertical-align: top;\n",
       "    }\n",
       "\n",
       "    .dataframe thead th {\n",
       "        text-align: right;\n",
       "    }\n",
       "</style>\n",
       "<table border=\"1\" class=\"dataframe\">\n",
       "  <thead>\n",
       "    <tr style=\"text-align: right;\">\n",
       "      <th></th>\n",
       "      <th>Language</th>\n",
       "      <th>Native Speakers (millions)</th>\n",
       "    </tr>\n",
       "  </thead>\n",
       "  <tbody>\n",
       "    <tr>\n",
       "      <th>1</th>\n",
       "      <td>Mandarin Chinese(incl. Standard Chinese, but e...</td>\n",
       "      <td>939</td>\n",
       "    </tr>\n",
       "    <tr>\n",
       "      <th>2</th>\n",
       "      <td>Spanish</td>\n",
       "      <td>485</td>\n",
       "    </tr>\n",
       "    <tr>\n",
       "      <th>3</th>\n",
       "      <td>English</td>\n",
       "      <td>380</td>\n",
       "    </tr>\n",
       "    <tr>\n",
       "      <th>4</th>\n",
       "      <td>Hindi(excl. Urdu, and other languages)</td>\n",
       "      <td>345</td>\n",
       "    </tr>\n",
       "    <tr>\n",
       "      <th>5</th>\n",
       "      <td>Portuguese</td>\n",
       "      <td>236</td>\n",
       "    </tr>\n",
       "    <tr>\n",
       "      <th>6</th>\n",
       "      <td>Bengali</td>\n",
       "      <td>234</td>\n",
       "    </tr>\n",
       "    <tr>\n",
       "      <th>7</th>\n",
       "      <td>Russian</td>\n",
       "      <td>147</td>\n",
       "    </tr>\n",
       "    <tr>\n",
       "      <th>8</th>\n",
       "      <td>Japanese</td>\n",
       "      <td>123</td>\n",
       "    </tr>\n",
       "    <tr>\n",
       "      <th>9</th>\n",
       "      <td>Yue Chinese(incl. Cantonese)</td>\n",
       "      <td>86.1</td>\n",
       "    </tr>\n",
       "  </tbody>\n",
       "</table>\n",
       "</div>"
      ],
      "text/plain": [
       "                                            Language  \\\n",
       "1  Mandarin Chinese(incl. Standard Chinese, but e...   \n",
       "2                                            Spanish   \n",
       "3                                            English   \n",
       "4             Hindi(excl. Urdu, and other languages)   \n",
       "5                                         Portuguese   \n",
       "6                                            Bengali   \n",
       "7                                            Russian   \n",
       "8                                           Japanese   \n",
       "9                       Yue Chinese(incl. Cantonese)   \n",
       "\n",
       "  Native Speakers (millions)  \n",
       "1                        939  \n",
       "2                        485  \n",
       "3                        380  \n",
       "4                        345  \n",
       "5                        236  \n",
       "6                        234  \n",
       "7                        147  \n",
       "8                        123  \n",
       "9                       86.1  "
      ]
     },
     "execution_count": 50,
     "metadata": {},
     "output_type": "execute_result"
    }
   ],
   "source": [
    "lang = lang.drop(2, axis= 1)\n",
    "lang = lang.drop(0, axis= 0)\n",
    "\n",
    "lang.columns = ['Language', 'Native Speakers (millions)']\n",
    "\n",
    "lang"
   ]
  },
  {
   "cell_type": "markdown",
   "metadata": {},
   "source": [
    "### BONUS QUESTIONS"
   ]
  },
  {
   "cell_type": "markdown",
   "metadata": {},
   "source": [
    "#### Scrape a certain number of tweets of a given Twitter account."
   ]
  },
  {
   "cell_type": "code",
   "execution_count": null,
   "metadata": {},
   "outputs": [],
   "source": [
    "# This is the url you will scrape in this exercise \n",
    "# You will need to add the account credentials to this url\n",
    "url = 'https://twitter.com/'"
   ]
  },
  {
   "cell_type": "code",
   "execution_count": null,
   "metadata": {},
   "outputs": [],
   "source": [
    "# your code"
   ]
  },
  {
   "cell_type": "markdown",
   "metadata": {},
   "source": [
    "#### IMDB's Top 250 data (movie name, Initial release, director name and stars) as a pandas dataframe"
   ]
  },
  {
   "cell_type": "code",
   "execution_count": null,
   "metadata": {},
   "outputs": [],
   "source": [
    "# This is the url you will scrape in this exercise \n",
    "url = 'https://www.imdb.com/chart/top'"
   ]
  },
  {
   "cell_type": "code",
   "execution_count": null,
   "metadata": {},
   "outputs": [],
   "source": [
    "# your code"
   ]
  },
  {
   "cell_type": "markdown",
   "metadata": {},
   "source": [
    "#### Movie name, year and a brief summary of the top 10 random movies (IMDB) as a pandas dataframe."
   ]
  },
  {
   "cell_type": "code",
   "execution_count": null,
   "metadata": {},
   "outputs": [],
   "source": [
    "#This is the url you will scrape in this exercise\n",
    "url = 'http://www.imdb.com/chart/top'"
   ]
  },
  {
   "cell_type": "code",
   "execution_count": null,
   "metadata": {},
   "outputs": [],
   "source": [
    "# No se puede hacer con html"
   ]
  },
  {
   "cell_type": "markdown",
   "metadata": {},
   "source": [
    "#### Find the live weather report (temperature, wind speed, description and weather) of a given city."
   ]
  },
  {
   "cell_type": "code",
   "execution_count": null,
   "metadata": {},
   "outputs": [],
   "source": [
    "#https://openweathermap.org/current\n",
    "city = city=input('Enter the city:')\n",
    "url = 'http://api.openweathermap.org/data/2.5/weather?'+'q='+city+'&APPID=b35975e18dc93725acb092f7272cc6b8&units=metric'"
   ]
  },
  {
   "cell_type": "code",
   "execution_count": null,
   "metadata": {},
   "outputs": [],
   "source": [
    "# your code"
   ]
  },
  {
   "cell_type": "markdown",
   "metadata": {},
   "source": [
    "#### Book name,price and stock availability as a pandas dataframe."
   ]
  },
  {
   "cell_type": "code",
   "execution_count": null,
   "metadata": {},
   "outputs": [],
   "source": [
    "# This is the url you will scrape in this exercise. \n",
    "# It is a fictional bookstore created to be scraped. \n",
    "url = 'http://books.toscrape.com/'"
   ]
  },
  {
   "cell_type": "code",
   "execution_count": null,
   "metadata": {},
   "outputs": [],
   "source": [
    "#your code"
   ]
  }
 ],
 "metadata": {
  "kernelspec": {
   "display_name": "Python 3 (ipykernel)",
   "language": "python",
   "name": "python3"
  },
  "language_info": {
   "codemirror_mode": {
    "name": "ipython",
    "version": 3
   },
   "file_extension": ".py",
   "mimetype": "text/x-python",
   "name": "python",
   "nbconvert_exporter": "python",
   "pygments_lexer": "ipython3",
   "version": "3.11.4"
  }
 },
 "nbformat": 4,
 "nbformat_minor": 2
}
